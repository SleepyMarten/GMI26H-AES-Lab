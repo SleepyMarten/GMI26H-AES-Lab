{
 "cells": [
  {
   "cell_type": "markdown",
   "metadata": {},
   "source": [
    "## Cryptography GMI26H\n",
    "# Dalarna University, \n",
    "# Autumn 2022\n",
    "# Advanced Encyption Standard (AES)\n",
    "### Deadline: 27 October, 2022, 23:59 CET time\n",
    "\n",
    "### --------------------------------------------------------------------------------------------------------------------------------------------------------------\n",
    "\n",
    "### Student name: Atichoke Nantarat\n",
    "### Student ID: H20atina\n",
    "### University email address:H20atina@du.se\n",
    "### --------------------------------------------------------------------------------------------------------------------------------------------------------------"
   ]
  },
  {
   "cell_type": "markdown",
   "metadata": {},
   "source": [
    "This document is a Jupyter notebook which will be used during the whole course. Students will run one lab every week as follows:\n",
    "\n",
    "Week 3 of the course Lab 1\n",
    "\n",
    "Week 4 of the course Lab 2\n",
    "\n",
    "Week 5 of the course Lab 3\n",
    "\n",
    "Week 6 of the course Lab 4, 5, and 6"
   ]
  },
  {
   "cell_type": "markdown",
   "metadata": {},
   "source": [
    "## Cryptography Lab 1"
   ]
  },
  {
   "cell_type": "markdown",
   "metadata": {},
   "source": [
    "## \n",
    "## 1. Key:"
   ]
  },
  {
   "cell_type": "markdown",
   "metadata": {},
   "source": [
    "In the file **testKey**, a test key is provided. testKey is in plain text but represents bytes. Since AES-256 uses a key that is 256 bit long it corresponds to a key that is 256/8 bytes long. That is, the key is 32 bytes long, where each byte is encoded as two characters in hexadecimals. That is, the 256-bit key is represented as a string of length 64 hexamdecimal characters. <font color=red>We want the key to be transformed into a list of hexadecimal integers.</font>"
   ]
  },
  {
   "cell_type": "markdown",
   "metadata": {},
   "source": [
    "**Method: getKey(filename)**\n",
    "\n",
    "Create the method that does the following:\n",
    "\n",
    "**Method name:** getKey()\n",
    "\n",
    "**Input:** String filename\n",
    "\n",
    "**Output:** List of integers"
   ]
  },
  {
   "cell_type": "markdown",
   "metadata": {},
   "source": [
    "**Hint:**\n",
    "The following Python methods may help you to build the getKey():\n",
    "\n",
    "• hex()\n",
    "\n",
    "• open()\n",
    "\n",
    "• file.read()\n",
    "\n",
    "• string.decode()\n",
    "\n",
    "• map()\n",
    "\n",
    "• ord()"
   ]
  },
  {
   "cell_type": "code",
   "execution_count": 790,
   "metadata": {},
   "outputs": [],
   "source": [
    "\n",
    "def getKey(testKey):\n",
    "    o = []\n",
    "    mylist = []\n",
    "    with open(testKey, 'r') as f:\n",
    "        # print(f.readline())\n",
    "        tst = \"\".join(map(str,f))\n",
    "        while tst:\n",
    "            o.append(tst[:2])\n",
    "            tst = tst[2:]\n",
    "        for x in o:\n",
    "            # print(f\"Converting:{x}\")\n",
    "            xInt = int(x, base = 16)\n",
    "            output = int(hex(xInt), base = 16)\n",
    "            # print(f\"Hexing {x} || got: {hex(xInt)} || int: {int(hex(xInt), base = 16)}\")\n",
    "            mylist.append(output)\n",
    "        return mylist"
   ]
  },
  {
   "cell_type": "markdown",
   "metadata": {},
   "source": [
    "The following code can be used to test your method implementation. The list after \"Output:\" is what the \"print(key)\" command should print out."
   ]
  },
  {
   "cell_type": "code",
   "execution_count": 791,
   "metadata": {},
   "outputs": [
    {
     "name": "stdout",
     "output_type": "stream",
     "text": [
      "[0, 1, 2, 3, 4, 5, 6, 7, 8, 9, 10, 11, 12, 13, 14, 15, 16, 17, 18, 19, 20, 21, 22, 23, 24, 25, 26, 27, 28, 29, 30, 31]\n"
     ]
    }
   ],
   "source": [
    "key = getKey(\"testKey\")\n",
    "print(key)"
   ]
  },
  {
   "cell_type": "markdown",
   "metadata": {},
   "source": [
    "**Output:**\n",
    "\n",
    "    [0, 1, 2, 3, 4, 5, 6, 7, 8, 9, 10, 11, 12, 13, 14, 15, 16, 17, 18, 19, 20, 21, 22, 23, 24, 25, 26, 27, 28, 29, 30, 31]"
   ]
  },
  {
   "cell_type": "markdown",
   "metadata": {},
   "source": [
    "## 2. Block"
   ]
  },
  {
   "cell_type": "markdown",
   "metadata": {},
   "source": [
    "In the file **testBlock**, a test block, which is a plain text but represents bytes, is provided. Since all versions of AES operate on blocks with the fix size of 128 bits, it corresponds to a block that is 128/8 bytes long. That is, the block is 16 bytes long, where each byte is encoded as two characters in hexadecimal. The 128-bit block is thus represented as a string of length 32.\n",
    "\n",
    "In reality blocks have the format of a 4x4 matrix. In Python, matrices are typically lists. The first 4 values can be represented as the first column of the matrix, the next 4 as the second column, and so on. You can decide your format of the block yourself."
   ]
  },
  {
   "cell_type": "markdown",
   "metadata": {},
   "source": [
    "**Method: getBlock(filename)**\n",
    "\n",
    "Create method that does the following:\n",
    "\n",
    "**Method name:** getBlock()\n",
    "\n",
    "**Input:** String filename\n",
    "\n",
    "**Output:** List (or other format) of integers"
   ]
  },
  {
   "cell_type": "markdown",
   "metadata": {},
   "source": [
    "**Hint:** The following Python methods may help you to build the method\n",
    "\n",
    "hex()\n",
    "\n",
    "open()\n",
    "\n",
    "file.read()\n",
    "\n",
    "string.decode()\n",
    "\n",
    "map()\n",
    "\n",
    "ord()"
   ]
  },
  {
   "cell_type": "markdown",
   "metadata": {},
   "source": [
    "https://en.wikipedia.org/wiki/Advanced_Encryption_Standard#High-level_description_of_the_%20algorithm"
   ]
  },
  {
   "cell_type": "code",
   "execution_count": 792,
   "metadata": {},
   "outputs": [
    {
     "data": {
      "text/plain": [
       "[0, 17, 34, 51, 68, 85, 102, 119, 136, 153, 170, 187, 204, 221, 238, 255]"
      ]
     },
     "execution_count": 792,
     "metadata": {},
     "output_type": "execute_result"
    }
   ],
   "source": [
    "def getBlock(testBlock):\n",
    "    # write your Python code for Block here:\n",
    "    o = []\n",
    "    mylist = []\n",
    "    with open(testBlock,'r') as f:\n",
    "        tst = ''.join(map(str,f))\n",
    "        while tst:\n",
    "            o.append(tst[:2])\n",
    "            tst = tst[2:]\n",
    "        for x in o:\n",
    "            # print(x)\n",
    "            xInt = int(x, base = 16)\n",
    "            output = int(hex(xInt), base = 16)\n",
    "            # print(f\"Hexing {x} || got: {hex(xInt)} || int: {int(hex(xInt), base = 16)}\")\n",
    "            mylist.append(output)\n",
    "        return mylist\n",
    "getBlock('testBlock')\n"
   ]
  },
  {
   "cell_type": "code",
   "execution_count": 793,
   "metadata": {},
   "outputs": [
    {
     "name": "stdout",
     "output_type": "stream",
     "text": [
      "[0, 17, 34, 51, 68, 85, 102, 119, 136, 153, 170, 187, 204, 221, 238, 255]\n"
     ]
    }
   ],
   "source": [
    "block = getBlock('testBlock')\n",
    "print(block)"
   ]
  },
  {
   "cell_type": "markdown",
   "metadata": {},
   "source": [
    "**Output:**\n",
    "\n",
    "    [0, 17, 34, 51, 68, 85, 102, 119, 136, 153, 170, 187, 204, 221, 238, 255]"
   ]
  },
  {
   "cell_type": "markdown",
   "metadata": {},
   "source": [
    "## 3. sbox, sboxInv and rcon"
   ]
  },
  {
   "cell_type": "markdown",
   "metadata": {},
   "source": [
    "From the following Wikipedia articles:\n",
    "\n",
    "• https://en.wikipedia.org/wiki/Rijndael_S-box\n",
    "\n",
    "• https://en.wikipedia.org/wiki/Rijndael_key_schedule\n",
    "\n",
    "Create three Python code blocks, where each code block contains one of the three lists described in their respective Wikipedia articles. "
   ]
  },
  {
   "cell_type": "code",
   "execution_count": 794,
   "metadata": {},
   "outputs": [],
   "source": [
    "def getBlock_2(testBlock):\n",
    "    # write your Python code for Block here:\n",
    "    o = []\n",
    "    mylist = []\n",
    "    with open(testBlock,'r') as f:\n",
    "        txt = ''.join(map(str,f))\n",
    "        tst = txt.replace('\\n','')\n",
    "        while tst:\n",
    "            o.append(tst[:2])\n",
    "            tst = tst[2:]\n",
    "        for x in o:\n",
    "            # print(x)\n",
    "            xInt = int(x, base = 16)\n",
    "            output = int(hex(xInt), base = 16)\n",
    "            # print(f\"Hexing {x} || got: {hex(xInt)} || int: {int(hex(xInt), base = 16)}\")\n",
    "            mylist.append(output)\n",
    "        return mylist\n",
    "        # print(txt)"
   ]
  },
  {
   "cell_type": "code",
   "execution_count": 795,
   "metadata": {},
   "outputs": [
    {
     "name": "stdout",
     "output_type": "stream",
     "text": [
      "[99, 124, 119, 123, 242, 107, 111, 197, 48, 1, 103, 43, 254, 215, 171, 118]\n",
      "[202, 130, 201, 125, 250, 89, 71, 240, 173, 212, 162, 175, 156, 164, 114, 192]\n",
      "[183, 253, 147, 38, 54, 63, 247, 204, 52, 165, 229, 241, 113, 216, 49, 21]\n",
      "[4, 199, 35, 195, 24, 150, 5, 154, 7, 18, 128, 226, 235, 39, 178, 117]\n",
      "[9, 131, 44, 26, 27, 110, 90, 160, 82, 59, 214, 179, 41, 227, 47, 132]\n",
      "[83, 209, 0, 237, 32, 252, 177, 91, 106, 203, 190, 57, 74, 76, 88, 207]\n",
      "[208, 239, 170, 251, 67, 77, 51, 133, 69, 249, 2, 127, 80, 60, 159, 168]\n",
      "[81, 163, 64, 143, 146, 157, 56, 245, 188, 182, 218, 33, 16, 255, 243, 210]\n",
      "[205, 12, 19, 236, 95, 151, 68, 23, 196, 167, 126, 61, 100, 93, 25, 115]\n",
      "[96, 129, 79, 220, 34, 42, 144, 136, 70, 238, 184, 20, 222, 94, 11, 219]\n",
      "[224, 50, 58, 10, 73, 6, 36, 92, 194, 211, 172, 98, 145, 149, 228, 121]\n",
      "[231, 200, 55, 109, 141, 213, 78, 169, 108, 86, 244, 234, 101, 122, 174, 8]\n",
      "[186, 120, 37, 46, 28, 166, 180, 198, 232, 221, 116, 31, 75, 189, 139, 138]\n",
      "[112, 62, 181, 102, 72, 3, 246, 14, 97, 53, 87, 185, 134, 193, 29, 158]\n",
      "[225, 248, 152, 17, 105, 217, 142, 148, 155, 30, 135, 233, 206, 85, 40, 223]\n",
      "[140, 161, 137, 13, 191, 230, 66, 104, 65, 153, 45, 15, 176, 84, 187, 22]\n"
     ]
    }
   ],
   "source": [
    "bloack = getBlock_2('AES-Sbox.txt')\n",
    "for i in range(0,255,16):\n",
    "    x = i\n",
    "    print(bloack[x:x+16])"
   ]
  },
  {
   "cell_type": "code",
   "execution_count": 796,
   "metadata": {},
   "outputs": [
    {
     "name": "stdout",
     "output_type": "stream",
     "text": [
      "[82, 9, 106, 213, 48, 54, 165, 56, 191, 64, 163, 158, 129, 243, 215, 251, 124, 227, 57, 130, 155, 47, 255, 135, 52, 142, 67, 68, 196, 222, 233, 203, 84, 123, 148, 50, 166, 194, 35, 61, 238, 76, 149, 11, 66, 250, 195, 78, 8, 46, 161, 102, 40, 217, 36, 178, 118, 91, 162, 73, 109, 139, 209, 37, 114, 248, 246, 100, 134, 104, 152, 22, 212, 164, 92, 204, 93, 101, 182, 146, 108, 112, 72, 80, 253, 237, 185, 218, 94, 21, 70, 87, 167, 141, 157, 132, 144, 216, 171, 0, 140, 188, 211, 10, 247, 228, 88, 5, 184, 179, 69, 6, 208, 44, 30, 143, 202, 63, 15, 2, 193, 175, 189, 3, 1, 19, 138, 107, 58, 145, 17, 65, 79, 103, 220, 234, 151, 242, 207, 206, 240, 180, 230, 115, 150, 172, 116, 34, 231, 173, 53, 133, 226, 249, 55, 232, 28, 117, 223, 110, 71, 241, 26, 113, 29, 41, 197, 137, 111, 183, 98, 14, 170, 24, 190, 27, 252, 86, 62, 75, 198, 210, 121, 32, 154, 219, 192, 254, 120, 205, 90, 244, 31, 221, 168, 51, 136, 7, 199, 49, 177, 18, 16, 89, 39, 128, 236, 95, 96, 81, 127, 169, 25, 181, 74, 13, 45, 229, 122, 159, 147, 201, 156, 239, 160, 224, 59, 77, 174, 42, 245, 176, 200, 235, 187, 60, 131, 83, 153, 97, 23, 43, 4, 126, 186, 119, 214, 38, 225, 105, 20, 99, 85, 33, 12, 125]\n"
     ]
    }
   ],
   "source": [
    "bloack = getBlock_2('AES-Sbox_inverse.txt')\n",
    "print(bloack)"
   ]
  },
  {
   "cell_type": "code",
   "execution_count": 797,
   "metadata": {},
   "outputs": [
    {
     "name": "stdout",
     "output_type": "stream",
     "text": [
      "['0x1', '0x2', '0x3', '0x4', '0x5', '0x6', '0x7', '0x8', '0x9']\n"
     ]
    },
    {
     "data": {
      "text/plain": [
       "'0x8d'"
      ]
     },
     "execution_count": 797,
     "metadata": {},
     "output_type": "execute_result"
    }
   ],
   "source": [
    "x = \"123456789\"\n",
    "mylist = []\n",
    "for i in x:\n",
    "    s = hex(int(i,base = 16))\n",
    "    mylist.append(s)\n",
    "\n",
    "print(mylist)\n",
    "(hex(141))"
   ]
  },
  {
   "cell_type": "code",
   "execution_count": 798,
   "metadata": {},
   "outputs": [],
   "source": [
    "# write your Python code for Sbox, sboxInv and rcon here:\n",
    "# sbox = [99, 124, 119, 123, 242, 107, 111, 197, 48, 1, 103, 43, 254, 215, 171, 118, 202, 130, 201, 125, 250, 89, 71, 240, 173, 212, 162, 175, 156, 164, 114, 192, 183, 253, 147, 38, 54, 63, 247, 204, 52, 165, 229, 241, 113, 216, 49, 21, 4, 199, 35, 195, 24, 150, 5, 154, 7, 18, 128, 226, 235, 39, 178, 117, 9, 131, 44, 26, 27, 110, 90, 160, 82, 59, 214, 179, 41, 227, 47, 132, 83, 209, 0, 237, 32, 252, 177, 91, 106, 203, 190, 57, 74, 76, 88, 207, 208, 239, 170, 251, 67, 77, 51, 133, 69, 249, 2, 127, 80, 60, 159, 168, 81, 163, 64, 143, 146, 157, 56, 245, 188, 182, 218, 33, 16, 255, 243, 210, 205, 12, 19, 236, 95, 151, 68, 23, 196, 167, 126, 61, 100, 93, 25, 115, 96, 129, 79, 220, 34, 42, 144, 136, 70, 238, 184, 20, 222, 94, 11, 219, 224, 50, 58, 10, 73, 6, 36, 92, 194, 211, 172, 98, 145, 149, 228, 121, 231, 200, 55, 109, 141, 213, 78, 169, 108, 86, 244, 234, 101, 122, 174, 8, 186, 120, 37, 46, 28, 166, 180, 198, 232, 221, 116, 31, 75, 189, 139, 138, 112, 62, 181, 102, 72, 3, 246, 14, 97, 53, 87, 185, 134, 193, 29, 158, 225, 248, 152, 17, 105, 217, 142, 148, 155, 30, 135, 233, 206, 85, 40, 223, 140, 161, 137, 13, 191, 230, 66, 104, 65, 153, 45, 15, 176, 84, 187, 22]\n",
    "#https://github.com/benjimr/AES-Key-Expansion/blob/master/AESKeyExpansion.py\n",
    "sbox = [0x63, 0x7C, 0x77, 0x7B, 0xF2, 0x6B, 0x6F, 0xC5, 0x30, 0x01, 0x67, 0x2B, 0xFE, 0xD7, 0xAB, 0x76,\n",
    "            0xCA, 0x82, 0xC9, 0x7D, 0xFA, 0x59, 0x47, 0xF0, 0xAD, 0xD4, 0xA2, 0xAF, 0x9C, 0xA4, 0x72, 0xC0,\n",
    "            0xB7, 0xFD, 0x93, 0x26, 0x36, 0x3F, 0xF7, 0xCC, 0x34, 0xA5, 0xE5, 0xF1, 0x71, 0xD8, 0x31, 0x15,\n",
    "            0x04, 0xC7, 0x23, 0xC3, 0x18, 0x96, 0x05, 0x9A, 0x07, 0x12, 0x80, 0xE2, 0xEB, 0x27, 0xB2, 0x75,\n",
    "            0x09, 0x83, 0x2C, 0x1A, 0x1B, 0x6E, 0x5A, 0xA0, 0x52, 0x3B, 0xD6, 0xB3, 0x29, 0xE3, 0x2F, 0x84,\n",
    "            0x53, 0xD1, 0x00, 0xED, 0x20, 0xFC, 0xB1, 0x5B, 0x6A, 0xCB, 0xBE, 0x39, 0x4A, 0x4C, 0x58, 0xCF,\n",
    "            0xD0, 0xEF, 0xAA, 0xFB, 0x43, 0x4D, 0x33, 0x85, 0x45, 0xF9, 0x02, 0x7F, 0x50, 0x3C, 0x9F, 0xA8,\n",
    "            0x51, 0xA3, 0x40, 0x8F, 0x92, 0x9D, 0x38, 0xF5, 0xBC, 0xB6, 0xDA, 0x21, 0x10, 0xFF, 0xF3, 0xD2,\n",
    "            0xCD, 0x0C, 0x13, 0xEC, 0x5F, 0x97, 0x44, 0x17, 0xC4, 0xA7, 0x7E, 0x3D, 0x64, 0x5D, 0x19, 0x73,\n",
    "            0x60, 0x81, 0x4F, 0xDC, 0x22, 0x2A, 0x90, 0x88, 0x46, 0xEE, 0xB8, 0x14, 0xDE, 0x5E, 0x0B, 0xDB,\n",
    "            0xE0, 0x32, 0x3A, 0x0A, 0x49, 0x06, 0x24, 0x5C, 0xC2, 0xD3, 0xAC, 0x62, 0x91, 0x95, 0xE4, 0x79,\n",
    "            0xE7, 0xC8, 0x37, 0x6D, 0x8D, 0xD5, 0x4E, 0xA9, 0x6C, 0x56, 0xF4, 0xEA, 0x65, 0x7A, 0xAE, 0x08,\n",
    "            0xBA, 0x78, 0x25, 0x2E, 0x1C, 0xA6, 0xB4, 0xC6, 0xE8, 0xDD, 0x74, 0x1F, 0x4B, 0xBD, 0x8B, 0x8A,\n",
    "            0x70, 0x3E, 0xB5, 0x66, 0x48, 0x03, 0xF6, 0x0E, 0x61, 0x35, 0x57, 0xB9, 0x86, 0xC1, 0x1D, 0x9E,\n",
    "            0xE1, 0xF8, 0x98, 0x11, 0x69, 0xD9, 0x8E, 0x94, 0x9B, 0x1E, 0x87, 0xE9, 0xCE, 0x55, 0x28, 0xDF,\n",
    "            0x8C, 0xA1, 0x89, 0x0D, 0xBF, 0xE6, 0x42, 0x68, 0x41, 0x99, 0x2D, 0x0F, 0xB0, 0x54, 0xBB, 0x1]\n",
    "# sboxInv = [82, 9, 106, 213, 48, 54, 165, 56, 191, 64, 163, 158, 129, 243, 215, 251, 124, 227, 57, 130, 155, 47, 255, 135, 52, 142, 67, 68, 196, 222, 233, 203, 84, 123, 148, 50, 166, 194, 35, 61, 238, 76, 149, 11, 66, 250, 195, 78, 8, 46, 161, 102, 40, 217, 36, 178, 118, 91, 162, 73, 109, 139, 209, 37, 114, 248, 246, 100, 134, 104, 152, 22, 212, 164, 92, 204, 93, 101, 182, 146, 108, 112, 72, 80, 253, 237, 185, 218, 94, 21, 70, 87, 167, 141, 157, 132, 144, 216, 171, 0, 140, 188, 211, 10, 247, 228, 88, 5, 184, 179, 69, 6, 208, 44, 30, 143, 202, 63, 15, 2, 193, 175, 189, 3, 1, 19, 138, 107, 58, 145, 17, 65, 79, 103, 220, 234, 151, 242, 207, 206, 240, 180, 230, 115, 150, 172, 116, 34, 231, 173, 53, 133, 226, 249, 55, 232, 28, 117, 223, 110, 71, 241, 26, 113, 29, 41, 197, 137, 111, 183, 98, 14, 170, 24, 190, 27, 252, 86, 62, 75, 198, 210, 121, 32, 154, 219, 192, 254, 120, 205, 90, 244, 31, 221, 168, 51, 136, 7, 199, 49, 177, 18, 16, 89, 39, 128, 236, 95, 96, 81, 127, 169, 25, 181, 74, 13, 45, 229, 122, 159, 147, 201, 156, 239, 160, 224, 59, 77, 174, 42, 245, 176, 200, 235, 187, 60, 131, 83, 153, 97, 23, 43, 4, 126, 186, 119, 214, 38, 225, 105, 20, 99, 85, 33, 12, 125]\n",
    "sboxInv = [0x52, 0x09, 0x6A, 0xD5, 0x30, 0x36, 0xA5, 0x38, 0xBF, 0x40, 0xA3, 0x9E, 0x81, 0xF3, 0xD7, 0xFB,\n",
    "            0x7C, 0xE3, 0x39, 0x82, 0x9B, 0x2F, 0xFF, 0x87, 0x34, 0x8E, 0x43, 0x44, 0xC4, 0xDE, 0xE9, 0xCB,\n",
    "            0x54, 0x7B, 0x94, 0x32, 0xA6, 0xC2, 0x23, 0x3D, 0xEE, 0x4C, 0x95, 0x0B, 0x42, 0xFA, 0xC3, 0x4E,\n",
    "            0x08, 0x2E, 0xA1, 0x66, 0x28, 0xD9, 0x24, 0xB2, 0x76, 0x5B, 0xA2, 0x49, 0x6D, 0x8B, 0xD1, 0x25,\n",
    "            0x72, 0xF8, 0xF6, 0x64, 0x86, 0x68, 0x98, 0x16, 0xD4, 0xA4, 0x5C, 0xCC, 0x5D, 0x65, 0xB6, 0x92,\n",
    "            0x6C, 0x70, 0x48, 0x50, 0xFD, 0xED, 0xB9, 0xDA, 0x5E, 0x15, 0x46, 0x57, 0xA7, 0x8D, 0x9D, 0x84,\n",
    "            0x90, 0xD8, 0xAB, 0x00, 0x8C, 0xBC, 0xD3, 0x0A, 0xF7, 0xE4, 0x58, 0x05, 0xB8, 0xB3, 0x45, 0x06,\n",
    "            0xD0, 0x2C, 0x1E, 0x8F, 0xCA, 0x3F, 0x0F, 0x02, 0xC1, 0xAF, 0xBD, 0x03, 0x01, 0x13, 0x8A, 0x6B,\n",
    "            0x3A, 0x91, 0x11, 0x41, 0x4F, 0x67, 0xDC, 0xEA, 0x97, 0xF2, 0xCF, 0xCE, 0xF0, 0xB4, 0xE6, 0x73,\n",
    "            0x96, 0xAC, 0x74, 0x22, 0xE7, 0xAD, 0x35, 0x85, 0xE2, 0xF9, 0x37, 0xE8, 0x1C, 0x75, 0xDF, 0x6E,\n",
    "            0x47, 0xF1, 0x1A, 0x71, 0x1D, 0x29, 0xC5, 0x89, 0x6F, 0xB7, 0x62, 0x0E, 0xAA, 0x18, 0xBE, 0x1B,\n",
    "            0xFC, 0x56, 0x3E, 0x4B, 0xC6, 0xD2, 0x79, 0x20, 0x9A, 0xDB, 0xC0, 0xFE, 0x78, 0xCD, 0x5A, 0xF4,\n",
    "            0x1F, 0xDD, 0xA8, 0x33, 0x88, 0x07, 0xC7, 0x31, 0xB1, 0x12, 0x10, 0x59, 0x27, 0x80, 0xEC, 0x5F,\n",
    "            0x60, 0x51, 0x7F, 0xA9, 0x19, 0xB5, 0x4A, 0x0D, 0x2D, 0xE5, 0x7A, 0x9F, 0x93, 0xC9, 0x9C, 0xEF,\n",
    "            0xA0, 0xE0, 0x3B, 0x4D, 0xAE, 0x2A, 0xF5, 0xB0, 0xC8, 0xEB, 0xBB, 0x3C, 0x83, 0x53, 0x99, 0x61,\n",
    "            0x17, 0x2B, 0x04, 0x7E, 0xBA, 0x77, 0xD6, 0x26, 0xE1, 0x69, 0x14, 0x63, 0x55, 0x21, 0x0C, 0x7D]\n",
    "# rcon = [0x8d, 0x01, 0x02, 0x03, 0x04, 0x05, 0x06, 0x07, 0x08, 0x09, 0x0a, 0x0b, 0x0c, 0x0d, 0x0e, 0x0f,0x010,0x011,0x012,0x013,0x014,0x015]\n",
    "rcon = [0x8d, 0x01, 0x02, 0x04, 0x08, 0x10,0x20,0x40,0x80,0x1b,0x36,0x6c,0xd8,0xab,0x4d,0x9a,0x2f,0x5e,0xbc,0x63]"
   ]
  },
  {
   "cell_type": "code",
   "execution_count": 799,
   "metadata": {},
   "outputs": [
    {
     "name": "stdout",
     "output_type": "stream",
     "text": [
      "99\n",
      "82\n",
      "141\n"
     ]
    }
   ],
   "source": [
    "#Check that you can run the following commands to see if the lists map integers correctly:\n",
    "print(sbox[0])\n",
    "print(sboxInv[0])\n",
    "print(rcon[0])\n"
   ]
  },
  {
   "cell_type": "markdown",
   "metadata": {},
   "source": [
    "**Output:**\n",
    "\n",
    "    99 82 141"
   ]
  },
  {
   "cell_type": "markdown",
   "metadata": {},
   "source": [
    "# Cryptography Lab 2"
   ]
  },
  {
   "cell_type": "markdown",
   "metadata": {},
   "source": [
    "# 1. shiftRows"
   ]
  },
  {
   "cell_type": "markdown",
   "metadata": {},
   "source": [
    "shiftRows is a static block-operator. Meaning that it performs the same action every time it is called. It simply shifts each row to the left the same number of steps as the current row number. See: https://en.wikipedia.org/wiki/Advanced_Encryption_Standard#The_ShiftRows_step\n",
    "\n",
    "Depending on how you have structured your block the implementation for this will be different. A list can be used to represent the matrix, where the first 4 elements corresponds to the first column, the next 4 elements corresponds to the second column, and so on. You can use either matrices, lists of lists or just a normal list.\n",
    "\n",
    "Since this method is static you can either just make a temporary block and move the elements around as described or you can loop over each row and perform the shift depending on the current row number.\n",
    "\n",
    "Create the following two methods: One called shiftRows(block) and one called shiftRowsInv(block). These methods are extremely similar but the reverse shift just moves elements to the right instead of left."
   ]
  },
  {
   "cell_type": "markdown",
   "metadata": {},
   "source": [
    "https://www.youtube.com/watch?v=7uRK9iOk4uk&t=351s"
   ]
  },
  {
   "cell_type": "code",
   "execution_count": 800,
   "metadata": {},
   "outputs": [],
   "source": [
    "# Add shiftRows() here:\n",
    "def shiftRows(block):\n",
    "\n",
    "    s0 = block[0::4]\n",
    "    s1 = block[1::4]\n",
    "    s2 = block[2::4]\n",
    "    s3 = block[3::4]\n",
    "\n",
    "    s1 = s1[1:] + s1[:1]\n",
    "    s2 = s2[2:] + s2[:2]\n",
    "    s3 = s3[3:] + s3[:3]\n",
    "\n",
    "    # print(s0)\n",
    "    # print(s1)\n",
    "    # print(s2)\n",
    "    # print(s3)\n",
    "\n",
    "    x1 = [s0[0],s1[0],s2[0],s3[0]]\n",
    "    x2 = [s0[1],s1[1],s2[1],s3[1]]\n",
    "    x3 = [s0[2],s1[2],s2[2],s3[2]]\n",
    "    x4 = [s0[3],s1[3],s2[3],s3[3]]\n",
    "    x5 = x1+x2+x3+x4\n",
    "    # print(x5)\n",
    "    return x5\n"
   ]
  },
  {
   "cell_type": "code",
   "execution_count": 801,
   "metadata": {},
   "outputs": [],
   "source": [
    "# Add shiftRowsInv() here:\n",
    "def shiftRowsInv(block):\n",
    "    s0 = block[0::4]\n",
    "    s1 = block[1::4]\n",
    "    s2 = block[2::4]\n",
    "    s3 = block[3::4]\n",
    "\n",
    "    s1 = s1[-1:] + s1[:-1]\n",
    "    s2 = s2[-2:] + s2[:-2]\n",
    "    s3 = s3[-3:] + s3[:-3]\n",
    "\n",
    "    # print(s0)\n",
    "    # print(s1)\n",
    "    # print(s2)\n",
    "    # print(s3)\n",
    "\n",
    "    x1 = [s0[0],s1[0],s2[0],s3[0]]\n",
    "    x2 = [s0[1],s1[1],s2[1],s3[1]]\n",
    "    x3 = [s0[2],s1[2],s2[2],s3[2]]\n",
    "    x4 = [s0[3],s1[3],s2[3],s3[3]]\n",
    "    x5 = x1+x2+x3+x4\n",
    "    return x5\n",
    "\n"
   ]
  },
  {
   "cell_type": "code",
   "execution_count": 802,
   "metadata": {},
   "outputs": [
    {
     "name": "stdout",
     "output_type": "stream",
     "text": [
      "[0, 85, 170, 255, 68, 153, 238, 51, 136, 221, 34, 119, 204, 17, 102, 187]\n"
     ]
    }
   ],
   "source": [
    "#Test the shiftRows() using this code\n",
    "\n",
    "block = getBlock('testBlock')\n",
    "\n",
    "shiftedBlock = shiftRows(block)\n",
    "\n",
    "print(shiftedBlock)"
   ]
  },
  {
   "cell_type": "markdown",
   "metadata": {},
   "source": [
    "**Output:**\n",
    "\n",
    "[0, 85, 170, 255, 68, 153, 238, 51, 136, 221, 34, 119, 204, 17, 102, 187]"
   ]
  },
  {
   "cell_type": "code",
   "execution_count": 803,
   "metadata": {},
   "outputs": [
    {
     "name": "stdout",
     "output_type": "stream",
     "text": [
      "[0, 17, 34, 51, 68, 85, 102, 119, 136, 153, 170, 187, 204, 221, 238, 255]\n"
     ]
    }
   ],
   "source": [
    "#Test the shiftRowsInv() using this Code:\n",
    "\n",
    "block = getBlock('testBlock')\n",
    "\n",
    "shiftedBlock = shiftRows(block)\n",
    "\n",
    "unShiftedBlock = shiftRowsInv(shiftedBlock)\n",
    "\n",
    "print(unShiftedBlock)"
   ]
  },
  {
   "cell_type": "markdown",
   "metadata": {},
   "source": [
    "**Output:**\n",
    "\n",
    "[0, 17, 34, 51, 68, 85, 102, 119, 136, 153, 170, 187, 204, 221, 238, 255]"
   ]
  },
  {
   "cell_type": "markdown",
   "metadata": {},
   "source": [
    "# 2. mixColumn()"
   ]
  },
  {
   "cell_type": "markdown",
   "metadata": {},
   "source": [
    "The mix of columns is a shuffle of each individual column in the block. This shuffling happens in a deterministic way depending on the values within the column. For consultation of the exact way of doing this, see the following Wikipedia article: https://en.wikipedia.org/wiki/Rijndael_mix_columns#MixColumns\n",
    "\n",
    "You can either implement Galois multiplication and perform the mix directly. Or you use the pre-calculated lists found in the article. To do AES mixing of columns one only needs to multiply elements with 1, 2 or 3. And for the un-mixing 9, 11, 13 or 14.\n",
    "\n",
    "**Create method mixColumn() as follows:**\n",
    "\n",
    "This method should take one column perform the multiplications in accordance to the multiplication tables. Refer to the Wikipedia article.\n",
    "\n",
    "Input: column\n",
    "\n",
    "Output: column\n",
    "\n",
    "Remember that in this context + means XOR. In Python, the hat-symbol (caret), ˆ, is used for XOR.\n",
    "\n",
    "Also create the inverse method mixColumnInv()."
   ]
  },
  {
   "cell_type": "markdown",
   "metadata": {},
   "source": [
    "MDS Matrix\n",
    "[d0]        2   3   1   1   [b0]\n",
    "[d1]        1   2   3   1   [b1]\n",
    "[d2]        1   1   2   3   [b2]\n",
    "[d3]        3   1   1   2   [b3]\n",
    "\n",
    "Min matrix\n",
    "0   68  136 204\n",
    "17  85  153 221\n",
    "34  102 170 238\n",
    "51  119 187 255\n",
    "\n",
    "[d0] = (2*68) ⊕ (3*85) ⊕ (1*102) ⊕ (1*119)\n",
    "OUTPUT: \n",
    "34, 119, 0, 85, 102, 51, 68, 17, 170, 255, 136, 221,238, 187, 204, 153"
   ]
  },
  {
   "cell_type": "code",
   "execution_count": 804,
   "metadata": {},
   "outputs": [],
   "source": [
    "#https://gist.github.com/bonsaiviking/5571001\n",
    "def GF(a, b):\n",
    "    p = 0\n",
    "    for c in range(8):\n",
    "        if b & 1:\n",
    "            p ^= a\n",
    "        a <<= 1\n",
    "        if a & 0x100:\n",
    "            a ^= 0x11b\n",
    "        b >>= 1\n",
    "    return p"
   ]
  },
  {
   "cell_type": "code",
   "execution_count": 805,
   "metadata": {},
   "outputs": [],
   "source": [
    "def GF(a, b):\n",
    "    r = 0\n",
    "    for times in range(8):\n",
    "        if (b & 1) == 1: r = r ^ a\n",
    "        if r > 0x100: r = r ^ 0x100\n",
    "        # keep r 8 bit\n",
    "        hi_bit_set = (a & 0x80)\n",
    "        a = a << 1\n",
    "        if a > 0x100:\n",
    "            # keep a 8 bit\n",
    "            a = a ^ 0x100\n",
    "        if hi_bit_set == 0x80:\n",
    "            a = a ^ 0x1b\n",
    "        if a > 0x100:\n",
    "            # keep a 8 bit\n",
    "            a = a ^ 0x100\n",
    "        b = b >> 1\n",
    "        if b > 0x100:\n",
    "            # keep b 8 bit\n",
    "            b = b ^ 0x100\n",
    "    return r"
   ]
  },
  {
   "cell_type": "code",
   "execution_count": 806,
   "metadata": {},
   "outputs": [],
   "source": [
    "#https://stackoverflow.com/questions/66115739/aes-mixcolumns-with-python\n",
    "def gfMult(x,y):\n",
    "    if y == 1:\n",
    "        return x\n",
    "    tmp = (x<<1) & 0xff #added 0xff\n",
    "    if y == 2:\n",
    "        return tmp if y < 128 else tmp ^ 0x1b\n",
    "    if y == 3:\n",
    "        return gfMult(x,2)^x\n"
   ]
  },
  {
   "cell_type": "code",
   "execution_count": 807,
   "metadata": {},
   "outputs": [],
   "source": [
    "#Mikael's method\n",
    "def gfMultInv(x,y):\n",
    "    if y == 9:\n",
    "        return gfMult(gfMult(gfMult(x,2),2),2) ^x\n",
    "    if y == 11:\n",
    "        return gfMult(gfMult(gfMult(x,2),2),2) ^ gfMult(x,2) ^x\n",
    "    if y == 13:\n",
    "        return gfMult(gfMult(gfMult(x,2),2),2) ^ gfMult(gfMult(x,2),2) ^x\n",
    "    if y == 14:\n",
    "        return gfMult(gfMult(gfMult(x,2),2),2) ^gfMult(gfMult(x,2),2) ^gfMult(x,2)"
   ]
  },
  {
   "cell_type": "markdown",
   "metadata": {},
   "source": [
    "34, 119, 0, 85, 102, 51, 68, 17, 170, 255, 136, 221, 238, 187, 204, 153\n",
    "\n",
    "MDS Matrix\n",
    "[d0]        2   3   1   1   [b0]\n",
    "[d1]        1   2   3   1   [b1]\n",
    "[d2]        1   1   2   3   [b2]\n",
    "[d3]        3   1   1   2   [b3]"
   ]
  },
  {
   "cell_type": "code",
   "execution_count": 808,
   "metadata": {},
   "outputs": [],
   "source": [
    "# Add mixColumn() here:\n",
    "def mixColumn(column):\n",
    "    ConstMatrix = [2,3,1,1,1,2,3,1,1,1,2,3,3,1,1,2]\n",
    "    newList = []\n",
    "    count = 0\n",
    "    counter = 0\n",
    "    for i in range(len(column)):\n",
    "        # a = gfMult(column[count],ConstMatrix[counter]) ^ gfMult(column[count+1],ConstMatrix[counter+1]) ^ gfMult(column[count+2],ConstMatrix[counter+2])^ gfMult(column[count+3],ConstMatrix[counter+3])\n",
    "        a = gfMult(column[count],ConstMatrix[counter]) ^ gfMult(column[count+1],ConstMatrix[counter+1]) ^ gfMult(column[count+2],ConstMatrix[counter+2])^ gfMult(column[count+3],ConstMatrix[counter+3])\n",
    "        counter += 4\n",
    "        newList.append(a)\n",
    "    return newList"
   ]
  },
  {
   "cell_type": "code",
   "execution_count": 809,
   "metadata": {},
   "outputs": [],
   "source": [
    "# Add mixColumnInv() here:\n",
    "def mixColumnInv(column):\n",
    "    ConstMatrix = [14,11,13,9,9,14,11,13,13,9,14,11,11,13,9,14]\n",
    "    newList = []\n",
    "    count = 0\n",
    "    counter = 0\n",
    "    for i in range(len(column)):\n",
    "        # print(column[count],ConstMatrix[counter],column[count+1],ConstMatrix[counter+1],column[count+2],ConstMatrix[counter+2],column[count+3],ConstMatrix[counter+3])\n",
    "        # print(column[count],ConstMatrix[counter])\n",
    "        # print(gfMultInv(column[count],ConstMatrix[counter]))\n",
    "        a = gfMultInv(column[count],ConstMatrix[counter]) ^ gfMultInv(column[count+1],ConstMatrix[counter+1]) ^ gfMultInv(column[count+2],ConstMatrix[counter+2])^ gfMultInv(column[count+3],ConstMatrix[counter+3])\n",
    "        counter += 4\n",
    "        newList.append(a)\n",
    "    return newList"
   ]
  },
  {
   "cell_type": "markdown",
   "metadata": {},
   "source": [
    "Next create method mixColumns() that calls the mixColumn(col) for each column in your block and then returns the mixed block."
   ]
  },
  {
   "cell_type": "code",
   "execution_count": 810,
   "metadata": {},
   "outputs": [],
   "source": [
    "# Add mixColumns() here:\n",
    "def mixColumns(block):\n",
    "    newList = []\n",
    "    start = 0\n",
    "    end = 16\n",
    "    step = 4\n",
    "    for i in range(start,end,step):\n",
    "        x = i\n",
    "        column = (block[x:x+step])\n",
    "        # print(f'Column: {column}')\n",
    "        a = mixColumn(column)\n",
    "        newList.extend(a)\n",
    "    return newList\n"
   ]
  },
  {
   "cell_type": "markdown",
   "metadata": {},
   "source": [
    "The corresponding inverse function should simply call the mixColumnInv() method for each column in your block and then return the mixed block."
   ]
  },
  {
   "cell_type": "code",
   "execution_count": 836,
   "metadata": {},
   "outputs": [],
   "source": [
    "# Add mixColumnsInv() here:\n",
    "def mixColumnsInv(block):\n",
    "    newList = []\n",
    "    start = 0\n",
    "    end = 16\n",
    "    step = 4\n",
    "    for i in range(start,end,step):\n",
    "        x = i\n",
    "        column = (block[x:x+step])\n",
    "        # print(f'Column: {column}')\n",
    "        a = mixColumnInv(column)\n",
    "        newList.extend(a)\n",
    "    return newList\n"
   ]
  },
  {
   "cell_type": "markdown",
   "metadata": {},
   "source": [
    "Use the following code to test your methods"
   ]
  },
  {
   "cell_type": "code",
   "execution_count": 812,
   "metadata": {},
   "outputs": [
    {
     "name": "stdout",
     "output_type": "stream",
     "text": [
      "[0, 17, 34, 51, 68, 85, 102, 119, 136, 153, 170, 187, 204, 221, 238, 255]\n",
      "[34, 119, 0, 85, 102, 51, 68, 17, 170, 255, 136, 221, 238, 187, 204, 153]\n",
      "[0, 17, 34, 51, 68, 85, 102, 119, 136, 153, 170, 187, 204, 221, 238, 255]\n"
     ]
    }
   ],
   "source": [
    "testBlock = getBlock('testBlock')\n",
    "\n",
    "print(testBlock)\n",
    "\n",
    "mixedBlock = mixColumns(testBlock)\n",
    "\n",
    "print(mixedBlock)\n",
    "\n",
    "unMixedBlock = mixColumnsInv(mixedBlock)\n",
    "\n",
    "print(unMixedBlock)"
   ]
  },
  {
   "cell_type": "markdown",
   "metadata": {},
   "source": [
    "**Output:**\n",
    "\n",
    "[0, 17, 34, 51, 68, 85, 102, 119, 136, 153, 170, 187, 204, 221, 238, 255]\n",
    "    \n",
    "[34, 119, 0, 85, 102, 51, 68, 17, 170, 255, 136, 221, 238, 187, 204, 153]\n",
    "    \n",
    "[0, 17, 34, 51, 68, 85, 102, 119, 136, 153, 170, 187, 204, 221, 238, 255]\n"
   ]
  },
  {
   "cell_type": "markdown",
   "metadata": {},
   "source": [
    "# 3. subBytes"
   ]
  },
  {
   "cell_type": "markdown",
   "metadata": {},
   "source": [
    "Create method subBytes() and apply the sBox to each element in the block and return it."
   ]
  },
  {
   "cell_type": "code",
   "execution_count": 813,
   "metadata": {},
   "outputs": [],
   "source": [
    "# Add subBytes() here:\n",
    "def subBytes(block):\n",
    "    newList = []\n",
    "    for i in range(len(block)):\n",
    "        x = block[i]\n",
    "        i = sbox[x]\n",
    "        newList.append(i)\n",
    "    # print(newList)\n",
    "    return newList"
   ]
  },
  {
   "cell_type": "markdown",
   "metadata": {},
   "source": [
    "Create method subBytesInv() and apply sBoxInv() to each element in the block. And return it."
   ]
  },
  {
   "cell_type": "code",
   "execution_count": 814,
   "metadata": {},
   "outputs": [],
   "source": [
    "# Add subBytesInv() here:\n",
    "def subBytesInv(block):\n",
    "    newList = []\n",
    "    for i in range(len(block)):\n",
    "        x = block[i]\n",
    "        i = sboxInv[x]\n",
    "        newList.append(i)\n",
    "    # print(newList)\n",
    "    return newList\n"
   ]
  },
  {
   "cell_type": "markdown",
   "metadata": {},
   "source": [
    "Use the follwing code to test your methods:"
   ]
  },
  {
   "cell_type": "code",
   "execution_count": 815,
   "metadata": {},
   "outputs": [
    {
     "name": "stdout",
     "output_type": "stream",
     "text": [
      "[0, 17, 34, 51, 68, 85, 102, 119, 136, 153, 170, 187, 204, 221, 238, 255]\n",
      "[99, 130, 147, 195, 27, 252, 51, 245, 196, 238, 172, 234, 75, 193, 40, 1]\n",
      "[0, 17, 34, 51, 68, 85, 102, 119, 136, 153, 170, 187, 204, 221, 238, 9]\n"
     ]
    }
   ],
   "source": [
    "testBlock = getBlock('testBlock')\n",
    "\n",
    "print(testBlock)\n",
    "\n",
    "substitutedBlock = subBytes(testBlock)\n",
    "\n",
    "print(substitutedBlock)\n",
    "\n",
    "unSubstitutedBlock = subBytesInv(substitutedBlock)\n",
    "\n",
    "print(unSubstitutedBlock)"
   ]
  },
  {
   "cell_type": "markdown",
   "metadata": {},
   "source": [
    "**Output:**\n",
    "    \n",
    "[0, 17, 34, 51, 68, 85, 102, 119, 136, 153, 170, 187, 204, 221, 238, 255]\n",
    "\n",
    "[99, 130, 147, 195, 27, 252, 51, 245, 196, 238, 172, 234, 75, 193, 40, 22]\n",
    "\n",
    "[0, 17, 34, 51, 68, 85, 102, 119, 136, 153, 170, 187, 204, 221, 238, 255]"
   ]
  },
  {
   "cell_type": "markdown",
   "metadata": {},
   "source": [
    "# Cryptography Lab 3"
   ]
  },
  {
   "cell_type": "markdown",
   "metadata": {},
   "source": [
    "# 1. keyScheduleCore()"
   ]
  },
  {
   "cell_type": "markdown",
   "metadata": {},
   "source": [
    "Read about this method in https://en.wikipedia.org/wiki/Rijndael_key_schedule#Key_schedule_core <br>\n",
    "or in NIST document paragraph 5.2 (Key Expansion)<br>\n",
    "**Input:** 4 byte word and Iteration Number\n",
    "\n",
    "**Output:** 4 byte word"
   ]
  },
  {
   "cell_type": "markdown",
   "metadata": {},
   "source": [
    "Explain what you do and why here in this cell (in English):\n"
   ]
  },
  {
   "cell_type": "markdown",
   "metadata": {},
   "source": [
    "https://www.youtube.com/watch?v=4pmR49izUL0&t=6s"
   ]
  },
  {
   "cell_type": "code",
   "execution_count": 816,
   "metadata": {},
   "outputs": [],
   "source": [
    "# Add keyScheduleCore() here:\n",
    "def keyScheduleCore(word,Nk):\n",
    "    newList = []\n",
    "    # shift the elements to the left.\n",
    "    s1 = word[1:] + word[:1] \n",
    "    # print(s1)\n",
    "    #subbytes\n",
    "    for i in range(len(word)):\n",
    "        x = s1[i]\n",
    "        y = sbox[x]\n",
    "        newList.append(y)\n",
    "    #Rcon\n",
    "    newList[0] ^= rcon[Nk]\n",
    "    return newList\n"
   ]
  },
  {
   "cell_type": "code",
   "execution_count": 817,
   "metadata": {},
   "outputs": [
    {
     "name": "stdout",
     "output_type": "stream",
     "text": [
      "[1, 2, 3, 4]\n",
      "[118, 123, 242, 124]\n"
     ]
    }
   ],
   "source": [
    "#Test your code\n",
    "word = [1,2,3,4]\n",
    "\n",
    "newWord = keyScheduleCore(word,1)\n",
    "\n",
    "print(word)\n",
    "\n",
    "print(newWord)"
   ]
  },
  {
   "cell_type": "markdown",
   "metadata": {},
   "source": [
    "**Output:**\n",
    "\n",
    "    [1, 2, 3, 4]\n",
    "\n",
    "    [118, 123, 242, 124]"
   ]
  },
  {
   "cell_type": "markdown",
   "metadata": {},
   "source": [
    "# 2. expandKey()"
   ]
  },
  {
   "cell_type": "markdown",
   "metadata": {},
   "source": [
    "AES-operations are performed on blocks multiple times, in so-called rounds. Each round uses a specific round key. The round keys are created from the original key via an extension. The original key is 256 bit (32 bytes) but needs to be expanded to a 240 byte key. This extension is done using Rijndael key schedule, see https://en.wikipedia.org/wiki/Rijndael_key_schedule#Key_schedule_description. <br>\n",
    "Follow the algorithmic description in the Wikipedia page and create a method called expandKey()."
   ]
  },
  {
   "cell_type": "markdown",
   "metadata": {},
   "source": [
    "**Method name:** expandKey(key)\n",
    "\n",
    "**Input:** 256 bit key\n",
    "\n",
    "**Output:** extended 240 byte key"
   ]
  },
  {
   "cell_type": "markdown",
   "metadata": {},
   "source": [
    "Explain what you do and why here in this cell (in English):\n"
   ]
  },
  {
   "cell_type": "code",
   "execution_count": 818,
   "metadata": {},
   "outputs": [],
   "source": [
    "#https://www.geeksforgeeks.org/python-convert-a-nested-list-into-a-flat-list/\n",
    "def flatten(l):\n",
    "    return [element for innerList in l for element in innerList]"
   ]
  },
  {
   "cell_type": "code",
   "execution_count": 819,
   "metadata": {},
   "outputs": [],
   "source": [
    "def expandKey(key):\n",
    "    keyList = []\n",
    "    tempList =[]\n",
    "\n",
    "    Nk = 8\n",
    "    Nb = 4\n",
    "    Nr = 14\n",
    "    i = 0\n",
    "\n",
    "    for i in range(0,32,4):\n",
    "        x = i\n",
    "        y = key[x:x+4]\n",
    "        keyList.append(y)\n",
    "\n",
    "    i = Nk\n",
    "\n",
    "    while(i < Nb * (Nr+1)):\n",
    "        round = i//Nk\n",
    "        temp = keyList[i-1]\n",
    "        if(i%Nk ==0):\n",
    "            temp = keyScheduleCore(temp,round)\n",
    "        elif(i%Nk==4):\n",
    "            temp = subBytes(temp)\n",
    "\n",
    "        for x in range(0,4):\n",
    "            y = keyList[i-Nk][x]^temp[x]\n",
    "            tempList.append(y)\n",
    "        keyList.append(tempList)\n",
    "        tempList = []\n",
    "        i+=1\n",
    "\n",
    "    return flatten(keyList)\n",
    "    # return keyList\n",
    "# ex = getKey('testKey')\n",
    "# # print(ex)\n",
    "# expandKey(ex)"
   ]
  },
  {
   "cell_type": "code",
   "execution_count": 820,
   "metadata": {},
   "outputs": [
    {
     "name": "stdout",
     "output_type": "stream",
     "text": [
      "[0, 1, 2, 3, 4, 5, 6, 7, 8, 9, 10, 11, 12, 13, 14, 15, 16, 17, 18, 19, 20, 21, 22, 23, 24, 25, 26, 27, 28, 29, 30, 31]\n",
      "[0, 1, 2, 3, 4, 5, 6, 7, 8, 9, 10, 11, 12, 13, 14, 15, 16, 17, 18, 19, 20, 21, 22, 23, 24, 25, 26, 27, 28, 29, 30, 31, 165, 115, 194, 159, 161, 118, 196, 152, 169, 127, 206, 147, 165, 114, 192, 156, 22, 81, 168, 205, 2, 68, 190, 218, 26, 93, 164, 193, 6, 64, 186, 222, 174, 135, 223, 240, 15, 241, 27, 104, 166, 142, 213, 251, 3, 252, 21, 103, 109, 225, 241, 72, 111, 165, 79, 146, 117, 248, 235, 83, 115, 184, 81, 141, 198, 86, 130, 127, 201, 167, 153, 23, 111, 41, 76, 236, 108, 213, 89, 139, 61, 226, 58, 117, 82, 71, 117, 231, 39, 191, 158, 180, 84, 7, 207, 57, 11, 220, 144, 95, 194, 123, 9, 72, 173, 82, 69, 164, 193, 135, 28, 47, 69, 245, 166, 96, 23, 178, 211, 135, 48, 13, 77, 51, 100, 10, 130, 10, 124, 207, 247, 28, 190, 180, 254, 84, 19, 230, 187, 240, 210, 97, 167, 223, 240, 26, 250, 254, 231, 168, 41, 121, 215, 165, 100, 74, 179, 175, 230, 64, 37, 65, 254, 113, 155, 245, 0, 37, 136, 19, 187, 213, 90, 114, 28, 10, 78, 90, 102, 153, 169, 242, 79, 224, 126, 87, 43, 170, 205, 248, 205, 234, 36, 252, 121, 204, 191, 9, 121, 233, 55, 26, 194, 60, 109, 104, 222, 54]\n"
     ]
    }
   ],
   "source": [
    "#Test your code\n",
    "key = getKey('testKey')\n",
    "print(key)\n",
    "expandedKey = expandKey(key)\n",
    "print(expandedKey)"
   ]
  },
  {
   "cell_type": "markdown",
   "metadata": {},
   "source": [
    "**Output:**\n",
    "\n",
    "[0, 1, 2, 3, 4, 5, 6, 7, 8, 9, 10, 11, 12, 13, 14, 15, 16, 17, 18, 19, 20, 21, 22, 23, 24, 25, 26, 27, 28, 29, 30, 31]\n",
    "\n",
    "[0, 1, 2, 3, 4, 5, 6, 7, 8, 9, 10, 11, 12, 13, 14, 15, 16, 17, 18, 19, 20, 21, 22, 23, 24, 25, 26, 27, 28, 29, 30, 31, 165, 115, 194, 159, 161, 118, 196, 152, 169, 127, 206, 147, 165, 114, 192, 156, 22, 81, 168, 205, 2, 68, 190, 218, 26, 93, 164, 193, 6, 64, 186, 222, 174, 135, 223, 240, 15, 241, 27, 104, 166, 142, 213, 251, 3, 252, 21, 103, 109, 225, 241, 72, 111, 165, 79, 146, 117, 248, 235, 83, 115, 184, 81, 141, 198, 86, 130, 127, 201, 167, 153, 23, 111, 41, 76, 236, 108, 213, 89, 139, 61, 226, 58, 117, 82, 71, 117, 231, 39, 191, 158, 180, 84, 7, 207, 57, 11, 220, 144, 95, 194, 123, 9, 72, 173, 82, 69, 164, 193, 135, 28, 47, 69, 245, 166, 96, 23, 178, 211, 135, 48, 13, 77, 51, 100, 10, 130, 10, 124, 207, 247, 28, 190, 180, 254, 84, 19, 230, 187, 240, 210, 97, 167, 223, 240, 26, 250, 254, 231, 168, 41, 121, 215, 165, 100, 74, 179, 175, 230, 64, 37, 65, 254, 113, 155, 245, 0, 37, 136, 19, 187, 213, 90, 114, 28, 10, 78, 90, 102, 153, 169, 242, 79, 224, 126, 87, 43, 170, 205, 248, 205, 234, 36, 252, 121, 204, 191, 9, 121, 233, 55, 26, 194, 60, 109, 104, 222, 54]"
   ]
  },
  {
   "cell_type": "markdown",
   "metadata": {},
   "source": [
    "# 3. createRoundKey()"
   ]
  },
  {
   "cell_type": "markdown",
   "metadata": {},
   "source": [
    "Method createRoundKey() samples the expanded key. In total there are 14 rounds in AES-256, and 14 round keys need to be extracted from the expanded key."
   ]
  },
  {
   "cell_type": "markdown",
   "metadata": {},
   "source": [
    "**Method:** createRoundKey(expandedKey, n)\n",
    "\n",
    "**Input:** expandedKey (240 bytes) and round number n\n",
    "\n",
    "**Output:** roundKey (16 bytes)"
   ]
  },
  {
   "cell_type": "markdown",
   "metadata": {},
   "source": [
    "Explain what you do and why here in this cell (in English):\n"
   ]
  },
  {
   "cell_type": "markdown",
   "metadata": {},
   "source": [
    "AddRoundKey(state, w[Nr*Nb, (Nr+1)*Nb-1])"
   ]
  },
  {
   "cell_type": "markdown",
   "metadata": {},
   "source": [
    "[S0, S1, S2, S3] = [S0, S1, S2, S3] XOR [W_round*Nb+c]"
   ]
  },
  {
   "cell_type": "code",
   "execution_count": 821,
   "metadata": {},
   "outputs": [],
   "source": [
    "# createRoundKey(expandedKey, n) method here:\n",
    "def createRoundKey(expandedKey,n):\n",
    "    roundList = []\n",
    "    tempList = []\n",
    "    count = -1\n",
    "    for i in range(0,240,16):\n",
    "\n",
    "        x = i\n",
    "        y= expandedKey[x:x+16]\n",
    "        # print(y)\n",
    "        roundList.append(y)\n",
    "        count +=1\n",
    "    return roundList[n]\n",
    "\n"
   ]
  },
  {
   "cell_type": "code",
   "execution_count": 822,
   "metadata": {},
   "outputs": [
    {
     "name": "stdout",
     "output_type": "stream",
     "text": [
      "[0, 1, 2, 3, 4, 5, 6, 7, 8, 9, 10, 11, 12, 13, 14, 15, 16, 17, 18, 19, 20, 21, 22, 23, 24, 25, 26, 27, 28, 29, 30, 31, 165, 115, 194, 159, 161, 118, 196, 152, 169, 127, 206, 147, 165, 114, 192, 156, 22, 81, 168, 205, 2, 68, 190, 218, 26, 93, 164, 193, 6, 64, 186, 222, 174, 135, 223, 240, 15, 241, 27, 104, 166, 142, 213, 251, 3, 252, 21, 103, 109, 225, 241, 72, 111, 165, 79, 146, 117, 248, 235, 83, 115, 184, 81, 141, 198, 86, 130, 127, 201, 167, 153, 23, 111, 41, 76, 236, 108, 213, 89, 139, 61, 226, 58, 117, 82, 71, 117, 231, 39, 191, 158, 180, 84, 7, 207, 57, 11, 220, 144, 95, 194, 123, 9, 72, 173, 82, 69, 164, 193, 135, 28, 47, 69, 245, 166, 96, 23, 178, 211, 135, 48, 13, 77, 51, 100, 10, 130, 10, 124, 207, 247, 28, 190, 180, 254, 84, 19, 230, 187, 240, 210, 97, 167, 223, 240, 26, 250, 254, 231, 168, 41, 121, 215, 165, 100, 74, 179, 175, 230, 64, 37, 65, 254, 113, 155, 245, 0, 37, 136, 19, 187, 213, 90, 114, 28, 10, 78, 90, 102, 153, 169, 242, 79, 224, 126, 87, 43, 170, 205, 248, 205, 234, 36, 252, 121, 204, 191, 9, 121, 233, 55, 26, 194, 60, 109, 104, 222, 54]\n",
      "[0, 1, 2, 3, 4, 5, 6, 7, 8, 9, 10, 11, 12, 13, 14, 15]\n",
      "[61, 226, 58, 117, 82, 71, 117, 231, 39, 191, 158, 180, 84, 7, 207, 57]\n",
      "[36, 252, 121, 204, 191, 9, 121, 233, 55, 26, 194, 60, 109, 104, 222, 54]\n"
     ]
    }
   ],
   "source": [
    "#Test your Code:\n",
    "\n",
    "key = getKey('testKey')\n",
    "expandedKey = expandKey(key)\n",
    "roundKey0 = createRoundKey(expandedKey,0)\n",
    "roundKey7 = createRoundKey(expandedKey,7)\n",
    "roundKey14 = createRoundKey(expandedKey,14)\n",
    "print(expandedKey)\n",
    "print(roundKey0)\n",
    "print(roundKey7)\n",
    "print(roundKey14)"
   ]
  },
  {
   "cell_type": "markdown",
   "metadata": {},
   "source": [
    "**Output:**\n",
    "\n",
    "[0, 1, 2, 3, 4, 5, 6, 7, 8, 9, 10, 11, 12, 13, 14, 15, 16, 17, 18, 19, 20, 21, 22, 23, 24, 25, 26, 27, 28, 29, 30, 31, 165, 115, 194, 159, 161, 118, 196, 152, 169, 127, 206, 147, 165, 114, 192, 156, 22, 81, 168, 205, 2, 68, 190, 218, 26, 93, 164, 193, 6, 64, 186, 222, 174, 135, 223, 240, 15, 241, 27, 104, 166, 142, 213, 251, 3, 252, 21, 103, 109, 225, 241, 72, 111, 165, 79, 146, 117, 248, 235, 83, 115, 184, 81, 141, 198, 86, 130, 127, 201, 167, 153, 23, 111, 41, 76, 236, 108, 213, 89, 139, 61, 226, 58, 117, 82, 71, 117, 231, 39, 191, 158, 180, 84, 7, 207, 57, 11, 220, 144, 95, 194, 123, 9, 72, 173, 82, 69, 164, 193, 135, 28, 47, 69, 245, 166, 96, 23, 178, 211, 135, 48, 13, 77, 51, 100, 10, 130, 10, 124, 207, 247, 28, 190, 180, 254, 84, 19, 230, 187, 240, 210, 97, 167, 223, 240, 26, 250, 254, 231, 168, 41, 121, 215, 165, 100, 74, 179, 175, 230, 64, 37, 65, 254, 113, 155, 245, 0, 37, 136, 19, 187, 213, 90, 114, 28, 10, 78, 90, 102, 153, 169, 242, 79, 224, 126, 87, 43, 170, 205, 248, 205, 234, 36, 252, 121, 204, 191, 9, 121, 233, 55, 26, 194, 60, 109, 104, 222, 54]\n",
    "\n",
    "[0, 1, 2, 3, 4, 5, 6, 7, 8, 9, 10, 11, 12, 13, 14, 15]\n",
    "\n",
    "[61, 226, 58, 117, 82, 71, 117, 231, 39, 191, 158, 180, 84, 7, 207, 57]\n",
    "\n",
    "[36, 252, 121, 204, 191, 9, 121, 233, 55, 26, 194, 60, 109, 104, 222, 54]\n"
   ]
  },
  {
   "cell_type": "markdown",
   "metadata": {},
   "source": [
    "# 4. addRoundKey()"
   ]
  },
  {
   "cell_type": "markdown",
   "metadata": {},
   "source": [
    "addRoundKey() XORs each element of a roundkey with a block. <br>See: https://en.wikipedia.org/wiki/Advanced_Encryption_Standard#The_AddRoundKey_step"
   ]
  },
  {
   "cell_type": "markdown",
   "metadata": {},
   "source": [
    "**Method:** addRoundKey(block,roundKey)\n",
    "\n",
    "**Input:** block (16 bytes) and roundKey (16 bytes)\n",
    "\n",
    "**Output:** block (16 bytes)"
   ]
  },
  {
   "cell_type": "markdown",
   "metadata": {},
   "source": [
    "Explain what you do and why here in this cell (in English):\n"
   ]
  },
  {
   "cell_type": "code",
   "execution_count": 823,
   "metadata": {},
   "outputs": [],
   "source": [
    "# addRoundKey(block,roundKey) method here:\n",
    "def addRoundKey(block,roundKey):\n",
    "    tempList = []\n",
    "    for i in range(len(block)):\n",
    "        y = block[i]^roundKey[i]\n",
    "        tempList.append(y)\n",
    "    return tempList"
   ]
  },
  {
   "cell_type": "code",
   "execution_count": 824,
   "metadata": {},
   "outputs": [
    {
     "name": "stdout",
     "output_type": "stream",
     "text": [
      "[0, 16, 32, 48, 64, 80, 96, 112, 128, 144, 160, 176, 192, 208, 224, 240]\n"
     ]
    }
   ],
   "source": [
    "#Test your Code:\n",
    "\n",
    "key = getKey('testKey')\n",
    "testBlock = getBlock('testBlock')\n",
    "# print(len(testBlock))\n",
    "expandedKey = expandKey(key)\n",
    "roundKey0 = createRoundKey(expandedKey,0)\n",
    "addedRoundKeyToBlock = addRoundKey(testBlock,roundKey0)\n",
    "print(addedRoundKeyToBlock)\n"
   ]
  },
  {
   "cell_type": "markdown",
   "metadata": {},
   "source": [
    "**Output:**\n",
    "\n",
    "[0, 16, 32, 48, 64, 80, 96, 112, 128, 144, 160, 176, 192, 208, 224, 240]"
   ]
  },
  {
   "cell_type": "markdown",
   "metadata": {},
   "source": [
    "# Cryptography Lab 4, 5, and 6"
   ]
  },
  {
   "cell_type": "markdown",
   "metadata": {},
   "source": [
    "A large text file tWotW.txt is now available on Learn. Your task in Lab 6 is to read this file,Split it into blocks, Encrypt the blocks, and produce an encrypted version of the file. Then, read the encrypted file block by block and decrypt it. Upload the encrypted version of tWOW.txt to Learn, as well. <br>Labs 1-6 must be merged in one JNB file and that file must be compressed with the corresponding .pdf file and encryptedtWOW.txt (the encrypted version of tWOW.txt), that is, your final submission includes three files compressed into one .rar or .zip file:\n",
    "\n",
    "1. AES labs 1-6 in one .ipynb file,\n",
    "2. the .ipynb file converted into .pdf, and\n",
    "3. encryptedtWOW.txt by you."
   ]
  },
  {
   "cell_type": "markdown",
   "metadata": {},
   "source": [
    "Add brief explanations regarding how you built each method, and why each method is needed (in English).\n",
    "\n",
    "Sometimes it is good to define helper methods in addition to the main methods before the actual methods. You may add helper methods before the main methods in the same Python cell."
   ]
  },
  {
   "cell_type": "markdown",
   "metadata": {},
   "source": [
    "# Lab 4 \n",
    "## Encryption\n",
    "\n",
    "By now all essential parts of AES has been implemented. What is left to do is to call all the methods in the correct order to encrypt a block. We are going to follow the description provided here:\n",
    "\n",
    "https://en.wikipedia.org/wiki/Advanced_Encryption_Standard#High-level_description_of_the_algorithm\n",
    "\n",
    "More specifically, the encryption method should perform the following steps:\n"
   ]
  },
  {
   "cell_type": "code",
   "execution_count": 825,
   "metadata": {},
   "outputs": [],
   "source": [
    "# #**Initialize:**\n",
    "\n",
    "# expandKey(key)\n",
    "# #**0-th round:**\n",
    "\n",
    "# createRoundKey(expandedKey,0)\n",
    "# addRoundKey(block, roundKey)\n",
    "\n",
    "# #**1-st to 13:th round:**\n",
    "# createRoundKey(expandedKey,i)\n",
    "# subBytes(block)\n",
    "# shiftRows(block)\n",
    "# mixColumns(block)\n",
    "# addRoundKey(block, roundKey)\n",
    "\n",
    "# #**14:th round:**\n",
    "\n",
    "# createRoundKey(expandedKey,14)\n",
    "# subBytes(block)\n",
    "# shiftRows(block)\n",
    "# addRoundKey(block, roundKey)\n",
    "\n",
    "# #**Return:** block"
   ]
  },
  {
   "cell_type": "code",
   "execution_count": 826,
   "metadata": {},
   "outputs": [],
   "source": [
    "def p(a):\n",
    "    print(f'Output:{a}')"
   ]
  },
  {
   "cell_type": "markdown",
   "metadata": {},
   "source": [
    "# encrypt(block, key)"
   ]
  },
  {
   "cell_type": "markdown",
   "metadata": {},
   "source": [
    "**Method name:** encrypt(blocks, key)\n",
    "\n",
    "**Input:** block and key\n",
    "\n",
    "**Output:** encrypted block"
   ]
  },
  {
   "cell_type": "markdown",
   "metadata": {},
   "source": [
    "Explain what you do and why here in this cell (in English):\n"
   ]
  },
  {
   "cell_type": "markdown",
   "metadata": {},
   "source": [
    "Legend for CIPHER (ENCRYPT) (round number r = 0 to 10, 12 or 14):\n",
    "input: cipher input\n",
    "start: state at start of round[r]\n",
    "s_box: state after SubBytes()\n",
    "s_row: state after ShiftRows()\n",
    "m_col: state after MixColumns()\n",
    "k_sch: key schedule value for round[r]\n",
    "output: cipher output\n",
    "\n",
    "\n",
    "Legend for INVERSE CIPHER (DECRYPT) (round number r = 0 to 10, 12 or 14):\n",
    "iinput: inverse cipher input\n",
    "istart: state at start of round[r]\n",
    "is_box: state after InvSubBytes()\n",
    "is_row: state after InvShiftRows()\n",
    "ik_sch: key schedule value for round[r]\n",
    "ik_add: state after AddRoundKey()\n",
    "ioutput: inverse cipher output"
   ]
  },
  {
   "cell_type": "code",
   "execution_count": 827,
   "metadata": {},
   "outputs": [],
   "source": [
    "def p(r,s):\n",
    "    print(f'Round:{r}::State:{s}')"
   ]
  },
  {
   "cell_type": "markdown",
   "metadata": {},
   "source": [
    "input: cipher input\n",
    "start: state at start of round[r]\n",
    "s_box: state after SubBytes()\n",
    "s_row: state after ShiftRows()\n",
    "m_col: state after MixColumns()\n",
    "k_sch: key schedule value for round[r]\n",
    "output: cipher output"
   ]
  },
  {
   "cell_type": "code",
   "execution_count": 861,
   "metadata": {},
   "outputs": [],
   "source": [
    "# encrypt(block, key) method here:\n",
    "\n",
    "\n",
    "def encrypt(block,key):\n",
    "    state = []\n",
    "    tempKey = []\n",
    "    state.extend(block)\n",
    "    \n",
    "    #**Initialize:**\n",
    "    expandedKey = expandKey(key)\n",
    "    # print(f'temp:{tempKey}')\n",
    "    # print(expandedKey)\n",
    "    #**0-th round:**\n",
    "\n",
    "    roundKey = createRoundKey(expandedKey,0)\n",
    "    print(f'Input[{0}]: {state}')\n",
    "    # state = addRoundKey(state, roundKey)\n",
    "    print(f'round[{0}]k_sch: {roundKey}')\n",
    "\n",
    "    state = addRoundKey(state,roundKey)\n",
    "    print(f'round[{1}]start:{state}')\n",
    "\n",
    "    #1st loop\n",
    "    state = subBytes(state)\n",
    "    print(f'round[{1}]s_box:{state}')\n",
    "    state = shiftRows(state)\n",
    "    print(f'round[{1}]s_row:{state}')\n",
    "\n",
    "    state = mixColumns(state)\n",
    "    print(f'round[{1}]m_col:{state}')\n",
    "    \n",
    "    roundKey = createRoundKey(expandedKey,1)\n",
    "    print(f'round[{1}]k_sch:{roundKey}')\n",
    "\n",
    "    #2nd loop\n",
    "    state = addRoundKey(state,roundKey)\n",
    "    print(f'round[{2}]start:{state}')\n",
    "    #     roundKey = createRoundKey(expandedKey,i)\n",
    "    #     state = subBytes(state)\n",
    "    #     state = shiftRows(state)\n",
    "    #     state = mixColumns(state)\n",
    "    #     state = addRoundKey(state, roundKey)\n",
    "\n",
    "    #**14:th round:**\n",
    "\n",
    "    # roundKey = createRoundKey(expandedKey,14)\n",
    "    # state = subBytes(state)\n",
    "    # state = shiftRows(state)\n",
    "    # state = addRoundKey(state, roundKey)\n",
    "\n",
    "    #**Return:** block\n",
    "    return state"
   ]
  },
  {
   "cell_type": "code",
   "execution_count": 860,
   "metadata": {},
   "outputs": [],
   "source": [
    "def encrypt(block,key):\n",
    "    state = []\n",
    "    state.extend(block)\n",
    "\n",
    "    # #**Initialize:**\n",
    "\n",
    "    expandedKey = expandKey(key)\n",
    "    #**0-th round:**\n",
    "\n",
    "    roundKey = createRoundKey(expandedKey,0)\n",
    "    # addRoundKey(block, roundKey)\n",
    "    print(f'Input[{0}]: {state}')\n",
    "    print(f'round[{0}]: {roundKey}')\n",
    "\n",
    "    state = addRoundKey(state,roundKey)\n",
    "    # print(f'round[{1}]start:{state}')\n",
    "\n",
    "    #**1-st to 13:th round:**\n",
    "    for i in range(1,14):\n",
    "        print(f'round[{i}]start:{state}')\n",
    "        state = subBytes(state)\n",
    "        # print(f'round[{i}]sub:{state}')\n",
    "        state = shiftRows(state)\n",
    "        # print(f'round[{i}]shift:{state}')\n",
    "        state = mixColumns(state)\n",
    "        # print(f'round[{i}]mix:{state}')\n",
    "        roundKey = createRoundKey(expandedKey,i)\n",
    "        print(f'round[{i}]round:{roundKey}')\n",
    "        state = addRoundKey(state,roundKey)\n",
    "\n",
    "    # #**14:th round:**\n",
    "    state = subBytes(state)\n",
    "    print(state)\n",
    "    state = shiftRows(state)\n",
    "    roundKey = createRoundKey(expandedKey,14)\n",
    "    print(roundKey)\n",
    "    state = addRoundKey(state,roundKey)\n",
    "    #**Return:** block\n",
    "    return state"
   ]
  },
  {
   "cell_type": "code",
   "execution_count": 866,
   "metadata": {},
   "outputs": [],
   "source": [
    "def encrypt(block,key):\n",
    "    state = []\n",
    "    state.extend(block)\n",
    "\n",
    "    # #**Initialize:**\n",
    "\n",
    "    expandedKey = expandKey(key)\n",
    "    #**0-th round:**\n",
    "\n",
    "    roundKey = createRoundKey(expandedKey,0)\n",
    "    # addRoundKey(block, roundKey)\n",
    "    print(f'Input[{0}]: {state}')\n",
    "    print(f'round[{0}]: {roundKey}')\n",
    "\n",
    "    state = addRoundKey(state,roundKey)\n",
    "    # print(f'round[{1}]start:{state}')\n",
    "\n",
    "    #**1-st to 13:th round:**\n",
    "    for i in range(1,14):\n",
    "        # print(f'round[{i}]start:{state}')\n",
    "        state = subBytes(state)\n",
    "        # print(f'round[{i}]sub:{state}')\n",
    "        state = shiftRows(state)\n",
    "        # print(f'round[{i}]shift:{state}')\n",
    "        state = mixColumns(state)\n",
    "        # print(f'round[{i}]mix:{state}')\n",
    "        roundKey = createRoundKey(expandedKey,i)\n",
    "        print(f'round[{i}]round:{roundKey}')\n",
    "        state = addRoundKey(state,roundKey)\n",
    "\n",
    "    # #**14:th round:**\n",
    "    state = subBytes(state)\n",
    "    print(state)\n",
    "    state = shiftRows(state)\n",
    "    roundKey = createRoundKey(expandedKey,14)\n",
    "    print(roundKey)\n",
    "    state = addRoundKey(state,roundKey)\n",
    "    #**Return:** block\n",
    "    return state"
   ]
  },
  {
   "cell_type": "code",
   "execution_count": 864,
   "metadata": {},
   "outputs": [
    {
     "name": "stdout",
     "output_type": "stream",
     "text": [
      "['0x5f', '0x69', '0x64', '0xe', '0x57', '0xee', '0xa7', '0x92', '0xec', '0xa5', '0x20', '0x32', '0x1d', '0xb9', '0xf9', '0x1a']\n"
     ]
    }
   ],
   "source": [
    "d = [95, 105, 100, 14, 87, 238, 167, 146, 236, 165, 32, 50, 29, 185, 249, 26]\n",
    "h = []\n",
    "for i in d:\n",
    "    y = hex(i)\n",
    "    h.append(y)\n",
    "print(h)"
   ]
  },
  {
   "cell_type": "code",
   "execution_count": 867,
   "metadata": {},
   "outputs": [
    {
     "name": "stdout",
     "output_type": "stream",
     "text": [
      "Input[0]: [0, 17, 34, 51, 68, 85, 102, 119, 136, 153, 170, 187, 204, 221, 238, 255]\n",
      "round[0]: [0, 1, 2, 3, 4, 5, 6, 7, 8, 9, 10, 11, 12, 13, 14, 15]\n",
      "round[1]round:[16, 17, 18, 19, 20, 21, 22, 23, 24, 25, 26, 27, 28, 29, 30, 31]\n",
      "round[2]round:[165, 115, 194, 159, 161, 118, 196, 152, 169, 127, 206, 147, 165, 114, 192, 156]\n",
      "round[3]round:[22, 81, 168, 205, 2, 68, 190, 218, 26, 93, 164, 193, 6, 64, 186, 222]\n",
      "round[4]round:[174, 135, 223, 240, 15, 241, 27, 104, 166, 142, 213, 251, 3, 252, 21, 103]\n",
      "round[5]round:[109, 225, 241, 72, 111, 165, 79, 146, 117, 248, 235, 83, 115, 184, 81, 141]\n",
      "round[6]round:[198, 86, 130, 127, 201, 167, 153, 23, 111, 41, 76, 236, 108, 213, 89, 139]\n",
      "round[7]round:[61, 226, 58, 117, 82, 71, 117, 231, 39, 191, 158, 180, 84, 7, 207, 57]\n",
      "round[8]round:[11, 220, 144, 95, 194, 123, 9, 72, 173, 82, 69, 164, 193, 135, 28, 47]\n",
      "round[9]round:[69, 245, 166, 96, 23, 178, 211, 135, 48, 13, 77, 51, 100, 10, 130, 10]\n",
      "round[10]round:[124, 207, 247, 28, 190, 180, 254, 84, 19, 230, 187, 240, 210, 97, 167, 223]\n",
      "round[11]round:[240, 26, 250, 254, 231, 168, 41, 121, 215, 165, 100, 74, 179, 175, 230, 64]\n",
      "round[12]round:[37, 65, 254, 113, 155, 245, 0, 37, 136, 19, 187, 213, 90, 114, 28, 10]\n",
      "round[13]round:[78, 90, 102, 153, 169, 242, 79, 224, 126, 87, 43, 170, 205, 248, 205, 234]\n",
      "[52, 65, 193, 130, 199, 107, 141, 168, 162, 48, 140, 75, 197, 159, 232, 102]\n",
      "[36, 252, 121, 204, 191, 9, 121, 233, 55, 26, 194, 60, 109, 104, 222, 54]\n",
      "EncryptedBlock: [16, 151, 245, 170, 120, 57, 145, 107, 149, 133, 3, 148, 168, 41, 83, 125]\n"
     ]
    }
   ],
   "source": [
    "#test your Code:\n",
    "key = getKey('testKey')\n",
    "block = getBlock('testBlock')\n",
    "# print(f'block:{block}')\n",
    "# print(f'key:{key}')\n",
    "encryptedBlock = encrypt(block,key)\n",
    "print(f'EncryptedBlock: {encryptedBlock}')"
   ]
  },
  {
   "cell_type": "markdown",
   "metadata": {},
   "source": [
    "**Output:**\n",
    "\n",
    "    [0, 17, 34, 51, 68, 85, 102, 119, 136, 153, 170, 187, 204, 221, 238, 255]\n",
    "\n",
    "    [142, 162, 183, 202, 81, 103, 69, 191, 234, 252, 73, 144, 75, 73, 96, 137]"
   ]
  },
  {
   "cell_type": "markdown",
   "metadata": {},
   "source": [
    "# Lab 5\n",
    "\n",
    "## Decryption\n",
    "\n",
    "Again, see: https://en.wikipedia.org/wiki/Advanced_Encryption_Standard#High-level_description_of_the_algorithm\n"
   ]
  },
  {
   "cell_type": "markdown",
   "metadata": {},
   "source": [
    "## decrypt(block, key)"
   ]
  },
  {
   "cell_type": "markdown",
   "metadata": {},
   "source": [
    "**Input:** block and key\n",
    "\n",
    "**Output:** decrypted block\n"
   ]
  },
  {
   "cell_type": "code",
   "execution_count": 838,
   "metadata": {},
   "outputs": [],
   "source": [
    "# decrypt(block, key) method here:\n",
    "def decrypt(block,key):\n",
    "    state = []\n",
    "    state.extend(block)\n",
    "    expandedKey = expandKey(key)\n",
    "\n",
    "    #**14-th round:**\n",
    "\n",
    "    roundKey = createRoundKey(expandedKey,14)\n",
    "    state = addRoundKey(state, roundKey)\n",
    "    state = shiftRowsInv(state)\n",
    "    state = subBytesInv(state)\n",
    "\n",
    "    #**13-th to 1:st round:**\n",
    "    for i in range(1,14):\n",
    "        x = 14-i\n",
    "        roundKey = createRoundKey(expandedKey,x)\n",
    "        state = addRoundKey(state, roundKey)\n",
    "        state = mixColumnsInv(state)\n",
    "        state = shiftRowsInv(state)\n",
    "        state = subBytesInv(state)\n",
    "\n",
    "    #**0:th round:**\n",
    "    roundKey = createRoundKey(expandedKey,0)\n",
    "    state = addRoundKey(state, roundKey)\n",
    "\n",
    "    return state\n",
    "    #**Return:** block\n",
    "    "
   ]
  },
  {
   "cell_type": "markdown",
   "metadata": {},
   "source": [
    "Explain what you do and why here in this cell (in English):\n"
   ]
  },
  {
   "cell_type": "code",
   "execution_count": 839,
   "metadata": {},
   "outputs": [
    {
     "name": "stdout",
     "output_type": "stream",
     "text": [
      "[0, 17, 34, 51, 68, 85, 102, 119, 136, 153, 170, 187, 204, 221, 238, 255]\n",
      "Input[0]: [0, 17, 34, 51, 68, 85, 102, 119, 136, 153, 170, 187, 204, 221, 238, 255]\n",
      "round[0]: [0, 1, 2, 3, 4, 5, 6, 7, 8, 9, 10, 11, 12, 13, 14, 15]\n",
      "round[1]start:[0, 16, 32, 48, 64, 80, 96, 112, 128, 144, 160, 176, 192, 208, 224, 240]\n",
      "round[1]sub:[99, 202, 183, 4, 9, 83, 208, 81, 205, 96, 224, 231, 186, 112, 225, 140]\n",
      "round[1]shift:[99, 83, 224, 140, 9, 96, 225, 4, 205, 112, 183, 81, 186, 202, 208, 231]\n",
      "round[1]mix:[95, 105, 100, 14, 87, 238, 167, 146, 236, 165, 32, 50, 29, 185, 249, 26]\n",
      "round[1]round:[16, 17, 18, 19, 20, 21, 22, 23, 24, 25, 26, 27, 28, 29, 30, 31]\n",
      "round[2]start:[79, 120, 118, 29, 67, 251, 177, 133, 244, 188, 58, 41, 1, 164, 231, 5]\n",
      "round[2]sub:[132, 188, 56, 164, 26, 15, 200, 151, 191, 101, 128, 165, 124, 73, 148, 107]\n",
      "round[2]shift:[132, 15, 128, 107, 26, 101, 148, 164, 191, 73, 56, 151, 124, 188, 200, 165]\n",
      "round[2]mix:[242, 113, 54, 213, 171, 200, 187, 151, 10, 242, 63, 158, 81, 249, 191, 186]\n",
      "round[2]round:[165, 115, 194, 159, 161, 118, 196, 152, 169, 127, 206, 147, 165, 114, 192, 156]\n",
      "round[3]start:[87, 2, 244, 74, 10, 190, 127, 15, 163, 141, 241, 13, 244, 139, 127, 38]\n",
      "round[3]sub:[91, 119, 191, 214, 103, 174, 210, 118, 10, 93, 161, 215, 191, 61, 210, 247]\n",
      "round[3]shift:[91, 174, 161, 247, 103, 93, 210, 214, 10, 61, 191, 118, 191, 119, 210, 215]\n",
      "round[3]mix:[18, 19, 174, 12, 45, 125, 228, 138, 154, 199, 211, 112, 226, 240, 21, 202]\n",
      "round[3]round:[22, 81, 168, 205, 2, 68, 190, 218, 26, 93, 164, 193, 6, 64, 186, 222]\n",
      "round[4]start:[4, 66, 6, 193, 47, 57, 90, 80, 128, 154, 119, 177, 228, 176, 175, 20]\n",
      "round[4]sub:[242, 44, 111, 120, 21, 18, 190, 83, 205, 184, 245, 200, 105, 231, 121, 250]\n",
      "round[4]shift:[242, 18, 245, 250, 21, 184, 121, 120, 205, 231, 111, 83, 105, 44, 190, 200]\n",
      "round[4]mix:[221, 51, 4, 5, 227, 150, 215, 14, 143, 225, 1, 121, 208, 59, 97, 185]\n",
      "round[4]round:[174, 135, 223, 240, 15, 241, 27, 104, 166, 142, 213, 251, 3, 252, 21, 103]\n",
      "round[5]start:[115, 180, 219, 245, 236, 103, 204, 102, 41, 111, 212, 130, 211, 199, 116, 222]\n",
      "round[5]sub:[143, 141, 185, 230, 206, 133, 75, 51, 165, 168, 72, 19, 102, 198, 146, 29]\n",
      "round[5]shift:[143, 133, 72, 29, 206, 168, 146, 230, 165, 198, 185, 51, 102, 141, 75, 19]\n",
      "round[5]mix:[196, 64, 189, 102, 16, 206, 104, 164, 138, 209, 68, 246, 3, 178, 72, 74]\n",
      "round[5]round:[109, 225, 241, 72, 111, 165, 79, 146, 117, 248, 235, 83, 115, 184, 81, 141]\n",
      "round[6]start:[169, 161, 76, 46, 127, 107, 39, 54, 255, 41, 175, 165, 112, 10, 25, 199]\n",
      "round[6]sub:[211, 50, 41, 49, 210, 127, 204, 5, 1, 165, 121, 6, 81, 103, 212, 198]\n",
      "round[6]shift:[211, 127, 121, 198, 210, 165, 212, 49, 1, 103, 41, 5, 81, 50, 204, 6]\n",
      "round[6]mix:[152, 96, 20, 255, 174, 213, 140, 101, 135, 177, 59, 71, 62, 103, 241, 1]\n",
      "round[6]round:[198, 86, 130, 127, 201, 167, 153, 23, 111, 41, 76, 236, 108, 213, 89, 139]\n",
      "round[7]start:[94, 54, 150, 128, 103, 114, 21, 114, 232, 152, 119, 171, 82, 178, 168, 138]\n",
      "round[7]sub:[88, 5, 144, 205, 133, 64, 89, 64, 155, 70, 245, 98, 0, 55, 194, 126]\n",
      "round[7]shift:[88, 64, 245, 126, 133, 70, 194, 205, 155, 55, 144, 64, 0, 5, 89, 98]\n",
      "round[7]mix:[251, 185, 112, 161, 207, 130, 16, 145, 191, 5, 76, 138, 52, 131, 17, 152]\n",
      "round[7]round:[61, 226, 58, 117, 82, 71, 117, 231, 39, 191, 158, 180, 84, 7, 207, 57]\n",
      "round[8]start:[198, 91, 74, 212, 157, 197, 101, 118, 152, 186, 210, 62, 96, 132, 222, 161]\n",
      "round[8]sub:[180, 57, 214, 72, 94, 166, 77, 56, 70, 244, 181, 178, 208, 95, 29, 50]\n",
      "round[8]shift:[180, 166, 181, 50, 94, 244, 29, 72, 70, 95, 214, 56, 208, 57, 77, 178]\n",
      "round[8]mix:[5, 21, 46, 171, 245, 217, 72, 155, 131, 186, 253, 51, 20, 199, 165, 96]\n",
      "round[8]round:[11, 220, 144, 95, 194, 123, 9, 72, 173, 82, 69, 164, 193, 135, 28, 47]\n",
      "round[9]start:[14, 201, 190, 244, 55, 162, 65, 211, 46, 232, 184, 151, 213, 64, 185, 79]\n",
      "round[9]sub:[171, 221, 174, 191, 154, 58, 131, 102, 49, 155, 108, 136, 3, 9, 86, 132]\n",
      "round[9]shift:[171, 58, 108, 132, 154, 155, 86, 191, 49, 9, 174, 102, 3, 221, 131, 136]\n",
      "round[9]mix:[240, 239, 197, 163, 112, 233, 108, 29, 177, 183, 206, 56, 106, 180, 64, 75]\n",
      "round[9]round:[69, 245, 166, 96, 23, 178, 211, 135, 48, 13, 77, 51, 100, 10, 130, 10]\n",
      "round[10]start:[181, 26, 99, 195, 103, 91, 191, 154, 129, 186, 131, 11, 14, 190, 194, 65]\n",
      "round[10]sub:[213, 162, 251, 46, 133, 57, 8, 184, 12, 244, 236, 43, 171, 174, 37, 131]\n",
      "round[10]shift:[213, 57, 236, 131, 133, 244, 37, 46, 12, 174, 251, 184, 171, 162, 8, 43]\n",
      "round[10]mix:[142, 16, 177, 172, 29, 44, 73, 2, 169, 229, 156, 49, 147, 220, 100, 1]\n",
      "round[10]round:[124, 207, 247, 28, 190, 180, 254, 84, 19, 230, 187, 240, 210, 97, 167, 223]\n",
      "round[11]start:[242, 223, 70, 176, 163, 152, 183, 86, 186, 3, 39, 193, 65, 189, 195, 222]\n",
      "round[11]sub:[137, 158, 90, 231, 10, 70, 169, 177, 244, 123, 204, 120, 131, 122, 46, 29]\n",
      "round[11]shift:[137, 70, 204, 29, 10, 123, 46, 231, 244, 122, 90, 177, 131, 158, 169, 120]\n",
      "round[11]mix:[9, 76, 112, 43, 80, 105, 4, 133, 141, 95, 233, 94, 117, 60, 199, 66]\n",
      "round[11]round:[240, 26, 250, 254, 231, 168, 41, 121, 215, 165, 100, 74, 179, 175, 230, 64]\n",
      "round[12]start:[249, 86, 138, 213, 183, 193, 45, 252, 90, 250, 141, 20, 198, 147, 33, 2]\n",
      "round[12]sub:[153, 177, 126, 3, 169, 120, 216, 176, 190, 45, 93, 250, 180, 220, 253, 119]\n",
      "round[12]shift:[153, 120, 93, 119, 169, 45, 253, 3, 190, 220, 126, 176, 180, 177, 216, 250]\n",
      "round[12]mix:[144, 249, 194, 96, 219, 247, 123, 45, 214, 52, 78, 0, 153, 68, 187, 65]\n",
      "round[12]round:[37, 65, 254, 113, 155, 245, 0, 37, 136, 19, 187, 213, 90, 114, 28, 10]\n",
      "round[13]start:[181, 184, 60, 17, 64, 2, 123, 8, 94, 39, 245, 213, 195, 54, 167, 75]\n",
      "round[13]sub:[213, 108, 235, 130, 9, 119, 33, 48, 88, 204, 230, 3, 46, 5, 92, 179]\n",
      "round[13]shift:[213, 119, 230, 179, 9, 204, 92, 130, 88, 5, 235, 48, 46, 108, 33, 3]\n",
      "round[13]mix:[102, 162, 187, 136, 152, 247, 251, 143, 100, 95, 219, 102, 202, 150, 5, 57]\n",
      "round[13]round:[78, 90, 102, 153, 169, 242, 79, 224, 126, 87, 43, 170, 205, 248, 205, 234]\n",
      "[40, 248, 221, 17, 49, 5, 180, 111, 26, 8, 240, 204, 7, 110, 200, 211]\n",
      "[22, 141, 7, 238, 229, 248, 212, 37, 71, 88, 188, 125, 66, 48, 159, 134]\n"
     ]
    }
   ],
   "source": [
    "#Test your Code:\n",
    "\n",
    "key = getKey('testKey')\n",
    "block = getBlock('testBlock')\n",
    "print(block)\n",
    "encryptedBlock = encrypt(block,key)\n",
    "print(encryptedBlock)\n",
    "decryptedBlock = decrypt(encryptedBlock,key)\n",
    "print(decryptedBlock)"
   ]
  },
  {
   "cell_type": "markdown",
   "metadata": {},
   "source": [
    "**Output:**\n",
    "\n",
    "    [0, 17, 34, 51, 68, 85, 102, 119, 136, 153, 170, 187, 204, 221, 238, 255]\n",
    "\n",
    "    [142, 162, 183, 202, 81, 103, 69, 191, 234, 252, 73, 144, 75, 73, 96, 137]\n",
    "\n",
    "    [0, 17, 34, 51, 68, 85, 102, 119, 136, 153, 170, 187, 204, 221, 238, 255]"
   ]
  },
  {
   "cell_type": "markdown",
   "metadata": {},
   "source": [
    "More specifically, the decryption method should perform the following steps:"
   ]
  },
  {
   "cell_type": "code",
   "execution_count": 835,
   "metadata": {},
   "outputs": [
    {
     "ename": "TypeError",
     "evalue": "'list' object is not callable",
     "output_type": "error",
     "traceback": [
      "\u001b[1;31m---------------------------------------------------------------------------\u001b[0m",
      "\u001b[1;31mTypeError\u001b[0m                                 Traceback (most recent call last)",
      "Cell \u001b[1;32mIn [835], line 3\u001b[0m\n\u001b[0;32m      1\u001b[0m \u001b[39m#**Initialize:**\u001b[39;00m\n\u001b[1;32m----> 3\u001b[0m expandedKey(key)\n\u001b[0;32m      5\u001b[0m \u001b[39m#**14-th round:**\u001b[39;00m\n\u001b[0;32m      7\u001b[0m createRoundKey(expandedKey,\u001b[39m14\u001b[39m)\n",
      "\u001b[1;31mTypeError\u001b[0m: 'list' object is not callable"
     ]
    }
   ],
   "source": [
    "#**Initialize:**\n",
    "\n",
    "expandedKey(key)\n",
    "\n",
    "#**14-th round:**\n",
    "\n",
    "createRoundKey(expandedKey,14)\n",
    "addRoundKey(block, roundKey)\n",
    "shiftRowsInv(block)\n",
    "subBytesInv(block)\n",
    "\n",
    "#**13-th to 1:st round:**\n",
    "\n",
    "createRoundKey(expandedKey,i)\n",
    "addRoundKey(block, roundKey)\n",
    "mixColumnsInv(block)\n",
    "shiftRowsInv(block)\n",
    "subBytesInv(block)\n",
    "\n",
    "#**0:th round:**\n",
    "\n",
    "createRoundKey(expandedKey,0)\n",
    "addRoundKey(block, x)\n",
    "\n",
    "#**Return:** block"
   ]
  },
  {
   "cell_type": "markdown",
   "metadata": {},
   "source": [
    "# Lab 6"
   ]
  },
  {
   "cell_type": "markdown",
   "metadata": {},
   "source": [
    "By now you should have implemented the methods encrypt() and decrypt(). Both take one block and one key as input and output a block. In the last lab you will apply your implementation to a larger file, analyse your results and prepare for your examination on the project.\n",
    "\n",
    "A large text file tWotW.txt is now available on Learn. Your task is to read this file, split it into blocks,encrypt the blocks, and produce an encrypted version of the file. Read the encrypted file block by block and decrypt it."
   ]
  },
  {
   "cell_type": "markdown",
   "metadata": {},
   "source": [
    "## Key\n",
    "\n",
    "### Question 1: What is the encryption key are you using (in hex format)?\n",
    "\n",
    "Question 1 answer:\n"
   ]
  },
  {
   "cell_type": "markdown",
   "metadata": {},
   "source": [
    "### Question 2: What is the avalanche effect in cryptography? If one bit is changed in a key, what should happen to the ciphertext? This is a theoretical question, no need to demonstrate this in practice.\n",
    "\n",
    "Question 2 answer:\n",
    "\n"
   ]
  },
  {
   "cell_type": "markdown",
   "metadata": {},
   "source": [
    "## Confusion and diffusion\n",
    "\n",
    "See: https://en.wikipedia.org/wiki/Confusion_and_diffusion\n",
    "### Question 3: What is confusion and how is it achieved in AES?\n",
    "\n",
    "Question 3 answer:\n"
   ]
  },
  {
   "cell_type": "markdown",
   "metadata": {},
   "source": [
    "### Question 4: What is diffusion and how is it achieved in AES?\n",
    "\n",
    "Question 4 answer:\n",
    "\n"
   ]
  },
  {
   "cell_type": "markdown",
   "metadata": {},
   "source": [
    "## Mode of operation\n",
    "\n",
    "See: https://en.wikipedia.org/wiki/Block_cipher_mode_of_operation#Common_modes\n",
    "\n",
    "### Question 5: You are free to apply any mode of operation described in the article above. ECB is the easiest to implement, but it has some weaknesses. What are these weaknesses?\n",
    "\n",
    "Question 5 answer:\n"
   ]
  },
  {
   "cell_type": "markdown",
   "metadata": {},
   "source": [
    "### Question 6: A stronger mode from a security point-of-view is CBC. It is not much harder to implement but much stronger. What are the advantages and disadvantages of CBC compared to ECB?\n",
    "\n",
    "Question 6 answer:\n",
    "\n"
   ]
  },
  {
   "cell_type": "markdown",
   "metadata": {},
   "source": [
    "### Question 7: What mode of operation are you using? Describe how it works.\n",
    "\n",
    "Question 7 answer:\n",
    "\n"
   ]
  },
  {
   "cell_type": "markdown",
   "metadata": {},
   "source": [
    "## Performance\n",
    "\n",
    "### Question 8: How many blocks does the file tWotW.txt consist of?\n",
    "\n",
    "Question 8 answer:\n"
   ]
  },
  {
   "cell_type": "markdown",
   "metadata": {},
   "source": [
    "### Question 9: How long does it take to read the file, encrypt it and store (write to disk) the encrypted file? You can import and use the time class in Python for this. Use any key you wish.\n",
    "\n",
    "Question 9 answer:\n",
    "\n"
   ]
  },
  {
   "cell_type": "markdown",
   "metadata": {},
   "source": [
    "### Question 10: How long does it take to read the encrypted file, decrypt it and store the plain text file?\n",
    "\n",
    "Question 10 answer:\n",
    "\n"
   ]
  },
  {
   "cell_type": "markdown",
   "metadata": {},
   "source": [
    "### Question 11: Do the encryption and decryption times differ? If so, why?\n",
    "\n",
    "Question 11 answer:\n",
    "\n"
   ]
  },
  {
   "cell_type": "markdown",
   "metadata": {},
   "source": [
    "### Question 12: Give suggestions regarding how you could improve the performance of your code.\n",
    "\n",
    "Question 12 answer:\n",
    "\n"
   ]
  },
  {
   "cell_type": "markdown",
   "metadata": {},
   "source": [
    "### Question 13: Try to compress (.zip or other compression) both the plain text file and the encrypted file. Are there any differences in the size of these files? If so why? Is it better to compress first and encrypt later or encrypt first and compress later? Motivate your answer!\n",
    "\n",
    "Question 13 answer:\n",
    "\n"
   ]
  },
  {
   "cell_type": "markdown",
   "metadata": {},
   "source": [
    "### Notes:\n",
    "\n",
    "During your presentation we will look at your code together and we will ask questions regarding your implementation. You must be able to explain how all parts of your code works. Feel free to add comments to the code and text cells to help your explanation.\n",
    "\n",
    "If you get help from others you **MUST** comment this in your code. You should comment if you have discussed your code or collaborated with fellow students and comment this for every method and give credit to the right person. The same goes if you have looked at code from the internet. Provide links.\n",
    "\n",
    "Upload the encrypted version encryptedtWOW.txt of the original file tWOW.txt to Learn, as well. Make sure that the decrypted file is identical to the original file tWOW.txt."
   ]
  }
 ],
 "metadata": {
  "kernelspec": {
   "display_name": "Python 3.10.5 64-bit",
   "language": "python",
   "name": "python3"
  },
  "language_info": {
   "codemirror_mode": {
    "name": "ipython",
    "version": 3
   },
   "file_extension": ".py",
   "mimetype": "text/x-python",
   "name": "python",
   "nbconvert_exporter": "python",
   "pygments_lexer": "ipython3",
   "version": "3.10.5"
  },
  "vscode": {
   "interpreter": {
    "hash": "85b40fe2041d07446ce04a4d73893508faa94764b231bab056b823d5e897e796"
   }
  }
 },
 "nbformat": 4,
 "nbformat_minor": 4
}
