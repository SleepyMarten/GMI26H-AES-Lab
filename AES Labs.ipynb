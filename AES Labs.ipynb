{
 "cells": [
  {
   "cell_type": "markdown",
   "metadata": {},
   "source": [
    "## Cryptography GMI26H\n",
    "# Dalarna University, \n",
    "# Autumn 2022\n",
    "# Advanced Encyption Standard (AES)\n",
    "### Deadline: 27 October, 2022, 23:59 CET time\n",
    "\n",
    "### --------------------------------------------------------------------------------------------------------------------------------------------------------------\n",
    "\n",
    "### Student name: Atichoke Nantarat\n",
    "### Student ID: H20atina\n",
    "### University email address:H20atina@du.se\n",
    "### --------------------------------------------------------------------------------------------------------------------------------------------------------------"
   ]
  },
  {
   "cell_type": "markdown",
   "metadata": {},
   "source": [
    "This document is a Jupyter notebook which will be used during the whole course. Students will run one lab every week as follows:\n",
    "\n",
    "Week 3 of the course Lab 1\n",
    "\n",
    "Week 4 of the course Lab 2\n",
    "\n",
    "Week 5 of the course Lab 3\n",
    "\n",
    "Week 6 of the course Lab 4, 5, and 6"
   ]
  },
  {
   "cell_type": "markdown",
   "metadata": {},
   "source": [
    "## Cryptography Lab 1"
   ]
  },
  {
   "cell_type": "markdown",
   "metadata": {},
   "source": [
    "## \n",
    "## 1. Key:"
   ]
  },
  {
   "cell_type": "markdown",
   "metadata": {},
   "source": [
    "In the file **testKey**, a test key is provided. testKey is in plain text but represents bytes. Since AES-256 uses a key that is 256 bit long it corresponds to a key that is 256/8 bytes long. That is, the key is 32 bytes long, where each byte is encoded as two characters in hexadecimals. That is, the 256-bit key is represented as a string of length 64 hexamdecimal characters. <font color=red>We want the key to be transformed into a list of hexadecimal integers.</font>"
   ]
  },
  {
   "cell_type": "markdown",
   "metadata": {},
   "source": [
    "**Method: getKey(filename)**\n",
    "\n",
    "Create the method that does the following:\n",
    "\n",
    "**Method name:** getKey()\n",
    "\n",
    "**Input:** String filename\n",
    "\n",
    "**Output:** List of integers"
   ]
  },
  {
   "cell_type": "markdown",
   "metadata": {},
   "source": [
    "**Hint:**\n",
    "The following Python methods may help you to build the getKey():\n",
    "\n",
    "• hex()\n",
    "\n",
    "• open()\n",
    "\n",
    "• file.read()\n",
    "\n",
    "• string.decode()\n",
    "\n",
    "• map()\n",
    "\n",
    "• ord()"
   ]
  },
  {
   "cell_type": "code",
   "execution_count": 1,
   "metadata": {},
   "outputs": [],
   "source": [
    "def getKey(testKey):\n",
    "    o = []\n",
    "    mylist = []\n",
    "    with open(testKey) as f:\n",
    "        content = f.readline()\n",
    "        for i in range(0,len(content),2):\n",
    "            x = i\n",
    "            y = (content[x:x+2])\n",
    "            o.append(y)\n",
    "        for i in o:\n",
    "            xInt = int(i, base = 16)\n",
    "            mylist.append(xInt)\n",
    "        return mylist\n",
    "\n",
    "        "
   ]
  },
  {
   "cell_type": "markdown",
   "metadata": {},
   "source": [
    "The following code can be used to test your method implementation. The list after \"Output:\" is what the \"print(key)\" command should print out."
   ]
  },
  {
   "cell_type": "code",
   "execution_count": 2,
   "metadata": {},
   "outputs": [
    {
     "name": "stdout",
     "output_type": "stream",
     "text": [
      "[0, 1, 2, 3, 4, 5, 6, 7, 8, 9, 10, 11, 12, 13, 14, 15, 16, 17, 18, 19, 20, 21, 22, 23, 24, 25, 26, 27, 28, 29, 30, 31]\n"
     ]
    }
   ],
   "source": [
    "key = getKey(\"testKey\")\n",
    "print(key)"
   ]
  },
  {
   "cell_type": "markdown",
   "metadata": {},
   "source": [
    "**Output:**\n",
    "\n",
    "    [0, 1, 2, 3, 4, 5, 6, 7, 8, 9, 10, 11, 12, 13, 14, 15, 16, 17, 18, 19, 20, 21, 22, 23, 24, 25, 26, 27, 28, 29, 30, 31]"
   ]
  },
  {
   "cell_type": "markdown",
   "metadata": {},
   "source": [
    "## 2. Block"
   ]
  },
  {
   "cell_type": "markdown",
   "metadata": {},
   "source": [
    "In the file **testBlock**, a test block, which is a plain text but represents bytes, is provided. Since all versions of AES operate on blocks with the fix size of 128 bits, it corresponds to a block that is 128/8 bytes long. That is, the block is 16 bytes long, where each byte is encoded as two characters in hexadecimal. The 128-bit block is thus represented as a string of length 32.\n",
    "\n",
    "In reality blocks have the format of a 4x4 matrix. In Python, matrices are typically lists. The first 4 values can be represented as the first column of the matrix, the next 4 as the second column, and so on. You can decide your format of the block yourself."
   ]
  },
  {
   "cell_type": "markdown",
   "metadata": {},
   "source": [
    "**Method: getBlock(filename)**\n",
    "\n",
    "Create method that does the following:\n",
    "\n",
    "**Method name:** getBlock()\n",
    "\n",
    "**Input:** String filename\n",
    "\n",
    "**Output:** List (or other format) of integers"
   ]
  },
  {
   "cell_type": "markdown",
   "metadata": {},
   "source": [
    "**Hint:** The following Python methods may help you to build the method\n",
    "\n",
    "hex()\n",
    "\n",
    "open()\n",
    "\n",
    "file.read()\n",
    "\n",
    "string.decode()\n",
    "\n",
    "map()\n",
    "\n",
    "ord()"
   ]
  },
  {
   "cell_type": "markdown",
   "metadata": {},
   "source": [
    "https://en.wikipedia.org/wiki/Advanced_Encryption_Standard#High-level_description_of_the_%20algorithm"
   ]
  },
  {
   "cell_type": "code",
   "execution_count": 3,
   "metadata": {},
   "outputs": [],
   "source": [
    "def getBlock(testBlock):\n",
    "    o = []\n",
    "    mylist = []\n",
    "    with open(testBlock) as f:\n",
    "        content = f.readline()\n",
    "        for i in range(0,len(content),2):\n",
    "            x = i\n",
    "            y = (content[x:x+2])\n",
    "            o.append(y)\n",
    "        for i in o:\n",
    "            #Transforming the elements int o integers to be able to Hex() them.\n",
    "            xInt = int(i, base = 16)\n",
    "            #Hex integers\n",
    "            # hexInt = hex(xInt)\n",
    "            #Transforming them into integers\n",
    "            # output = int(hexInt,base = 16) \n",
    "            mylist.append(xInt)\n",
    "        return mylist"
   ]
  },
  {
   "cell_type": "code",
   "execution_count": 4,
   "metadata": {},
   "outputs": [
    {
     "name": "stdout",
     "output_type": "stream",
     "text": [
      "[0, 17, 34, 51, 68, 85, 102, 119, 136, 153, 170, 187, 204, 221, 238, 255]\n"
     ]
    }
   ],
   "source": [
    "block = getBlock('testBlock')\n",
    "print(block)"
   ]
  },
  {
   "cell_type": "markdown",
   "metadata": {},
   "source": [
    "**Output:**\n",
    "\n",
    "    [0, 17, 34, 51, 68, 85, 102, 119, 136, 153, 170, 187, 204, 221, 238, 255]"
   ]
  },
  {
   "cell_type": "markdown",
   "metadata": {},
   "source": [
    "## 3. sbox, sboxInv and rcon"
   ]
  },
  {
   "cell_type": "markdown",
   "metadata": {},
   "source": [
    "From the following Wikipedia articles:\n",
    "\n",
    "• https://en.wikipedia.org/wiki/Rijndael_S-box\n",
    "\n",
    "• https://en.wikipedia.org/wiki/Rijndael_key_schedule\n",
    "\n",
    "Create three Python code blocks, where each code block contains one of the three lists described in their respective Wikipedia articles. "
   ]
  },
  {
   "cell_type": "code",
   "execution_count": 5,
   "metadata": {},
   "outputs": [],
   "source": [
    "def getBlock_2(testBlock):\n",
    "    # write your Python code for Block here:\n",
    "    o = []\n",
    "    mylist = []\n",
    "    with open(testBlock,'r') as f:\n",
    "        txt = ''.join(map(str,f))\n",
    "        tst = txt.replace('\\n','')\n",
    "        while tst:\n",
    "            o.append(tst[:2])\n",
    "            tst = tst[2:]\n",
    "        for x in o:\n",
    "            # print(x)\n",
    "            xInt = int(x, base = 16)\n",
    "            output = int(hex(xInt), base = 16)\n",
    "            # print(f\"Hexing {x} || got: {hex(xInt)} || int: {int(hex(xInt), base = 16)}\")\n",
    "            mylist.append(output)\n",
    "        return mylist\n",
    "        # print(txt)"
   ]
  },
  {
   "cell_type": "code",
   "execution_count": 6,
   "metadata": {},
   "outputs": [
    {
     "name": "stdout",
     "output_type": "stream",
     "text": [
      "[99, 124, 119, 123, 242, 107, 111, 197, 48, 1, 103, 43, 254, 215, 171, 118]\n",
      "[202, 130, 201, 125, 250, 89, 71, 240, 173, 212, 162, 175, 156, 164, 114, 192]\n",
      "[183, 253, 147, 38, 54, 63, 247, 204, 52, 165, 229, 241, 113, 216, 49, 21]\n",
      "[4, 199, 35, 195, 24, 150, 5, 154, 7, 18, 128, 226, 235, 39, 178, 117]\n",
      "[9, 131, 44, 26, 27, 110, 90, 160, 82, 59, 214, 179, 41, 227, 47, 132]\n",
      "[83, 209, 0, 237, 32, 252, 177, 91, 106, 203, 190, 57, 74, 76, 88, 207]\n",
      "[208, 239, 170, 251, 67, 77, 51, 133, 69, 249, 2, 127, 80, 60, 159, 168]\n",
      "[81, 163, 64, 143, 146, 157, 56, 245, 188, 182, 218, 33, 16, 255, 243, 210]\n",
      "[205, 12, 19, 236, 95, 151, 68, 23, 196, 167, 126, 61, 100, 93, 25, 115]\n",
      "[96, 129, 79, 220, 34, 42, 144, 136, 70, 238, 184, 20, 222, 94, 11, 219]\n",
      "[224, 50, 58, 10, 73, 6, 36, 92, 194, 211, 172, 98, 145, 149, 228, 121]\n",
      "[231, 200, 55, 109, 141, 213, 78, 169, 108, 86, 244, 234, 101, 122, 174, 8]\n",
      "[186, 120, 37, 46, 28, 166, 180, 198, 232, 221, 116, 31, 75, 189, 139, 138]\n",
      "[112, 62, 181, 102, 72, 3, 246, 14, 97, 53, 87, 185, 134, 193, 29, 158]\n",
      "[225, 248, 152, 17, 105, 217, 142, 148, 155, 30, 135, 233, 206, 85, 40, 223]\n",
      "[140, 161, 137, 13, 191, 230, 66, 104, 65, 153, 45, 15, 176, 84, 187, 22]\n"
     ]
    }
   ],
   "source": [
    "bloack = getBlock_2('AES-Sbox.txt')\n",
    "for i in range(0,255,16):\n",
    "    x = i\n",
    "    print(bloack[x:x+16])"
   ]
  },
  {
   "cell_type": "code",
   "execution_count": 7,
   "metadata": {},
   "outputs": [
    {
     "name": "stdout",
     "output_type": "stream",
     "text": [
      "[82, 9, 106, 213, 48, 54, 165, 56, 191, 64, 163, 158, 129, 243, 215, 251, 124, 227, 57, 130, 155, 47, 255, 135, 52, 142, 67, 68, 196, 222, 233, 203, 84, 123, 148, 50, 166, 194, 35, 61, 238, 76, 149, 11, 66, 250, 195, 78, 8, 46, 161, 102, 40, 217, 36, 178, 118, 91, 162, 73, 109, 139, 209, 37, 114, 248, 246, 100, 134, 104, 152, 22, 212, 164, 92, 204, 93, 101, 182, 146, 108, 112, 72, 80, 253, 237, 185, 218, 94, 21, 70, 87, 167, 141, 157, 132, 144, 216, 171, 0, 140, 188, 211, 10, 247, 228, 88, 5, 184, 179, 69, 6, 208, 44, 30, 143, 202, 63, 15, 2, 193, 175, 189, 3, 1, 19, 138, 107, 58, 145, 17, 65, 79, 103, 220, 234, 151, 242, 207, 206, 240, 180, 230, 115, 150, 172, 116, 34, 231, 173, 53, 133, 226, 249, 55, 232, 28, 117, 223, 110, 71, 241, 26, 113, 29, 41, 197, 137, 111, 183, 98, 14, 170, 24, 190, 27, 252, 86, 62, 75, 198, 210, 121, 32, 154, 219, 192, 254, 120, 205, 90, 244, 31, 221, 168, 51, 136, 7, 199, 49, 177, 18, 16, 89, 39, 128, 236, 95, 96, 81, 127, 169, 25, 181, 74, 13, 45, 229, 122, 159, 147, 201, 156, 239, 160, 224, 59, 77, 174, 42, 245, 176, 200, 235, 187, 60, 131, 83, 153, 97, 23, 43, 4, 126, 186, 119, 214, 38, 225, 105, 20, 99, 85, 33, 12, 125]\n"
     ]
    }
   ],
   "source": [
    "bloack = getBlock_2('AES-Sbox_inverse.txt')\n",
    "print(bloack)"
   ]
  },
  {
   "cell_type": "code",
   "execution_count": 8,
   "metadata": {},
   "outputs": [
    {
     "name": "stdout",
     "output_type": "stream",
     "text": [
      "['0x1', '0x2', '0x3', '0x4', '0x5', '0x6', '0x7', '0x8', '0x9']\n"
     ]
    },
    {
     "data": {
      "text/plain": [
       "'0x8d'"
      ]
     },
     "execution_count": 8,
     "metadata": {},
     "output_type": "execute_result"
    }
   ],
   "source": [
    "x = \"123456789\"\n",
    "mylist = []\n",
    "for i in x:\n",
    "    s = hex(int(i,base = 16))\n",
    "    mylist.append(s)\n",
    "\n",
    "print(mylist)\n",
    "(hex(141))"
   ]
  },
  {
   "cell_type": "code",
   "execution_count": 9,
   "metadata": {},
   "outputs": [],
   "source": [
    "# write your Python code for Sbox, sboxInv and rcon here:\n",
    "sbox = [99, 124, 119, 123, 242, 107, 111, 197, 48, 1, 103, 43, 254, 215, 171, 118, 202, 130, 201, 125, 250, 89, 71, 240, 173, 212, 162, 175, 156, 164, 114, 192, 183, 253, 147, 38, 54, 63, 247, 204, 52, 165, 229, 241, 113, 216, 49, 21, 4, 199, 35, 195, 24, 150, 5, 154, 7, 18, 128, 226, 235, 39, 178, 117, 9, 131, 44, 26, 27, 110, 90, 160, 82, 59, 214, 179, 41, 227, 47, 132, 83, 209, 0, 237, 32, 252, 177, 91, 106, 203, 190, 57, 74, 76, 88, 207, 208, 239, 170, 251, 67, 77, 51, 133, 69, 249, 2, 127, 80, 60, 159, 168, 81, 163, 64, 143, 146, 157, 56, 245, 188, 182, 218, 33, 16, 255, 243, 210, 205, 12, 19, 236, 95, 151, 68, 23, 196, 167, 126, 61, 100, 93, 25, 115, 96, 129, 79, 220, 34, 42, 144, 136, 70, 238, 184, 20, 222, 94, 11, 219, 224, 50, 58, 10, 73, 6, 36, 92, 194, 211, 172, 98, 145, 149, 228, 121, 231, 200, 55, 109, 141, 213, 78, 169, 108, 86, 244, 234, 101, 122, 174, 8, 186, 120, 37, 46, 28, 166, 180, 198, 232, 221, 116, 31, 75, 189, 139, 138, 112, 62, 181, 102, 72, 3, 246, 14, 97, 53, 87, 185, 134, 193, 29, 158, 225, 248, 152, 17, 105, 217, 142, 148, 155, 30, 135, 233, 206, 85, 40, 223, 140, 161, 137, 13, 191, 230, 66, 104, 65, 153, 45, 15, 176, 84, 187, 22]\n",
    "sboxInv = [82, 9, 106, 213, 48, 54, 165, 56, 191, 64, 163, 158, 129, 243, 215, 251, 124, 227, 57, 130, 155, 47, 255, 135, 52, 142, 67, 68, 196, 222, 233, 203, 84, 123, 148, 50, 166, 194, 35, 61, 238, 76, 149, 11, 66, 250, 195, 78, 8, 46, 161, 102, 40, 217, 36, 178, 118, 91, 162, 73, 109, 139, 209, 37, 114, 248, 246, 100, 134, 104, 152, 22, 212, 164, 92, 204, 93, 101, 182, 146, 108, 112, 72, 80, 253, 237, 185, 218, 94, 21, 70, 87, 167, 141, 157, 132, 144, 216, 171, 0, 140, 188, 211, 10, 247, 228, 88, 5, 184, 179, 69, 6, 208, 44, 30, 143, 202, 63, 15, 2, 193, 175, 189, 3, 1, 19, 138, 107, 58, 145, 17, 65, 79, 103, 220, 234, 151, 242, 207, 206, 240, 180, 230, 115, 150, 172, 116, 34, 231, 173, 53, 133, 226, 249, 55, 232, 28, 117, 223, 110, 71, 241, 26, 113, 29, 41, 197, 137, 111, 183, 98, 14, 170, 24, 190, 27, 252, 86, 62, 75, 198, 210, 121, 32, 154, 219, 192, 254, 120, 205, 90, 244, 31, 221, 168, 51, 136, 7, 199, 49, 177, 18, 16, 89, 39, 128, 236, 95, 96, 81, 127, 169, 25, 181, 74, 13, 45, 229, 122, 159, 147, 201, 156, 239, 160, 224, 59, 77, 174, 42, 245, 176, 200, 235, 187, 60, 131, 83, 153, 97, 23, 43, 4, 126, 186, 119, 214, 38, 225, 105, 20, 99, 85, 33, 12, 125]\n",
    "# rcon = [0x8d, 0x01, 0x02, 0x03, 0x04, 0x05, 0x06, 0x07, 0x08, 0x09, 0x0a, 0x0b, 0x0c, 0x0d, 0x0e, 0x0f,0x010,0x011,0x012,0x013,0x014,0x015]\n",
    "rcon = [0x8d, 0x01, 0x02, 0x04, 0x08, 0x10,0x20,0x40,0x80,0x1b,0x36,0x6c,0xd8,0xab,0x4d,0x9a,0x2f,0x5e,0xbc,0x63]"
   ]
  },
  {
   "cell_type": "code",
   "execution_count": 10,
   "metadata": {},
   "outputs": [
    {
     "name": "stdout",
     "output_type": "stream",
     "text": [
      "99\n",
      "82\n",
      "141\n"
     ]
    }
   ],
   "source": [
    "#Check that you can run the following commands to see if the lists map integers correctly:\n",
    "print(sbox[0])\n",
    "print(sboxInv[0])\n",
    "print(rcon[0])\n"
   ]
  },
  {
   "cell_type": "markdown",
   "metadata": {},
   "source": [
    "**Output:**\n",
    "\n",
    "    99 82 141"
   ]
  },
  {
   "cell_type": "markdown",
   "metadata": {},
   "source": [
    "# Cryptography Lab 2"
   ]
  },
  {
   "cell_type": "markdown",
   "metadata": {},
   "source": [
    "# 1. shiftRows"
   ]
  },
  {
   "cell_type": "markdown",
   "metadata": {},
   "source": [
    "shiftRows is a static block-operator. Meaning that it performs the same action every time it is called. It simply shifts each row to the left the same number of steps as the current row number. See: https://en.wikipedia.org/wiki/Advanced_Encryption_Standard#The_ShiftRows_step\n",
    "\n",
    "Depending on how you have structured your block the implementation for this will be different. A list can be used to represent the matrix, where the first 4 elements corresponds to the first column, the next 4 elements corresponds to the second column, and so on. You can use either matrices, lists of lists or just a normal list.\n",
    "\n",
    "Since this method is static you can either just make a temporary block and move the elements around as described or you can loop over each row and perform the shift depending on the current row number.\n",
    "\n",
    "Create the following two methods: One called shiftRows(block) and one called shiftRowsInv(block). These methods are extremely similar but the reverse shift just moves elements to the right instead of left."
   ]
  },
  {
   "cell_type": "markdown",
   "metadata": {},
   "source": [
    "I got the code idea for shiftRows from: https://www.youtube.com/watch?v=7uRK9iOk4uk&t=351s"
   ]
  },
  {
   "cell_type": "code",
   "execution_count": 11,
   "metadata": {},
   "outputs": [],
   "source": [
    "# Add shiftRows() here:\n",
    "def shiftRows(block):\n",
    "\n",
    "    s0 = block[0::4]\n",
    "    s1 = block[1::4]\n",
    "    s2 = block[2::4]\n",
    "    s3 = block[3::4]\n",
    "\n",
    "    s1 = s1[1:] + s1[:1]\n",
    "    s2 = s2[2:] + s2[:2]\n",
    "    s3 = s3[3:] + s3[:3]\n",
    "\n",
    "    # print(s0)\n",
    "    # print(s1)\n",
    "    # print(s2)\n",
    "    # print(s3)\n",
    "\n",
    "    x1 = [s0[0],s1[0],s2[0],s3[0]]\n",
    "    x2 = [s0[1],s1[1],s2[1],s3[1]]\n",
    "    x3 = [s0[2],s1[2],s2[2],s3[2]]\n",
    "    x4 = [s0[3],s1[3],s2[3],s3[3]]\n",
    "    x5 = x1+x2+x3+x4\n",
    "    # print(x5)\n",
    "    return x5\n"
   ]
  },
  {
   "cell_type": "code",
   "execution_count": 12,
   "metadata": {},
   "outputs": [],
   "source": [
    "# Add shiftRowsInv() here:\n",
    "def shiftRowsInv(block):\n",
    "    s0 = block[0::4]\n",
    "    s1 = block[1::4]\n",
    "    s2 = block[2::4]\n",
    "    s3 = block[3::4]\n",
    "\n",
    "    s1 = s1[-1:] + s1[:-1]\n",
    "    s2 = s2[-2:] + s2[:-2]\n",
    "    s3 = s3[-3:] + s3[:-3]\n",
    "\n",
    "    # print(s0)\n",
    "    # print(s1)\n",
    "    # print(s2)\n",
    "    # print(s3)\n",
    "\n",
    "    x1 = [s0[0],s1[0],s2[0],s3[0]]\n",
    "    x2 = [s0[1],s1[1],s2[1],s3[1]]\n",
    "    x3 = [s0[2],s1[2],s2[2],s3[2]]\n",
    "    x4 = [s0[3],s1[3],s2[3],s3[3]]\n",
    "    x5 = x1+x2+x3+x4\n",
    "    return x5\n",
    "\n"
   ]
  },
  {
   "cell_type": "code",
   "execution_count": 13,
   "metadata": {},
   "outputs": [
    {
     "name": "stdout",
     "output_type": "stream",
     "text": [
      "[0, 85, 170, 255, 68, 153, 238, 51, 136, 221, 34, 119, 204, 17, 102, 187]\n"
     ]
    }
   ],
   "source": [
    "#Test the shiftRows() using this code\n",
    "\n",
    "block = getBlock('testBlock')\n",
    "\n",
    "shiftedBlock = shiftRows(block)\n",
    "\n",
    "print(shiftedBlock)"
   ]
  },
  {
   "cell_type": "markdown",
   "metadata": {},
   "source": [
    "**Output:**\n",
    "\n",
    "[0, 85, 170, 255, 68, 153, 238, 51, 136, 221, 34, 119, 204, 17, 102, 187]"
   ]
  },
  {
   "cell_type": "code",
   "execution_count": 14,
   "metadata": {},
   "outputs": [
    {
     "name": "stdout",
     "output_type": "stream",
     "text": [
      "[0, 17, 34, 51, 68, 85, 102, 119, 136, 153, 170, 187, 204, 221, 238, 255]\n"
     ]
    }
   ],
   "source": [
    "#Test the shiftRowsInv() using this Code:\n",
    "\n",
    "block = getBlock('testBlock')\n",
    "\n",
    "shiftedBlock = shiftRows(block)\n",
    "\n",
    "unShiftedBlock = shiftRowsInv(shiftedBlock)\n",
    "\n",
    "print(unShiftedBlock)"
   ]
  },
  {
   "cell_type": "markdown",
   "metadata": {},
   "source": [
    "**Output:**\n",
    "\n",
    "[0, 17, 34, 51, 68, 85, 102, 119, 136, 153, 170, 187, 204, 221, 238, 255]"
   ]
  },
  {
   "cell_type": "markdown",
   "metadata": {},
   "source": [
    "# 2. mixColumn()"
   ]
  },
  {
   "cell_type": "markdown",
   "metadata": {},
   "source": [
    "The mix of columns is a shuffle of each individual column in the block. This shuffling happens in a deterministic way depending on the values within the column. For consultation of the exact way of doing this, see the following Wikipedia article: https://en.wikipedia.org/wiki/Rijndael_mix_columns#MixColumns\n",
    "\n",
    "You can either implement Galois multiplication and perform the mix directly. Or you use the pre-calculated lists found in the article. To do AES mixing of columns one only needs to multiply elements with 1, 2 or 3. And for the un-mixing 9, 11, 13 or 14.\n",
    "\n",
    "**Create method mixColumn() as follows:**\n",
    "\n",
    "This method should take one column perform the multiplications in accordance to the multiplication tables. Refer to the Wikipedia article.\n",
    "\n",
    "Input: column\n",
    "\n",
    "Output: column\n",
    "\n",
    "Remember that in this context + means XOR. In Python, the hat-symbol (caret), ˆ, is used for XOR.\n",
    "\n",
    "Also create the inverse method mixColumnInv()."
   ]
  },
  {
   "cell_type": "markdown",
   "metadata": {},
   "source": [
    "MDS Matrix\n",
    "[d0]        2   3   1   1   [b0]\n",
    "[d1]        1   2   3   1   [b1]\n",
    "[d2]        1   1   2   3   [b2]\n",
    "[d3]        3   1   1   2   [b3]\n",
    "\n",
    "Min matrix\n",
    "0   68  136 204\n",
    "17  85  153 221\n",
    "34  102 170 238\n",
    "51  119 187 255\n",
    "\n",
    "[d0] = (2*68) ⊕ (3*85) ⊕ (1*102) ⊕ (1*119)\n",
    "OUTPUT: \n",
    "34, 119, 0, 85, 102, 51, 68, 17, 170, 255, 136, 221,238, 187, 204, 153"
   ]
  },
  {
   "cell_type": "code",
   "execution_count": 15,
   "metadata": {},
   "outputs": [],
   "source": [
    "#https://gist.github.com/bonsaiviking/5571001\n",
    "def gmul(a, b):\n",
    "    p = 0\n",
    "    for c in range(8):\n",
    "        if b & 1:\n",
    "            p ^= a\n",
    "        a <<= 1\n",
    "        if a & 0x100:\n",
    "            a ^= 0x11b\n",
    "        b >>= 1\n",
    "    return p"
   ]
  },
  {
   "cell_type": "code",
   "execution_count": 16,
   "metadata": {},
   "outputs": [],
   "source": [
    "# Add mixColumn() here:\n",
    "def mixColumn(column):\n",
    "    ConstMatrix = [2,3,1,1,1,2,3,1,1,1,2,3,3,1,1,2]\n",
    "    newList = []\n",
    "    count = 0\n",
    "    counter = 0\n",
    "    for i in range(len(column)):\n",
    "        # a = gfMult(column[count],ConstMatrix[counter]) ^ gfMult(column[count+1],ConstMatrix[counter+1]) ^ gfMult(column[count+2],ConstMatrix[counter+2])^ gfMult(column[count+3],ConstMatrix[counter+3])\n",
    "        a = gmul(column[count],ConstMatrix[counter]) ^ gmul(column[count+1],ConstMatrix[counter+1]) ^ gmul(column[count+2],ConstMatrix[counter+2])^ gmul(column[count+3],ConstMatrix[counter+3])\n",
    "        counter += 4\n",
    "        newList.append(a)\n",
    "    return newList"
   ]
  },
  {
   "cell_type": "code",
   "execution_count": 17,
   "metadata": {},
   "outputs": [],
   "source": [
    "# Add mixColumnInv() here:\n",
    "def mixColumnInv(column):\n",
    "    ConstMatrix = [14,11,13,9,9,14,11,13,13,9,14,11,11,13,9,14]\n",
    "    newList = []\n",
    "    count = 0\n",
    "    counter = 0\n",
    "    for i in range(len(column)):\n",
    "        a = gmul(column[count],ConstMatrix[counter]) ^ gmul(column[count+1],ConstMatrix[counter+1]) ^ gmul(column[count+2],ConstMatrix[counter+2])^ gmul(column[count+3],ConstMatrix[counter+3])\n",
    "        counter += 4\n",
    "        newList.append(a)\n",
    "    return newList"
   ]
  },
  {
   "cell_type": "markdown",
   "metadata": {},
   "source": [
    "Next create method mixColumns() that calls the mixColumn(col) for each column in your block and then returns the mixed block."
   ]
  },
  {
   "cell_type": "code",
   "execution_count": 18,
   "metadata": {},
   "outputs": [],
   "source": [
    "# Add mixColumns() here:\n",
    "def mixColumns(block):\n",
    "    newList = []\n",
    "    start = 0\n",
    "    end = 16\n",
    "    step = 4\n",
    "    for i in range(start,end,step):\n",
    "        x = i\n",
    "        column = (block[x:x+step])\n",
    "        # print(f'Column: {column}')\n",
    "        a = mixColumn(column)\n",
    "        newList.extend(a)\n",
    "    return newList\n"
   ]
  },
  {
   "cell_type": "markdown",
   "metadata": {},
   "source": [
    "The corresponding inverse function should simply call the mixColumnInv() method for each column in your block and then return the mixed block."
   ]
  },
  {
   "cell_type": "code",
   "execution_count": 19,
   "metadata": {},
   "outputs": [],
   "source": [
    "# Add mixColumnsInv() here:\n",
    "def mixColumnsInv(block):\n",
    "    newList = []\n",
    "    step = 4\n",
    "    for i in range(0,len(block),step):\n",
    "        x = i\n",
    "        column = (block[x:x+step])\n",
    "        # print(f'Column: {column}')\n",
    "        a = mixColumnInv(column)\n",
    "        newList.extend(a)\n",
    "    return newList\n"
   ]
  },
  {
   "cell_type": "markdown",
   "metadata": {},
   "source": [
    "Use the following code to test your methods"
   ]
  },
  {
   "cell_type": "code",
   "execution_count": 20,
   "metadata": {},
   "outputs": [
    {
     "name": "stdout",
     "output_type": "stream",
     "text": [
      "[0, 17, 34, 51, 68, 85, 102, 119, 136, 153, 170, 187, 204, 221, 238, 255]\n",
      "[34, 119, 0, 85, 102, 51, 68, 17, 170, 255, 136, 221, 238, 187, 204, 153]\n",
      "[0, 17, 34, 51, 68, 85, 102, 119, 136, 153, 170, 187, 204, 221, 238, 255]\n"
     ]
    }
   ],
   "source": [
    "testBlock = getBlock('testBlock')\n",
    "\n",
    "print(testBlock)\n",
    "\n",
    "mixedBlock = mixColumns(testBlock)\n",
    "\n",
    "print(mixedBlock)\n",
    "\n",
    "unMixedBlock = mixColumnsInv(mixedBlock)\n",
    "\n",
    "print(unMixedBlock)"
   ]
  },
  {
   "cell_type": "markdown",
   "metadata": {},
   "source": [
    "**Output:**\n",
    "\n",
    "[0, 17, 34, 51, 68, 85, 102, 119, 136, 153, 170, 187, 204, 221, 238, 255]\n",
    "    \n",
    "[34, 119, 0, 85, 102, 51, 68, 17, 170, 255, 136, 221, 238, 187, 204, 153]\n",
    "    \n",
    "[0, 17, 34, 51, 68, 85, 102, 119, 136, 153, 170, 187, 204, 221, 238, 255]\n"
   ]
  },
  {
   "cell_type": "markdown",
   "metadata": {},
   "source": [
    "# 3. subBytes"
   ]
  },
  {
   "cell_type": "markdown",
   "metadata": {},
   "source": [
    "Create method subBytes() and apply the sBox to each element in the block and return it."
   ]
  },
  {
   "cell_type": "code",
   "execution_count": 21,
   "metadata": {},
   "outputs": [],
   "source": [
    "# Add subBytes() here:\n",
    "def subBytes(block):\n",
    "    newList = []\n",
    "    for i in range(len(block)):\n",
    "        # block[i] = sbox[block[i]]\n",
    "        x = block[i]\n",
    "        i = sbox[x]\n",
    "        newList.append(i)\n",
    "    # print(newList)\n",
    "    return newList"
   ]
  },
  {
   "cell_type": "markdown",
   "metadata": {},
   "source": [
    "Create method subBytesInv() and apply sBoxInv() to each element in the block. And return it."
   ]
  },
  {
   "cell_type": "code",
   "execution_count": 22,
   "metadata": {},
   "outputs": [],
   "source": [
    "# Add subBytesInv() here:\n",
    "def subBytesInv(block):\n",
    "    newList = []\n",
    "    for i in range(len(block)):\n",
    "        x = block[i]\n",
    "        i = sboxInv[x]\n",
    "        # block[i] = sboxInv[block[i]]\n",
    "        newList.append(i)\n",
    "    # print(newList)\n",
    "    return newList\n"
   ]
  },
  {
   "cell_type": "markdown",
   "metadata": {},
   "source": [
    "Use the follwing code to test your methods:"
   ]
  },
  {
   "cell_type": "code",
   "execution_count": 23,
   "metadata": {},
   "outputs": [
    {
     "name": "stdout",
     "output_type": "stream",
     "text": [
      "[0, 17, 34, 51, 68, 85, 102, 119, 136, 153, 170, 187, 204, 221, 238, 255]\n",
      "[99, 130, 147, 195, 27, 252, 51, 245, 196, 238, 172, 234, 75, 193, 40, 22]\n",
      "[0, 17, 34, 51, 68, 85, 102, 119, 136, 153, 170, 187, 204, 221, 238, 255]\n"
     ]
    }
   ],
   "source": [
    "testBlock = getBlock('testBlock')\n",
    "\n",
    "print(testBlock)\n",
    "\n",
    "substitutedBlock = subBytes(testBlock)\n",
    "\n",
    "print(substitutedBlock)\n",
    "\n",
    "unSubstitutedBlock = subBytesInv(substitutedBlock)\n",
    "\n",
    "print(unSubstitutedBlock)"
   ]
  },
  {
   "cell_type": "markdown",
   "metadata": {},
   "source": [
    "**Output:**\n",
    "    \n",
    "[0, 17, 34, 51, 68, 85, 102, 119, 136, 153, 170, 187, 204, 221, 238, 255]\n",
    "\n",
    "[99, 130, 147, 195, 27, 252, 51, 245, 196, 238, 172, 234, 75, 193, 40, 22]\n",
    "\n",
    "[0, 17, 34, 51, 68, 85, 102, 119, 136, 153, 170, 187, 204, 221, 238, 255]"
   ]
  },
  {
   "cell_type": "markdown",
   "metadata": {},
   "source": [
    "# Cryptography Lab 3"
   ]
  },
  {
   "cell_type": "markdown",
   "metadata": {},
   "source": [
    "# 1. keyScheduleCore()"
   ]
  },
  {
   "cell_type": "markdown",
   "metadata": {},
   "source": [
    "Read about this method in https://en.wikipedia.org/wiki/Rijndael_key_schedule#Key_schedule_core <br>\n",
    "or in NIST document paragraph 5.2 (Key Expansion)<br>\n",
    "**Input:** 4 byte word and Iteration Number\n",
    "\n",
    "**Output:** 4 byte word"
   ]
  },
  {
   "cell_type": "markdown",
   "metadata": {},
   "source": [
    "Explain what you do and why here in this cell (in English):\n",
    "For the keyScheduleCore function it takes 2 parameters word and Nk.\n",
    "\n",
    "1. the elements from words gets shifted to the left.\n",
    "2. shifted elements gets replaced by the elements from the sbox and added to the newList list.\n",
    "3. the first element in word gets XOR with round constant which value is up to the Nk that is sent in."
   ]
  },
  {
   "cell_type": "code",
   "execution_count": 24,
   "metadata": {},
   "outputs": [],
   "source": [
    "# Add keyScheduleCore() here:\n",
    "def keyScheduleCore(word,Nk):\n",
    "    newList = []\n",
    "    # shift the elements to the left.\n",
    "    s1 = word[1:] + word[:1] \n",
    "    # print(s1)\n",
    "    #subbytes\n",
    "    for i in range(len(word)):\n",
    "        x = s1[i]\n",
    "        y = sbox[x]\n",
    "        newList.append(y)\n",
    "    #Rcon\n",
    "    newList[0] ^= rcon[Nk]\n",
    "    return newList\n"
   ]
  },
  {
   "cell_type": "code",
   "execution_count": 25,
   "metadata": {},
   "outputs": [
    {
     "name": "stdout",
     "output_type": "stream",
     "text": [
      "[1, 2, 3, 4]\n",
      "[118, 123, 242, 124]\n"
     ]
    }
   ],
   "source": [
    "#Test your code\n",
    "word = [1,2,3,4]\n",
    "\n",
    "newWord = keyScheduleCore(word,1)\n",
    "\n",
    "print(word)\n",
    "\n",
    "print(newWord)"
   ]
  },
  {
   "cell_type": "markdown",
   "metadata": {},
   "source": [
    "**Output:**\n",
    "\n",
    "    [1, 2, 3, 4]\n",
    "\n",
    "    [118, 123, 242, 124]"
   ]
  },
  {
   "cell_type": "markdown",
   "metadata": {},
   "source": [
    "# 2. expandKey()"
   ]
  },
  {
   "cell_type": "markdown",
   "metadata": {},
   "source": [
    "AES-operations are performed on blocks multiple times, in so-called rounds. Each round uses a specific round key. The round keys are created from the original key via an extension. The original key is 256 bit (32 bytes) but needs to be expanded to a 240 byte key. This extension is done using Rijndael key schedule, see https://en.wikipedia.org/wiki/Rijndael_key_schedule#Key_schedule_description. <br>\n",
    "Follow the algorithmic description in the Wikipedia page and create a method called expandKey()."
   ]
  },
  {
   "cell_type": "markdown",
   "metadata": {},
   "source": [
    "**Method name:** expandKey(key)\n",
    "\n",
    "**Input:** 256 bit key\n",
    "\n",
    "**Output:** extended 240 byte key"
   ]
  },
  {
   "cell_type": "markdown",
   "metadata": {},
   "source": [
    "Explain what you do and why here in this cell (in English):\n"
   ]
  },
  {
   "cell_type": "code",
   "execution_count": 26,
   "metadata": {},
   "outputs": [],
   "source": [
    "#https://www.geeksforgeeks.org/python-convert-a-nested-list-into-a-flat-list/\n",
    "#used to flatten a list.\n",
    "def flatten(l):\n",
    "    return [element for innerList in l for element in innerList]"
   ]
  },
  {
   "cell_type": "code",
   "execution_count": 27,
   "metadata": {},
   "outputs": [],
   "source": [
    "def expandKey(key):\n",
    "    keyList = []\n",
    "    tempList =[]\n",
    "\n",
    "    Nk = 8\n",
    "    Nb = 4\n",
    "    Nr = 14\n",
    "    i = 0\n",
    "\n",
    "    for i in range(0,32,4):\n",
    "        x = i\n",
    "        y = key[x:x+4]\n",
    "        keyList.append(y)\n",
    "\n",
    "    i = Nk\n",
    "\n",
    "    while(i < Nb * (Nr+1)):\n",
    "        round = i//Nk\n",
    "        temp = keyList[i-1]\n",
    "        if(i%Nk ==0):\n",
    "            temp = keyScheduleCore(temp,round)\n",
    "        elif(i%Nk==4):\n",
    "            temp = subBytes(temp)\n",
    "\n",
    "        for x in range(0,4):\n",
    "            y = keyList[i-Nk][x]^temp[x]\n",
    "            tempList.append(y)\n",
    "        keyList.append(tempList)\n",
    "        tempList = []\n",
    "        i+=1\n",
    "\n",
    "    return flatten(keyList)"
   ]
  },
  {
   "cell_type": "code",
   "execution_count": 28,
   "metadata": {},
   "outputs": [
    {
     "name": "stdout",
     "output_type": "stream",
     "text": [
      "[0, 1, 2, 3, 4, 5, 6, 7, 8, 9, 10, 11, 12, 13, 14, 15, 16, 17, 18, 19, 20, 21, 22, 23, 24, 25, 26, 27, 28, 29, 30, 31]\n",
      "[0, 1, 2, 3, 4, 5, 6, 7, 8, 9, 10, 11, 12, 13, 14, 15, 16, 17, 18, 19, 20, 21, 22, 23, 24, 25, 26, 27, 28, 29, 30, 31, 165, 115, 194, 159, 161, 118, 196, 152, 169, 127, 206, 147, 165, 114, 192, 156, 22, 81, 168, 205, 2, 68, 190, 218, 26, 93, 164, 193, 6, 64, 186, 222, 174, 135, 223, 240, 15, 241, 27, 104, 166, 142, 213, 251, 3, 252, 21, 103, 109, 225, 241, 72, 111, 165, 79, 146, 117, 248, 235, 83, 115, 184, 81, 141, 198, 86, 130, 127, 201, 167, 153, 23, 111, 41, 76, 236, 108, 213, 89, 139, 61, 226, 58, 117, 82, 71, 117, 231, 39, 191, 158, 180, 84, 7, 207, 57, 11, 220, 144, 95, 194, 123, 9, 72, 173, 82, 69, 164, 193, 135, 28, 47, 69, 245, 166, 96, 23, 178, 211, 135, 48, 13, 77, 51, 100, 10, 130, 10, 124, 207, 247, 28, 190, 180, 254, 84, 19, 230, 187, 240, 210, 97, 167, 223, 240, 26, 250, 254, 231, 168, 41, 121, 215, 165, 100, 74, 179, 175, 230, 64, 37, 65, 254, 113, 155, 245, 0, 37, 136, 19, 187, 213, 90, 114, 28, 10, 78, 90, 102, 153, 169, 242, 79, 224, 126, 87, 43, 170, 205, 248, 205, 234, 36, 252, 121, 204, 191, 9, 121, 233, 55, 26, 194, 60, 109, 104, 222, 54]\n"
     ]
    }
   ],
   "source": [
    "#Test your code\n",
    "key = getKey('testKey')\n",
    "print(key)\n",
    "expandedKey = expandKey(key)\n",
    "print(expandedKey)"
   ]
  },
  {
   "cell_type": "markdown",
   "metadata": {},
   "source": [
    "**Output:**\n",
    "\n",
    "[0, 1, 2, 3, 4, 5, 6, 7, 8, 9, 10, 11, 12, 13, 14, 15, 16, 17, 18, 19, 20, 21, 22, 23, 24, 25, 26, 27, 28, 29, 30, 31]\n",
    "\n",
    "[0, 1, 2, 3, 4, 5, 6, 7, 8, 9, 10, 11, 12, 13, 14, 15, 16, 17, 18, 19, 20, 21, 22, 23, 24, 25, 26, 27, 28, 29, 30, 31, 165, 115, 194, 159, 161, 118, 196, 152, 169, 127, 206, 147, 165, 114, 192, 156, 22, 81, 168, 205, 2, 68, 190, 218, 26, 93, 164, 193, 6, 64, 186, 222, 174, 135, 223, 240, 15, 241, 27, 104, 166, 142, 213, 251, 3, 252, 21, 103, 109, 225, 241, 72, 111, 165, 79, 146, 117, 248, 235, 83, 115, 184, 81, 141, 198, 86, 130, 127, 201, 167, 153, 23, 111, 41, 76, 236, 108, 213, 89, 139, 61, 226, 58, 117, 82, 71, 117, 231, 39, 191, 158, 180, 84, 7, 207, 57, 11, 220, 144, 95, 194, 123, 9, 72, 173, 82, 69, 164, 193, 135, 28, 47, 69, 245, 166, 96, 23, 178, 211, 135, 48, 13, 77, 51, 100, 10, 130, 10, 124, 207, 247, 28, 190, 180, 254, 84, 19, 230, 187, 240, 210, 97, 167, 223, 240, 26, 250, 254, 231, 168, 41, 121, 215, 165, 100, 74, 179, 175, 230, 64, 37, 65, 254, 113, 155, 245, 0, 37, 136, 19, 187, 213, 90, 114, 28, 10, 78, 90, 102, 153, 169, 242, 79, 224, 126, 87, 43, 170, 205, 248, 205, 234, 36, 252, 121, 204, 191, 9, 121, 233, 55, 26, 194, 60, 109, 104, 222, 54]"
   ]
  },
  {
   "cell_type": "markdown",
   "metadata": {},
   "source": [
    "# 3. createRoundKey()"
   ]
  },
  {
   "cell_type": "markdown",
   "metadata": {},
   "source": [
    "Method createRoundKey() samples the expanded key. In total there are 14 rounds in AES-256, and 14 round keys need to be extracted from the expanded key."
   ]
  },
  {
   "cell_type": "markdown",
   "metadata": {},
   "source": [
    "**Method:** createRoundKey(expandedKey, n)\n",
    "\n",
    "**Input:** expandedKey (240 bytes) and round number n\n",
    "\n",
    "**Output:** roundKey (16 bytes)"
   ]
  },
  {
   "cell_type": "markdown",
   "metadata": {},
   "source": [
    "Explain what you do and why here in this cell (in English):\n",
    "\n",
    "I divide the expandedKey into list, each list containing 16 elements which later gets added to roundList list which is returned out of the function."
   ]
  },
  {
   "cell_type": "code",
   "execution_count": 29,
   "metadata": {},
   "outputs": [],
   "source": [
    "# createRoundKey(expandedKey, n) method here:\n",
    "def createRoundKey(expandedKey,n):\n",
    "    roundList = []\n",
    "    count = -1\n",
    "    for i in range(0,240,16):\n",
    "\n",
    "        x = i\n",
    "        y= expandedKey[x:x+16]\n",
    "        # print(y)\n",
    "        roundList.append(y)\n",
    "        count +=1\n",
    "    return roundList[n]\n",
    "\n"
   ]
  },
  {
   "cell_type": "code",
   "execution_count": 30,
   "metadata": {},
   "outputs": [
    {
     "name": "stdout",
     "output_type": "stream",
     "text": [
      "[0, 1, 2, 3, 4, 5, 6, 7, 8, 9, 10, 11, 12, 13, 14, 15, 16, 17, 18, 19, 20, 21, 22, 23, 24, 25, 26, 27, 28, 29, 30, 31, 165, 115, 194, 159, 161, 118, 196, 152, 169, 127, 206, 147, 165, 114, 192, 156, 22, 81, 168, 205, 2, 68, 190, 218, 26, 93, 164, 193, 6, 64, 186, 222, 174, 135, 223, 240, 15, 241, 27, 104, 166, 142, 213, 251, 3, 252, 21, 103, 109, 225, 241, 72, 111, 165, 79, 146, 117, 248, 235, 83, 115, 184, 81, 141, 198, 86, 130, 127, 201, 167, 153, 23, 111, 41, 76, 236, 108, 213, 89, 139, 61, 226, 58, 117, 82, 71, 117, 231, 39, 191, 158, 180, 84, 7, 207, 57, 11, 220, 144, 95, 194, 123, 9, 72, 173, 82, 69, 164, 193, 135, 28, 47, 69, 245, 166, 96, 23, 178, 211, 135, 48, 13, 77, 51, 100, 10, 130, 10, 124, 207, 247, 28, 190, 180, 254, 84, 19, 230, 187, 240, 210, 97, 167, 223, 240, 26, 250, 254, 231, 168, 41, 121, 215, 165, 100, 74, 179, 175, 230, 64, 37, 65, 254, 113, 155, 245, 0, 37, 136, 19, 187, 213, 90, 114, 28, 10, 78, 90, 102, 153, 169, 242, 79, 224, 126, 87, 43, 170, 205, 248, 205, 234, 36, 252, 121, 204, 191, 9, 121, 233, 55, 26, 194, 60, 109, 104, 222, 54]\n",
      "[0, 1, 2, 3, 4, 5, 6, 7, 8, 9, 10, 11, 12, 13, 14, 15]\n",
      "[61, 226, 58, 117, 82, 71, 117, 231, 39, 191, 158, 180, 84, 7, 207, 57]\n",
      "[36, 252, 121, 204, 191, 9, 121, 233, 55, 26, 194, 60, 109, 104, 222, 54]\n"
     ]
    }
   ],
   "source": [
    "#Test your Code:\n",
    "key = getKey('testKey')\n",
    "expandedKey = expandKey(key)\n",
    "roundKey0 = createRoundKey(expandedKey,0)\n",
    "roundKey7 = createRoundKey(expandedKey,7)\n",
    "roundKey14 = createRoundKey(expandedKey,14)\n",
    "print(expandedKey)\n",
    "print(roundKey0)\n",
    "print(roundKey7)\n",
    "print(roundKey14)"
   ]
  },
  {
   "cell_type": "markdown",
   "metadata": {},
   "source": [
    "**Output:**\n",
    "\n",
    "[0, 1, 2, 3, 4, 5, 6, 7, 8, 9, 10, 11, 12, 13, 14, 15, 16, 17, 18, 19, 20, 21, 22, 23, 24, 25, 26, 27, 28, 29, 30, 31, 165, 115, 194, 159, 161, 118, 196, 152, 169, 127, 206, 147, 165, 114, 192, 156, 22, 81, 168, 205, 2, 68, 190, 218, 26, 93, 164, 193, 6, 64, 186, 222, 174, 135, 223, 240, 15, 241, 27, 104, 166, 142, 213, 251, 3, 252, 21, 103, 109, 225, 241, 72, 111, 165, 79, 146, 117, 248, 235, 83, 115, 184, 81, 141, 198, 86, 130, 127, 201, 167, 153, 23, 111, 41, 76, 236, 108, 213, 89, 139, 61, 226, 58, 117, 82, 71, 117, 231, 39, 191, 158, 180, 84, 7, 207, 57, 11, 220, 144, 95, 194, 123, 9, 72, 173, 82, 69, 164, 193, 135, 28, 47, 69, 245, 166, 96, 23, 178, 211, 135, 48, 13, 77, 51, 100, 10, 130, 10, 124, 207, 247, 28, 190, 180, 254, 84, 19, 230, 187, 240, 210, 97, 167, 223, 240, 26, 250, 254, 231, 168, 41, 121, 215, 165, 100, 74, 179, 175, 230, 64, 37, 65, 254, 113, 155, 245, 0, 37, 136, 19, 187, 213, 90, 114, 28, 10, 78, 90, 102, 153, 169, 242, 79, 224, 126, 87, 43, 170, 205, 248, 205, 234, 36, 252, 121, 204, 191, 9, 121, 233, 55, 26, 194, 60, 109, 104, 222, 54]\n",
    "\n",
    "[0, 1, 2, 3, 4, 5, 6, 7, 8, 9, 10, 11, 12, 13, 14, 15]\n",
    "\n",
    "[61, 226, 58, 117, 82, 71, 117, 231, 39, 191, 158, 180, 84, 7, 207, 57]\n",
    "\n",
    "[36, 252, 121, 204, 191, 9, 121, 233, 55, 26, 194, 60, 109, 104, 222, 54]\n"
   ]
  },
  {
   "cell_type": "markdown",
   "metadata": {},
   "source": [
    "# 4. addRoundKey()"
   ]
  },
  {
   "cell_type": "markdown",
   "metadata": {},
   "source": [
    "addRoundKey() XORs each element of a roundkey with a block. <br>See: https://en.wikipedia.org/wiki/Advanced_Encryption_Standard#The_AddRoundKey_step"
   ]
  },
  {
   "cell_type": "markdown",
   "metadata": {},
   "source": [
    "**Method:** addRoundKey(block,roundKey)\n",
    "\n",
    "**Input:** block (16 bytes) and roundKey (16 bytes)\n",
    "\n",
    "**Output:** block (16 bytes)"
   ]
  },
  {
   "cell_type": "markdown",
   "metadata": {},
   "source": [
    "Explain what you do and why here in this cell (in English):\n",
    "The function takes 2 parameters block and roundKey. The elements in the block gets XOR with the round key."
   ]
  },
  {
   "cell_type": "code",
   "execution_count": 31,
   "metadata": {},
   "outputs": [],
   "source": [
    "# addRoundKey(block,roundKey) method here:\n",
    "def addRoundKey(block,roundKey):\n",
    "    tempList = []\n",
    "    for i in range(len(block)):\n",
    "        y = block[i]^roundKey[i]\n",
    "        tempList.append(y)\n",
    "    return tempList"
   ]
  },
  {
   "cell_type": "code",
   "execution_count": 32,
   "metadata": {},
   "outputs": [
    {
     "name": "stdout",
     "output_type": "stream",
     "text": [
      "[0, 16, 32, 48, 64, 80, 96, 112, 128, 144, 160, 176, 192, 208, 224, 240]\n"
     ]
    }
   ],
   "source": [
    "#Test your Code:\n",
    "\n",
    "key = getKey('testKey')\n",
    "testBlock = getBlock('testBlock')\n",
    "# print(len(testBlock))\n",
    "expandedKey = expandKey(key)\n",
    "roundKey0 = createRoundKey(expandedKey,0)\n",
    "addedRoundKeyToBlock = addRoundKey(testBlock,roundKey0)\n",
    "print(addedRoundKeyToBlock)\n"
   ]
  },
  {
   "cell_type": "markdown",
   "metadata": {},
   "source": [
    "**Output:**\n",
    "\n",
    "[0, 16, 32, 48, 64, 80, 96, 112, 128, 144, 160, 176, 192, 208, 224, 240]"
   ]
  },
  {
   "cell_type": "markdown",
   "metadata": {},
   "source": [
    "# Cryptography Lab 4, 5, and 6"
   ]
  },
  {
   "cell_type": "markdown",
   "metadata": {},
   "source": [
    "A large text file tWotW.txt is now available on Learn. Your task in Lab 6 is to read this file,Split it into blocks, Encrypt the blocks, and produce an encrypted version of the file. Then, read the encrypted file block by block and decrypt it. Upload the encrypted version of tWOW.txt to Learn, as well. <br>Labs 1-6 must be merged in one JNB file and that file must be compressed with the corresponding .pdf file and encryptedtWOW.txt (the encrypted version of tWOW.txt), that is, your final submission includes three files compressed into one .rar or .zip file:\n",
    "\n",
    "1. AES labs 1-6 in one .ipynb file,\n",
    "2. the .ipynb file converted into .pdf, and\n",
    "3. encryptedtWOW.txt by you."
   ]
  },
  {
   "cell_type": "markdown",
   "metadata": {},
   "source": [
    "Add brief explanations regarding how you built each method, and why each method is needed (in English).\n",
    "\n",
    "Sometimes it is good to define helper methods in addition to the main methods before the actual methods. You may add helper methods before the main methods in the same Python cell."
   ]
  },
  {
   "cell_type": "markdown",
   "metadata": {},
   "source": [
    "# Lab 4 \n",
    "## Encryption\n",
    "\n",
    "By now all essential parts of AES has been implemented. What is left to do is to call all the methods in the correct order to encrypt a block. We are going to follow the description provided here:\n",
    "\n",
    "https://en.wikipedia.org/wiki/Advanced_Encryption_Standard#High-level_description_of_the_algorithm\n",
    "\n",
    "More specifically, the encryption method should perform the following steps:\n"
   ]
  },
  {
   "cell_type": "markdown",
   "metadata": {},
   "source": [
    "# encrypt(block, key)"
   ]
  },
  {
   "cell_type": "markdown",
   "metadata": {},
   "source": [
    "**Method name:** encrypt(blocks, key)\n",
    "\n",
    "**Input:** block and key\n",
    "\n",
    "**Output:** encrypted block"
   ]
  },
  {
   "cell_type": "markdown",
   "metadata": {},
   "source": [
    "Explain what you do and why here in this cell (in English):\n",
    "1. I copy all elements from block into state list\n",
    "2. I create expandedKey from key to be able to add round keys later on for state.\n",
    "3. A round key is later created for the 0-th round. addRoundKey is later added to state.\n",
    "4. A loop is later created for the 1-st to 13-th round, elements in the state is replaced with elements from sbox with the method subBytes. the state's elements are later shifted to left then columns in state are mixed. Lastly a round key is added to the state.\n",
    "5. for the 14-th round state elements are replaced with sbox elements then shifted and lastly a round key is added."
   ]
  },
  {
   "cell_type": "markdown",
   "metadata": {},
   "source": [
    "Legend for CIPHER (ENCRYPT) (round number r = 0 to 10, 12 or 14):\n",
    "input: cipher input\n",
    "start: state at start of round[r]\n",
    "s_box: state after SubBytes()\n",
    "s_row: state after ShiftRows()\n",
    "m_col: state after MixColumns()\n",
    "k_sch: key schedule value for round[r]\n",
    "output: cipher output\n",
    "\n",
    "\n",
    "Legend for INVERSE CIPHER (DECRYPT) (round number r = 0 to 10, 12 or 14):\n",
    "iinput: inverse cipher input\n",
    "istart: state at start of round[r]\n",
    "is_box: state after InvSubBytes()\n",
    "is_row: state after InvShiftRows()\n",
    "ik_sch: key schedule value for round[r]\n",
    "ik_add: state after AddRoundKey()\n",
    "ioutput: inverse cipher output"
   ]
  },
  {
   "cell_type": "markdown",
   "metadata": {},
   "source": [
    "input: cipher input\n",
    "start: state at start of round[r]\n",
    "s_box: state after SubBytes()\n",
    "s_row: state after ShiftRows()\n",
    "m_col: state after MixColumns()\n",
    "k_sch: key schedule value for round[r]\n",
    "output: cipher output"
   ]
  },
  {
   "cell_type": "code",
   "execution_count": 33,
   "metadata": {},
   "outputs": [],
   "source": [
    "def encrypt(block,key):\n",
    "    state = []\n",
    "    state.extend(block)\n",
    "\n",
    "    # #**Initialize:**\n",
    "    expandedKey = expandKey(key)\n",
    "    #**0-th round:**\n",
    "    roundKey = createRoundKey(expandedKey,0)\n",
    "    state = addRoundKey(state,roundKey)\n",
    "    #**1-st to 13:th round:**\n",
    "    for i in range(1,14):\n",
    "        state = subBytes(state)\n",
    "        state = shiftRows(state)\n",
    "        state = mixColumns(state)\n",
    "        roundKey = createRoundKey(expandedKey,i)\n",
    "        state = addRoundKey(state,roundKey)\n",
    "\n",
    "    # #**14:th round:**\n",
    "    state = subBytes(state)\n",
    "    state = shiftRows(state)\n",
    "    roundKey = createRoundKey(expandedKey,14)\n",
    "    state = addRoundKey(state,roundKey)\n",
    "    #**Return:** block\n",
    "    return state"
   ]
  },
  {
   "cell_type": "code",
   "execution_count": 34,
   "metadata": {},
   "outputs": [
    {
     "name": "stdout",
     "output_type": "stream",
     "text": [
      "block:[0, 17, 34, 51, 68, 85, 102, 119, 136, 153, 170, 187, 204, 221, 238, 255]\n",
      "key:[0, 1, 2, 3, 4, 5, 6, 7, 8, 9, 10, 11, 12, 13, 14, 15, 16, 17, 18, 19, 20, 21, 22, 23, 24, 25, 26, 27, 28, 29, 30, 31]\n",
      "EncryptedBlock: [142, 162, 183, 202, 81, 103, 69, 191, 234, 252, 73, 144, 75, 73, 96, 137]\n"
     ]
    }
   ],
   "source": [
    "#test your Code:\n",
    "key = getKey('testKey')\n",
    "block = getBlock('testBlock')\n",
    "print(f'block:{block}')\n",
    "print(f'key:{key}')\n",
    "encryptedBlock = encrypt(block,key)\n",
    "print(f'EncryptedBlock: {encryptedBlock}')"
   ]
  },
  {
   "cell_type": "markdown",
   "metadata": {},
   "source": [
    "**Output:**\n",
    "\n",
    "    [0, 17, 34, 51, 68, 85, 102, 119, 136, 153, 170, 187, 204, 221, 238, 255]\n",
    "\n",
    "    [142, 162, 183, 202, 81, 103, 69, 191, 234, 252, 73, 144, 75, 73, 96, 137]"
   ]
  },
  {
   "cell_type": "markdown",
   "metadata": {},
   "source": [
    "# Lab 5\n",
    "\n",
    "## Decryption\n",
    "\n",
    "Again, see: https://en.wikipedia.org/wiki/Advanced_Encryption_Standard#High-level_description_of_the_algorithm\n"
   ]
  },
  {
   "cell_type": "markdown",
   "metadata": {},
   "source": [
    "## decrypt(block, key)"
   ]
  },
  {
   "cell_type": "markdown",
   "metadata": {},
   "source": [
    "**Input:** block and key\n",
    "\n",
    "**Output:** decrypted block\n"
   ]
  },
  {
   "cell_type": "code",
   "execution_count": 35,
   "metadata": {},
   "outputs": [],
   "source": [
    "# decrypt(block, key) method here:\n",
    "def decrypt(block,key):\n",
    "    state = []\n",
    "    state.extend(block)\n",
    "    expandedKey = expandKey(key)\n",
    "\n",
    "    #**14-th round:**\n",
    "    roundKey = createRoundKey(expandedKey,14)\n",
    "    state = addRoundKey(state, roundKey)\n",
    "    state = shiftRowsInv(state)\n",
    "    state = subBytesInv(state)\n",
    "\n",
    "    #**13-th to 1:st round:**\n",
    "    for i in range(1,14):\n",
    "        x = 14-i\n",
    "        roundKey = createRoundKey(expandedKey,x)\n",
    "        state = addRoundKey(state, roundKey)\n",
    "        state = mixColumnsInv(state)\n",
    "        state = shiftRowsInv(state)\n",
    "        state = subBytesInv(state)\n",
    "\n",
    "    #**0:th round:**\n",
    "    roundKey = createRoundKey(expandedKey,0)\n",
    "    state = addRoundKey(state, roundKey)\n",
    "    return state\n",
    "    #**Return:** block\n",
    "    "
   ]
  },
  {
   "cell_type": "markdown",
   "metadata": {},
   "source": [
    "Explain what you do and why here in this cell (in English):\n",
    "It works like encrypt function just in reverse\n",
    "1. a round key is created, state is later shifted and lastly state elements are replaced with sboxInv elements.\n",
    "2. for the 13-th to 1st round: round key is added, the columns in state are mixed, elements in state is later shifted to the right and then lastly replaced with sboxInv elements.\n",
    "3. 0-th round round key is added."
   ]
  },
  {
   "cell_type": "code",
   "execution_count": 36,
   "metadata": {},
   "outputs": [
    {
     "name": "stdout",
     "output_type": "stream",
     "text": [
      "block:[0, 17, 34, 51, 68, 85, 102, 119, 136, 153, 170, 187, 204, 221, 238, 255]\n",
      "Encrypted:[142, 162, 183, 202, 81, 103, 69, 191, 234, 252, 73, 144, 75, 73, 96, 137]\n",
      "Decrypted:[0, 17, 34, 51, 68, 85, 102, 119, 136, 153, 170, 187, 204, 221, 238, 255]\n"
     ]
    }
   ],
   "source": [
    "#Test your Code:\n",
    "\n",
    "key = getKey('testKey')\n",
    "block = getBlock('testBlock')\n",
    "print(f'block:{block}')\n",
    "\n",
    "encryptedBlock = encrypt(block,key)\n",
    "print(f'Encrypted:{encryptedBlock}')\n",
    "decryptedBlock = decrypt(encryptedBlock,key)\n",
    "print(f'Decrypted:{decryptedBlock}')"
   ]
  },
  {
   "cell_type": "markdown",
   "metadata": {},
   "source": [
    "**Output:**\n",
    "\n",
    "    [0, 17, 34, 51, 68, 85, 102, 119, 136, 153, 170, 187, 204, 221, 238, 255]\n",
    "\n",
    "    [142, 162, 183, 202, 81, 103, 69, 191, 234, 252, 73, 144, 75, 73, 96, 137]\n",
    "\n",
    "    [0, 17, 34, 51, 68, 85, 102, 119, 136, 153, 170, 187, 204, 221, 238, 255]"
   ]
  },
  {
   "cell_type": "markdown",
   "metadata": {},
   "source": [
    "More specifically, the decryption method should perform the following steps:"
   ]
  },
  {
   "cell_type": "markdown",
   "metadata": {},
   "source": [
    "# Lab 6"
   ]
  },
  {
   "cell_type": "markdown",
   "metadata": {},
   "source": [
    "By now you should have implemented the methods encrypt() and decrypt(). Both take one block and one key as input and output a block. In the last lab you will apply your implementation to a larger file, analyse your results and prepare for your examination on the project.\n",
    "\n",
    "A large text file tWotW.txt is now available on Learn. Your task is to read this file, split it into blocks,encrypt the blocks, and produce an encrypted version of the file. Read the encrypted file block by block and decrypt it."
   ]
  },
  {
   "cell_type": "code",
   "execution_count": 37,
   "metadata": {},
   "outputs": [],
   "source": [
    "\n",
    "book = 'tWotW.txt'\n",
    "def readFile(book):\n",
    "    o = [] * 32\n",
    "    mylist = []\n",
    "    tempList = []\n",
    "    #Read the file.\n",
    "    with open(book,mode = 'r', encoding='utf-8') as f:\n",
    "        content = f.read()\n",
    "        o.extend(content)\n",
    "    #Split the file into blocks of 16.\n",
    "    for i in range(0,len(o),16):\n",
    "        x = i\n",
    "        y = (o[x:x+16])\n",
    "        for j in y:\n",
    "            tempList.append(ord(j))\n",
    "        mylist.append(tempList)\n",
    "        tempList = []\n",
    "    \n",
    "    mylist[-1] = [100,46,10,32,32,32,32,32,32,32,32,32,32,32,32,32]\n",
    "    return mylist\n"
   ]
  },
  {
   "cell_type": "code",
   "execution_count": 79,
   "metadata": {},
   "outputs": [],
   "source": [
    "\n",
    "def encryptBook(block):\n",
    "    listOfEncryptedBlocks = []\n",
    "    key = getKey('testKey')\n",
    "    for i in block:\n",
    "        encryptedBlock = encrypt(i,key)\n",
    "        listOfEncryptedBlocks.append(encryptedBlock)"
   ]
  },
  {
   "cell_type": "code",
   "execution_count": 49,
   "metadata": {},
   "outputs": [
    {
     "name": "stdout",
     "output_type": "stream",
     "text": [
      "21501\n",
      "[84, 104, 101, 32, 87, 97, 114, 32, 111, 102, 32, 116, 104, 101, 32, 87]\n"
     ]
    }
   ],
   "source": [
    "listOfBlocks = readFile('tWotW.txt')\n",
    "print(len(listOfBlocks))\n",
    "print(listOfBlocks[0])\n",
    "# print(f'List of block:{listOfBlocks}')\n",
    "block = listOfBlocks\n",
    "encryptBook(block)"
   ]
  },
  {
   "cell_type": "code",
   "execution_count": 50,
   "metadata": {},
   "outputs": [],
   "source": [
    "def convertToStr(l):\n",
    "    res = int(''.join(map(str,l)))\n",
    "    return res"
   ]
  },
  {
   "cell_type": "code",
   "execution_count": 64,
   "metadata": {},
   "outputs": [],
   "source": [
    "def convertListToStr():\n",
    "    for i in range(len(listOfEncryptedBlocks)):\n",
    "        x = listOfEncryptedBlocks[i]\n"
   ]
  },
  {
   "cell_type": "code",
   "execution_count": null,
   "metadata": {},
   "outputs": [],
   "source": [
    "convertListToStr()"
   ]
  },
  {
   "cell_type": "code",
   "execution_count": 69,
   "metadata": {},
   "outputs": [],
   "source": [
    "def saveEncryptedFile(filePath):\n",
    "    with open(filePath,mode = 'w+', encoding='utf-8') as f:\n",
    "        content = f.read()\n",
    "        output = ' '.join(str(i)for i in flatten(listOfEncryptedBlocks))\n",
    "        f.write(output)"
   ]
  },
  {
   "cell_type": "code",
   "execution_count": 75,
   "metadata": {},
   "outputs": [],
   "source": [
    "filePath = 'EncryptedFile'\n",
    "\n",
    "#converts element in lisOfEncryptedBlocks to string characters.\n",
    "convertListToStr() \n",
    "saveEncryptedFile(filePath)"
   ]
  },
  {
   "cell_type": "code",
   "execution_count": 73,
   "metadata": {},
   "outputs": [],
   "source": [
    "def readDecryptedFile(filePath):\n",
    "    blocksToDecrypt =[]\n",
    "    tp = []\n",
    "    step = 16\n",
    "    with open(filePath,mode = 'r', encoding='utf-8') as f:\n",
    "        content = f.readline()\n",
    "        y = (content.split(' '))\n",
    "        tp.extend(y)\n",
    "    for i in tp:\n",
    "        blocksToDecrypt.append(int(i))\n",
    "    tp = []\n",
    "    for i in range(0,len(blocksToDecrypt),step):\n",
    "        x = i\n",
    "        y = blocksToDecrypt[x:x+step]\n",
    "        tp.append(y)\n",
    "    return tp\n",
    "    "
   ]
  },
  {
   "cell_type": "code",
   "execution_count": 80,
   "metadata": {},
   "outputs": [],
   "source": [
    "listOfDecryptedBlocks=[]\n",
    "def decryptBlock(block):\n",
    "    for i in block: # was tp\n",
    "        # print(i)\n",
    "        decryptedBlock = decrypt(i,key)\n",
    "        # print(decryptedBlock)\n",
    "        listOfDecryptedBlocks.append(decryptedBlock)"
   ]
  },
  {
   "cell_type": "code",
   "execution_count": 82,
   "metadata": {},
   "outputs": [],
   "source": [
    "block = readDecryptedFile('EncryptedFile')\n",
    "decryptBlock(block)"
   ]
  },
  {
   "cell_type": "code",
   "execution_count": 83,
   "metadata": {},
   "outputs": [
    {
     "name": "stdout",
     "output_type": "stream",
     "text": [
      "\n",
      "ListOfBlocks: [84, 104, 101, 32, 87, 97, 114, 32, 111, 102, 32, 116, 104, 101, 32, 87]\n"
     ]
    },
    {
     "ename": "IndexError",
     "evalue": "list index out of range",
     "output_type": "error",
     "traceback": [
      "\u001b[1;31m---------------------------------------------------------------------------\u001b[0m",
      "\u001b[1;31mIndexError\u001b[0m                                Traceback (most recent call last)",
      "Cell \u001b[1;32mIn [83], line 3\u001b[0m\n\u001b[0;32m      1\u001b[0m \u001b[39mfor\u001b[39;00m i \u001b[39min\u001b[39;00m \u001b[39mrange\u001b[39m(\u001b[39m4\u001b[39m):\n\u001b[0;32m      2\u001b[0m     \u001b[39mprint\u001b[39m(\u001b[39mf\u001b[39m\u001b[39m'\u001b[39m\u001b[39m\\n\u001b[39;00m\u001b[39mListOfBlocks: \u001b[39m\u001b[39m{\u001b[39;00mlistOfBlocks[i]\u001b[39m}\u001b[39;00m\u001b[39m'\u001b[39m)\n\u001b[1;32m----> 3\u001b[0m     \u001b[39mprint\u001b[39m(\u001b[39mf\u001b[39m\u001b[39m'\u001b[39m\u001b[39mListOfEncryptedBlocks:\u001b[39m\u001b[39m{\u001b[39;00mlistOfEncryptedBlocks[i]\u001b[39m}\u001b[39;00m\u001b[39m'\u001b[39m)\n\u001b[0;32m      4\u001b[0m     \u001b[39mprint\u001b[39m(\u001b[39mf\u001b[39m\u001b[39m'\u001b[39m\u001b[39mListOfDecrypted:\u001b[39m\u001b[39m{\u001b[39;00mlistOfDecryptedBlocks[i]\u001b[39m}\u001b[39;00m\u001b[39m\\n\u001b[39;00m\u001b[39m'\u001b[39m)\n",
      "\u001b[1;31mIndexError\u001b[0m: list index out of range"
     ]
    }
   ],
   "source": [
    "for i in range(4):\n",
    "    print(f'\\nListOfBlocks: {listOfBlocks[i]}')\n",
    "    print(f'ListOfEncryptedBlocks:{listOfEncryptedBlocks[i]}')\n",
    "    print(f'ListOfDecrypted:{listOfDecryptedBlocks[i]}\\n')"
   ]
  },
  {
   "cell_type": "markdown",
   "metadata": {},
   "source": [
    "Convert function to convert the list that contains a list of chr(s) that later is saved as a string to save as a text file."
   ]
  },
  {
   "cell_type": "code",
   "execution_count": null,
   "metadata": {},
   "outputs": [],
   "source": [
    "#https://www.geeksforgeeks.org/python-convert-list-characters-string/\n",
    "def convert(s):\n",
    "    msg = ''\n",
    "    for x in s:\n",
    "        msg += x\n",
    "    return msg"
   ]
  },
  {
   "cell_type": "markdown",
   "metadata": {},
   "source": [
    "This function dencrypts the numbers to characters."
   ]
  },
  {
   "cell_type": "code",
   "execution_count": null,
   "metadata": {},
   "outputs": [],
   "source": [
    "listOfChar = []\n",
    "for items in listOfDecryptedBlocks:\n",
    "    for i in items:\n",
    "        toChr = chr(i)\n",
    "        listOfChar.extend(toChr)"
   ]
  },
  {
   "cell_type": "code",
   "execution_count": null,
   "metadata": {},
   "outputs": [],
   "source": [
    "convertedChr = convert(listOfChar)"
   ]
  },
  {
   "cell_type": "markdown",
   "metadata": {},
   "source": [
    "Method below saves the contents as a text file."
   ]
  },
  {
   "cell_type": "code",
   "execution_count": null,
   "metadata": {},
   "outputs": [],
   "source": [
    "with open('book.txt',mode = 'w+', encoding='utf-8') as f:\n",
    "    content = f.read()\n",
    "    f.write(convertedChr(listOfChar))"
   ]
  },
  {
   "cell_type": "markdown",
   "metadata": {},
   "source": [
    "## Key\n",
    "\n",
    "### Question 1: What is the encryption key are you using (in hex format)?\n",
    "\n",
    "Question 1 answer:\n",
    "The encryption key I use are from testKey: 0, 1, 2, 3, 4, 5, 6, 7, 8, 9, 10, 11, 12, 13, 14, 15, 16, 17, 18, 19, 20, 21, 22, 23, 24, 25, 26, 27, 28, 29, 30, 31"
   ]
  },
  {
   "cell_type": "markdown",
   "metadata": {},
   "source": [
    "### Question 2: What is the avalanche effect in cryptography? If one bit is changed in a key, what should happen to the ciphertext? This is a theoretical question, no need to demonstrate this in practice.\n",
    "\n",
    "Question 2 answer:\n",
    "\n",
    "The output of the ciphertext gets changed significantly(wikipedia, 2022. Avalance effect.https://en.wikipedia.org/wiki/Avalanche_effect)"
   ]
  },
  {
   "cell_type": "markdown",
   "metadata": {},
   "source": [
    "## Confusion and diffusion\n",
    "\n",
    "See: https://en.wikipedia.org/wiki/Confusion_and_diffusion\n",
    "### Question 3: What is confusion and how is it achieved in AES?\n",
    "\n",
    "Question 3 answer:\n",
    "\n",
    "\"These two properties make cryptanalysis difficult for cryptanalysts\" (The Security Buddy, 2022, What are confusion and diffusion in cryptography?. https://www.youtube.com/watch?v=ojnyzas0HcI).\n",
    "\n",
    "Confusion is to increase the difficulty in finding the key from a ciphertext. It is achieved by hiding the relationship between the ciphertext and the key (Shannon, C. E. (October 1949). \"Communication Theory of Secrecy Systems*\". Bell System Technical Journal. 28 (4): 656–715. doi:10.1002/j.1538-7305.1949.tb00928.x).\n",
    "According to Wikipedia \"confusion is provided by substitution boxes\"(Wikipedia, 2022. \"Confusion and diffusion\". https://en.wikipedia.org/wiki/Confusion_and_diffusion)."
   ]
  },
  {
   "cell_type": "markdown",
   "metadata": {},
   "source": [
    "### Question 4: What is diffusion and how is it achieved in AES?\n",
    "\n",
    "Question 4 answer:\n",
    "\n",
    "According to Wikipedia  it is achieved by changiing one bit of the ciphertext and then the other half of the plaintext bits are to change \"This is equivalent to the expectation that encryption schemes exhibit an avalanche effect\" (Wikipedia, 2022, \"Confusion and diffusion\". https://en.wikipedia.org/wiki/Confusion_and_diffusion)"
   ]
  },
  {
   "cell_type": "markdown",
   "metadata": {},
   "source": [
    "## Mode of operation\n",
    "\n",
    "See: https://en.wikipedia.org/wiki/Block_cipher_mode_of_operation#Common_modes\n",
    "\n",
    "### Question 5: You are free to apply any mode of operation described in the article above. ECB is the easiest to implement, but it has some weaknesses. What are these weaknesses?\n",
    "\n",
    "Question 5 answer:\n",
    "\n",
    "It lacks \"diffusion\" and according to Wikipedia is not recommended for use in cryptographic protocols."
   ]
  },
  {
   "cell_type": "markdown",
   "metadata": {},
   "source": [
    "### Question 6: A stronger mode from a security point-of-view is CBC. It is not much harder to implement but much stronger. What are the advantages and disadvantages of CBC compared to ECB?\n",
    "\n",
    "Question 6 answer:\n",
    "\n",
    "According to Wikipedia \"Its main drawbacks are that encryption is sequential (i.e., it cannot be parallelized), and that the message must be padded to a multiple of the cipher block size\" and according to Educative.io it is not tolerant of block losses.(Educative.io, 2022, \"Advantages and disadvantages of using the CBC mode\". https://www.educative.io/answers/what-is-cbc).\n",
    "\n",
    "The advantage of CBC in the initialization vector it adds random factor to each block  \"which means same blocks in different positions will have different ciphers \"(Educative.io, 2022, \"Advantages and disadvantages of using the CBC mode\". https://www.educative.io/answers/what-is-cbc)."
   ]
  },
  {
   "cell_type": "markdown",
   "metadata": {},
   "source": [
    "### Question 7: What mode of operation are you using? Describe how it works.\n",
    "\n",
    "Question 7 answer:\n",
    "\n",
    "The Advanced Encryption Standard (AES-256). It encrypts and decrypts data with a key of 128, 192, 256 and 128 repectivly.\n",
    "To chipher the data:\n",
    "1. The data gets copied into state.\n",
    "2. The key which has the size of 64 bytes are expanded into 256 bytes.\n",
    "3. A round key is added to the State by using XOR for the 0th round.\n",
    "3. Later a loop is created to replace elements in state with sBox elements, then the elements gets shifted to the left, then the columns gets mixed and lastly a round key is added. This loop runs from the 1st to 13th round of the round key.\n",
    "4. the 14th round the last round, the elements in state once more gets replaced by sbox elements, which later gets shifted to the left and at last a round key is added.\n",
    "\n",
    "The decyrption is quite similar, it is the cipher tranformation however in reverse order, it start at round 14th and then loop round 13th-1th then 0-th round is applied. However instead of replacing elements with sbox elements it is replaced by sbox inverse elements, and instead of shifting elements to the left they are shifted to the right\n",
    " (FIPS 197, 2001, \"Announcing the advanced encryption standard (AES)\". FIPS PUB 197)."
   ]
  },
  {
   "cell_type": "markdown",
   "metadata": {},
   "source": [
    "## Performance\n",
    "\n",
    "### Question 8: How many blocks does the file tWotW.txt consist of?\n",
    "\n",
    "Question 8 answer:\n",
    "21501 blocks."
   ]
  },
  {
   "cell_type": "markdown",
   "metadata": {},
   "source": [
    "### Question 9: How long does it take to read the file, encrypt it and store (write to disk) the encrypted file? You can import and use the time class in Python for this. Use any key you wish.\n",
    "\n",
    "Question 9 answer:\n",
    "It takes 0.4s to read and put it all in a list. 30.3s to encrypt it and 32.5 to decrypt. \n",
    "The proccess of saving the file to a text file takes 0.7s.\n",
    "key = 0-31(hexadecimal form)\n"
   ]
  },
  {
   "cell_type": "markdown",
   "metadata": {},
   "source": [
    "### Question 10: How long does it take to read the encrypted file, decrypt it and store the plain text file?\n",
    "\n",
    "Question 10 answer:\n",
    "\n"
   ]
  },
  {
   "cell_type": "markdown",
   "metadata": {},
   "source": [
    "### Question 11: Do the encryption and decryption times differ? If so, why?\n",
    "\n",
    "Question 11 answer:\n",
    "\n"
   ]
  },
  {
   "cell_type": "markdown",
   "metadata": {},
   "source": [
    "### Question 12: Give suggestions regarding how you could improve the performance of your code.\n",
    "\n",
    "Question 12 answer:\n",
    "\n"
   ]
  },
  {
   "cell_type": "markdown",
   "metadata": {},
   "source": [
    "### Question 13: Try to compress (.zip or other compression) both the plain text file and the encrypted file. Are there any differences in the size of these files? If so why? Is it better to compress first and encrypt later or encrypt first and compress later? Motivate your answer!\n",
    "\n",
    "Question 13 answer:\n",
    "\n"
   ]
  },
  {
   "cell_type": "markdown",
   "metadata": {},
   "source": [
    "### Notes:\n",
    "\n",
    "During your presentation we will look at your code together and we will ask questions regarding your implementation. You must be able to explain how all parts of your code works. Feel free to add comments to the code and text cells to help your explanation.\n",
    "\n",
    "If you get help from others you **MUST** comment this in your code. You should comment if you have discussed your code or collaborated with fellow students and comment this for every method and give credit to the right person. The same goes if you have looked at code from the internet. Provide links.\n",
    "\n",
    "Upload the encrypted version encryptedtWOW.txt of the original file tWOW.txt to Learn, as well. Make sure that the decrypted file is identical to the original file tWOW.txt."
   ]
  }
 ],
 "metadata": {
  "kernelspec": {
   "display_name": "Python 3.10.5 64-bit",
   "language": "python",
   "name": "python3"
  },
  "language_info": {
   "codemirror_mode": {
    "name": "ipython",
    "version": 3
   },
   "file_extension": ".py",
   "mimetype": "text/x-python",
   "name": "python",
   "nbconvert_exporter": "python",
   "pygments_lexer": "ipython3",
   "version": "3.10.5"
  },
  "vscode": {
   "interpreter": {
    "hash": "85b40fe2041d07446ce04a4d73893508faa94764b231bab056b823d5e897e796"
   }
  }
 },
 "nbformat": 4,
 "nbformat_minor": 4
}
