{
 "cells": [
  {
   "cell_type": "markdown",
   "metadata": {},
   "source": [
    "## Cryptography GMI26H\n",
    "# Dalarna University, \n",
    "# Autumn 2022\n",
    "# Advanced Encyption Standard (AES)\n",
    "### Deadline: 27 October, 2022, 23:59 CET time\n",
    "\n",
    "### --------------------------------------------------------------------------------------------------------------------------------------------------------------\n",
    "\n",
    "### Student name: Atichoke Nantarat\n",
    "### Student ID: H20atina\n",
    "### University email address:H20atina@du.se\n",
    "### --------------------------------------------------------------------------------------------------------------------------------------------------------------"
   ]
  },
  {
   "cell_type": "markdown",
   "metadata": {},
   "source": [
    "This document is a Jupyter notebook which will be used during the whole course. Students will run one lab every week as follows:\n",
    "\n",
    "Week 3 of the course Lab 1\n",
    "\n",
    "Week 4 of the course Lab 2\n",
    "\n",
    "Week 5 of the course Lab 3\n",
    "\n",
    "Week 6 of the course Lab 4, 5, and 6"
   ]
  },
  {
   "cell_type": "markdown",
   "metadata": {},
   "source": [
    "## Cryptography Lab 1"
   ]
  },
  {
   "cell_type": "markdown",
   "metadata": {},
   "source": [
    "## \n",
    "## 1. Key:"
   ]
  },
  {
   "cell_type": "markdown",
   "metadata": {},
   "source": [
    "In the file **testKey**, a test key is provided. testKey is in plain text but represents bytes. Since AES-256 uses a key that is 256 bit long it corresponds to a key that is 256/8 bytes long. That is, the key is 32 bytes long, where each byte is encoded as two characters in hexadecimals. That is, the 256-bit key is represented as a string of length 64 hexamdecimal characters. <font color=red>We want the key to be transformed into a list of hexadecimal integers.</font>"
   ]
  },
  {
   "cell_type": "markdown",
   "metadata": {},
   "source": [
    "**Method: getKey(filename)**\n",
    "\n",
    "Create the method that does the following:\n",
    "\n",
    "**Method name:** getKey()\n",
    "\n",
    "**Input:** String filename\n",
    "\n",
    "**Output:** List of integers"
   ]
  },
  {
   "cell_type": "markdown",
   "metadata": {},
   "source": [
    "**Hint:**\n",
    "The following Python methods may help you to build the getKey():\n",
    "\n",
    "• hex()\n",
    "\n",
    "• open()\n",
    "\n",
    "• file.read()\n",
    "\n",
    "• string.decode()\n",
    "\n",
    "• map()\n",
    "\n",
    "• ord()"
   ]
  },
  {
   "cell_type": "code",
   "execution_count": 1,
   "metadata": {},
   "outputs": [],
   "source": [
    "\n",
    "def getKey(testKey):\n",
    "    o = []\n",
    "    mylist = []\n",
    "    with open(testKey, 'r') as f:\n",
    "        # print(f.readline())\n",
    "        tst = \"\".join(map(str,f))\n",
    "        while tst:\n",
    "            o.append(tst[:2])\n",
    "            tst = tst[2:]\n",
    "        for x in o:\n",
    "            # print(f\"Converting:{x}\")\n",
    "            xInt = int(x, base = 16)\n",
    "            output = int(hex(xInt), base = 16)\n",
    "            # print(f\"Hexing {x} || got: {hex(xInt)} || int: {int(hex(xInt), base = 16)}\")\n",
    "            mylist.append(output)\n",
    "        return mylist"
   ]
  },
  {
   "cell_type": "markdown",
   "metadata": {},
   "source": [
    "The following code can be used to test your method implementation. The list after \"Output:\" is what the \"print(key)\" command should print out."
   ]
  },
  {
   "cell_type": "code",
   "execution_count": 2,
   "metadata": {},
   "outputs": [
    {
     "name": "stdout",
     "output_type": "stream",
     "text": [
      "[0, 1, 2, 3, 4, 5, 6, 7, 8, 9, 10, 11, 12, 13, 14, 15, 16, 17, 18, 19, 20, 21, 22, 23, 24, 25, 26, 27, 28, 29, 30, 31]\n"
     ]
    }
   ],
   "source": [
    "key = getKey(\"testKey\")\n",
    "print(key)"
   ]
  },
  {
   "cell_type": "markdown",
   "metadata": {},
   "source": [
    "**Output:**\n",
    "\n",
    "    [0, 1, 2, 3, 4, 5, 6, 7, 8, 9, 10, 11, 12, 13, 14, 15, 16, 17, 18, 19, 20, 21, 22, 23, 24, 25, 26, 27, 28, 29, 30, 31]"
   ]
  },
  {
   "cell_type": "markdown",
   "metadata": {},
   "source": [
    "## 2. Block"
   ]
  },
  {
   "cell_type": "markdown",
   "metadata": {},
   "source": [
    "In the file **testBlock**, a test block, which is a plain text but represents bytes, is provided. Since all versions of AES operate on blocks with the fix size of 128 bits, it corresponds to a block that is 128/8 bytes long. That is, the block is 16 bytes long, where each byte is encoded as two characters in hexadecimal. The 128-bit block is thus represented as a string of length 32.\n",
    "\n",
    "In reality blocks have the format of a 4x4 matrix. In Python, matrices are typically lists. The first 4 values can be represented as the first column of the matrix, the next 4 as the second column, and so on. You can decide your format of the block yourself."
   ]
  },
  {
   "cell_type": "markdown",
   "metadata": {},
   "source": [
    "**Method: getBlock(filename)**\n",
    "\n",
    "Create method that does the following:\n",
    "\n",
    "**Method name:** getBlock()\n",
    "\n",
    "**Input:** String filename\n",
    "\n",
    "**Output:** List (or other format) of integers"
   ]
  },
  {
   "cell_type": "markdown",
   "metadata": {},
   "source": [
    "**Hint:** The following Python methods may help you to build the method\n",
    "\n",
    "hex()\n",
    "\n",
    "open()\n",
    "\n",
    "file.read()\n",
    "\n",
    "string.decode()\n",
    "\n",
    "map()\n",
    "\n",
    "ord()"
   ]
  },
  {
   "cell_type": "markdown",
   "metadata": {},
   "source": [
    "https://en.wikipedia.org/wiki/Advanced_Encryption_Standard#High-level_description_of_the_%20algorithm"
   ]
  },
  {
   "cell_type": "code",
   "execution_count": 3,
   "metadata": {},
   "outputs": [
    {
     "data": {
      "text/plain": [
       "[0, 17, 34, 51, 68, 85, 102, 119, 136, 153, 170, 187, 204, 221, 238, 255]"
      ]
     },
     "execution_count": 3,
     "metadata": {},
     "output_type": "execute_result"
    }
   ],
   "source": [
    "def getBlock(testBlock):\n",
    "    # write your Python code for Block here:\n",
    "    o = []\n",
    "    mylist = []\n",
    "    with open(testBlock,'r') as f:\n",
    "        tst = ''.join(map(str,f))\n",
    "        while tst:\n",
    "            o.append(tst[:2])\n",
    "            tst = tst[2:]\n",
    "        for x in o:\n",
    "            # print(x)\n",
    "            xInt = int(x, base = 16)\n",
    "            output = int(hex(xInt), base = 16)\n",
    "            # print(f\"Hexing {x} || got: {hex(xInt)} || int: {int(hex(xInt), base = 16)}\")\n",
    "            mylist.append(output)\n",
    "        return mylist\n",
    "getBlock('testBlock')\n"
   ]
  },
  {
   "cell_type": "code",
   "execution_count": 4,
   "metadata": {},
   "outputs": [
    {
     "name": "stdout",
     "output_type": "stream",
     "text": [
      "[0, 17, 34, 51, 68, 85, 102, 119, 136, 153, 170, 187, 204, 221, 238, 255]\n"
     ]
    }
   ],
   "source": [
    "block = getBlock('testBlock')\n",
    "print(block)"
   ]
  },
  {
   "cell_type": "markdown",
   "metadata": {},
   "source": [
    "**Output:**\n",
    "\n",
    "    [0, 17, 34, 51, 68, 85, 102, 119, 136, 153, 170, 187, 204, 221, 238, 255]"
   ]
  },
  {
   "cell_type": "markdown",
   "metadata": {},
   "source": [
    "## 3. sbox, sboxInv and rcon"
   ]
  },
  {
   "cell_type": "markdown",
   "metadata": {},
   "source": [
    "From the following Wikipedia articles:\n",
    "\n",
    "• https://en.wikipedia.org/wiki/Rijndael_S-box\n",
    "\n",
    "• https://en.wikipedia.org/wiki/Rijndael_key_schedule\n",
    "\n",
    "Create three Python code blocks, where each code block contains one of the three lists described in their respective Wikipedia articles. "
   ]
  },
  {
   "cell_type": "code",
   "execution_count": 5,
   "metadata": {},
   "outputs": [],
   "source": [
    "def getBlock_2(testBlock):\n",
    "    # write your Python code for Block here:\n",
    "    o = []\n",
    "    mylist = []\n",
    "    with open(testBlock,'r') as f:\n",
    "        txt = ''.join(map(str,f))\n",
    "        tst = txt.replace('\\n','')\n",
    "        while tst:\n",
    "            o.append(tst[:2])\n",
    "            tst = tst[2:]\n",
    "        for x in o:\n",
    "            # print(x)\n",
    "            xInt = int(x, base = 16)\n",
    "            output = int(hex(xInt), base = 16)\n",
    "            # print(f\"Hexing {x} || got: {hex(xInt)} || int: {int(hex(xInt), base = 16)}\")\n",
    "            mylist.append(output)\n",
    "        return mylist\n",
    "        # print(txt)"
   ]
  },
  {
   "cell_type": "code",
   "execution_count": 6,
   "metadata": {},
   "outputs": [
    {
     "name": "stdout",
     "output_type": "stream",
     "text": [
      "[99, 124, 119, 123, 242, 107, 111, 197, 48, 1, 103, 43, 254, 215, 171, 118, 202, 130, 201, 125, 250, 89, 71, 240, 173, 212, 162, 175, 156, 164, 114, 192, 183, 253, 147, 38, 54, 63, 247, 204, 52, 165, 229, 241, 113, 216, 49, 21, 4, 199, 35, 195, 24, 150, 5, 154, 7, 18, 128, 226, 235, 39, 178, 117, 9, 131, 44, 26, 27, 110, 90, 160, 82, 59, 214, 179, 41, 227, 47, 132, 83, 209, 0, 237, 32, 252, 177, 91, 106, 203, 190, 57, 74, 76, 88, 207, 208, 239, 170, 251, 67, 77, 51, 133, 69, 249, 2, 127, 80, 60, 159, 168, 81, 163, 64, 143, 146, 157, 56, 245, 188, 182, 218, 33, 16, 255, 243, 210, 205, 12, 19, 236, 95, 151, 68, 23, 196, 167, 126, 61, 100, 93, 25, 115, 96, 129, 79, 220, 34, 42, 144, 136, 70, 238, 184, 20, 222, 94, 11, 219, 224, 50, 58, 10, 73, 6, 36, 92, 194, 211, 172, 98, 145, 149, 228, 121, 231, 200, 55, 109, 141, 213, 78, 169, 108, 86, 244, 234, 101, 122, 174, 8, 186, 120, 37, 46, 28, 166, 180, 198, 232, 221, 116, 31, 75, 189, 139, 138, 112, 62, 181, 102, 72, 3, 246, 14, 97, 53, 87, 185, 134, 193, 29, 158, 225, 248, 152, 17, 105, 217, 142, 148, 155, 30, 135, 233, 206, 85, 40, 223, 140, 161, 137, 13, 191, 230, 66, 104, 65, 153, 45, 15, 176, 84, 187, 22]\n"
     ]
    }
   ],
   "source": [
    "bloack = getBlock_2('AES-Sbox.txt')\n",
    "print(bloack)"
   ]
  },
  {
   "cell_type": "code",
   "execution_count": 7,
   "metadata": {},
   "outputs": [
    {
     "name": "stdout",
     "output_type": "stream",
     "text": [
      "[82, 9, 106, 213, 48, 54, 165, 56, 191, 64, 163, 158, 129, 243, 215, 251, 124, 227, 57, 130, 155, 47, 255, 135, 52, 142, 67, 68, 196, 222, 233, 203, 84, 123, 148, 50, 166, 194, 35, 61, 238, 76, 149, 11, 66, 250, 195, 78, 8, 46, 161, 102, 40, 217, 36, 178, 118, 91, 162, 73, 109, 139, 209, 37, 114, 248, 246, 100, 134, 104, 152, 22, 212, 164, 92, 204, 93, 101, 182, 146, 108, 112, 72, 80, 253, 237, 185, 218, 94, 21, 70, 87, 167, 141, 157, 132, 144, 216, 171, 0, 140, 188, 211, 10, 247, 228, 88, 5, 184, 179, 69, 6, 208, 44, 30, 143, 202, 63, 15, 2, 193, 175, 189, 3, 1, 19, 138, 107, 58, 145, 17, 65, 79, 103, 220, 234, 151, 242, 207, 206, 240, 180, 230, 115, 150, 172, 116, 34, 231, 173, 53, 133, 226, 249, 55, 232, 28, 117, 223, 110, 71, 241, 26, 113, 29, 41, 197, 137, 111, 183, 98, 14, 170, 24, 190, 27, 252, 86, 62, 75, 198, 210, 121, 32, 154, 219, 192, 254, 120, 205, 90, 244, 31, 221, 168, 51, 136, 7, 199, 49, 177, 18, 16, 89, 39, 128, 236, 95, 96, 81, 127, 169, 25, 181, 74, 13, 45, 229, 122, 159, 147, 201, 156, 239, 160, 224, 59, 77, 174, 42, 245, 176, 200, 235, 187, 60, 131, 83, 153, 97, 23, 43, 4, 126, 186, 119, 214, 38, 225, 105, 20, 99, 85, 33, 12, 125]\n"
     ]
    }
   ],
   "source": [
    "bloack = getBlock_2('AES-Sbox_inverse.txt')\n",
    "print(bloack)"
   ]
  },
  {
   "cell_type": "code",
   "execution_count": 8,
   "metadata": {},
   "outputs": [
    {
     "name": "stdout",
     "output_type": "stream",
     "text": [
      "['0x0', '0x1', '0x2', '0x3', '0x4', '0x5', '0x6', '0x7', '0x8', '0x9']\n"
     ]
    },
    {
     "data": {
      "text/plain": [
       "'0x8d'"
      ]
     },
     "execution_count": 8,
     "metadata": {},
     "output_type": "execute_result"
    }
   ],
   "source": [
    "x = \"0123456789\"\n",
    "mylist = []\n",
    "for i in x:\n",
    "    s = hex(int(i,base = 16))\n",
    "    mylist.append(s)\n",
    "\n",
    "print(mylist)\n",
    "hex(10)\n",
    "hex(141)"
   ]
  },
  {
   "cell_type": "code",
   "execution_count": 9,
   "metadata": {},
   "outputs": [],
   "source": [
    "# write your Python code for Sbox, sboxInv and rcon here:\n",
    "sbox = [99, 124, 119, 123, 242, 107, 111, 197, 48, 1, 103, 43, 254, 215, 171, 118, 202, 130, 201, 125, 250, 89, 71, 240, 173, 212, 162, 175, 156, 164, 114, 192, 183, 253, 147, 38, 54, 63, 247, 204, 52, 165, 229, 241, 113, 216, 49, 21, 4, 199, 35, 195, 24, 150, 5, 154, 7, 18, 128, 226, 235, 39, 178, 117, 9, 131, 44, 26, 27, 110, 90, 160, 82, 59, 214, 179, 41, 227, 47, 132, 83, 209, 0, 237, 32, 252, 177, 91, 106, 203, 190, 57, 74, 76, 88, 207, 208, 239, 170, 251, 67, 77, 51, 133, 69, 249, 2, 127, 80, 60, 159, 168, 81, 163, 64, 143, 146, 157, 56, 245, 188, 182, 218, 33, 16, 255, 243, 210, 205, 12, 19, 236, 95, 151, 68, 23, 196, 167, 126, 61, 100, 93, 25, 115, 96, 129, 79, 220, 34, 42, 144, 136, 70, 238, 184, 20, 222, 94, 11, 219, 224, 50, 58, 10, 73, 6, 36, 92, 194, 211, 172, 98, 145, 149, 228, 121, 231, 200, 55, 109, 141, 213, 78, 169, 108, 86, 244, 234, 101, 122, 174, 8, 186, 120, 37, 46, 28, 166, 180, 198, 232, 221, 116, 31, 75, 189, 139, 138, 112, 62, 181, 102, 72, 3, 246, 14, 97, 53, 87, 185, 134, 193, 29, 158, 225, 248, 152, 17, 105, 217, 142, 148, 155, 30, 135, 233, 206, 85, 40, 223, 140, 161, 137, 13, 191, 230, 66, 104, 65, 153, 45, 15, 176, 84, 187, 22]\n",
    "sboxInv = [82, 9, 106, 213, 48, 54, 165, 56, 191, 64, 163, 158, 129, 243, 215, 251, 124, 227, 57, 130, 155, 47, 255, 135, 52, 142, 67, 68, 196, 222, 233, 203, 84, 123, 148, 50, 166, 194, 35, 61, 238, 76, 149, 11, 66, 250, 195, 78, 8, 46, 161, 102, 40, 217, 36, 178, 118, 91, 162, 73, 109, 139, 209, 37, 114, 248, 246, 100, 134, 104, 152, 22, 212, 164, 92, 204, 93, 101, 182, 146, 108, 112, 72, 80, 253, 237, 185, 218, 94, 21, 70, 87, 167, 141, 157, 132, 144, 216, 171, 0, 140, 188, 211, 10, 247, 228, 88, 5, 184, 179, 69, 6, 208, 44, 30, 143, 202, 63, 15, 2, 193, 175, 189, 3, 1, 19, 138, 107, 58, 145, 17, 65, 79, 103, 220, 234, 151, 242, 207, 206, 240, 180, 230, 115, 150, 172, 116, 34, 231, 173, 53, 133, 226, 249, 55, 232, 28, 117, 223, 110, 71, 241, 26, 113, 29, 41, 197, 137, 111, 183, 98, 14, 170, 24, 190, 27, 252, 86, 62, 75, 198, 210, 121, 32, 154, 219, 192, 254, 120, 205, 90, 244, 31, 221, 168, 51, 136, 7, 199, 49, 177, 18, 16, 89, 39, 128, 236, 95, 96, 81, 127, 169, 25, 181, 74, 13, 45, 229, 122, 159, 147, 201, 156, 239, 160, 224, 59, 77, 174, 42, 245, 176, 200, 235, 187, 60, 131, 83, 153, 97, 23, 43, 4, 126, 186, 119, 214, 38, 225, 105, 20, 99, 85, 33, 12, 125]\n",
    "# rcon = [0x0, 0x1, 0x2, 0x3, 0x4, 0x5, 0x6, 0x7, 0x8, 0x9,0xa]\n",
    "rcon = [0x8d, 0x1, 0x2, 0x3, 0x4, 0x5, 0x6, 0x7, 0x8, 0x9,0xa]"
   ]
  },
  {
   "cell_type": "code",
   "execution_count": 10,
   "metadata": {},
   "outputs": [
    {
     "name": "stdout",
     "output_type": "stream",
     "text": [
      "99\n",
      "82\n",
      "141\n"
     ]
    }
   ],
   "source": [
    "#Check that you can run the following commands to see if the lists map integers correctly:\n",
    "print(sbox[0])\n",
    "print(sboxInv[0])\n",
    "print(rcon[0])\n"
   ]
  },
  {
   "cell_type": "markdown",
   "metadata": {},
   "source": [
    "**Output:**\n",
    "\n",
    "    99 82 141"
   ]
  },
  {
   "cell_type": "markdown",
   "metadata": {},
   "source": [
    "# Cryptography Lab 2"
   ]
  },
  {
   "cell_type": "markdown",
   "metadata": {},
   "source": [
    "# 1. shiftRows"
   ]
  },
  {
   "cell_type": "markdown",
   "metadata": {},
   "source": [
    "shiftRows is a static block-operator. Meaning that it performs the same action every time it is called. It simply shifts each row to the left the same number of steps as the current row number. See: https://en.wikipedia.org/wiki/Advanced_Encryption_Standard#The_ShiftRows_step\n",
    "\n",
    "Depending on how you have structured your block the implementation for this will be different. A list can be used to represent the matrix, where the first 4 elements corresponds to the first column, the next 4 elements corresponds to the second column, and so on. You can use either matrices, lists of lists or just a normal list.\n",
    "\n",
    "Since this method is static you can either just make a temporary block and move the elements around as described or you can loop over each row and perform the shift depending on the current row number.\n",
    "\n",
    "Create the following two methods: One called shiftRows(block) and one called shiftRowsInv(block). These methods are extremely similar but the reverse shift just moves elements to the right instead of left."
   ]
  },
  {
   "cell_type": "code",
   "execution_count": 11,
   "metadata": {},
   "outputs": [
    {
     "name": "stdout",
     "output_type": "stream",
     "text": [
      "[0, 17, 34, 51, 68, 85, 102, 119, 136, 153, 170, 187, 204, 221, 238, 255]\n"
     ]
    }
   ],
   "source": [
    "block = getBlock('testBlock')\n",
    "print(block)"
   ]
  },
  {
   "cell_type": "markdown",
   "metadata": {},
   "source": [
    "https://www.youtube.com/watch?v=7uRK9iOk4uk&t=351s"
   ]
  },
  {
   "cell_type": "code",
   "execution_count": 12,
   "metadata": {},
   "outputs": [],
   "source": [
    "# Add shiftRows() here:\n",
    "def shiftRows(block):\n",
    "\n",
    "    s0 = block[0::4]\n",
    "    s1 = block[1::4]\n",
    "    s2 = block[2::4]\n",
    "    s3 = block[3::4]\n",
    "\n",
    "    s1 = s1[1:] + s1[:1]\n",
    "    s2 = s2[2:] + s2[:2]\n",
    "    s3 = s3[3:] + s3[:3]\n",
    "\n",
    "    # print(s0)\n",
    "    # print(s1)\n",
    "    # print(s2)\n",
    "    # print(s3)\n",
    "\n",
    "    x1 = [s0[0],s1[0],s2[0],s3[0]]\n",
    "    x2 = [s0[1],s1[1],s2[1],s3[1]]\n",
    "    x3 = [s0[2],s1[2],s2[2],s3[2]]\n",
    "    x4 = [s0[3],s1[3],s2[3],s3[3]]\n",
    "    x5 = x1+x2+x3+x4\n",
    "    # print(x5)\n",
    "    return x5\n"
   ]
  },
  {
   "cell_type": "code",
   "execution_count": 13,
   "metadata": {},
   "outputs": [],
   "source": [
    "# Add shiftRowsInv() here:\n",
    "def shiftRowsInv(block):\n",
    "    s0 = block[0::4]\n",
    "    s1 = block[1::4]\n",
    "    s2 = block[2::4]\n",
    "    s3 = block[3::4]\n",
    "\n",
    "    s1 = s1[-1:] + s1[:-1]\n",
    "    s2 = s2[-2:] + s2[:-2]\n",
    "    s3 = s3[-3:] + s3[:-3]\n",
    "\n",
    "    # print(s0)\n",
    "    # print(s1)\n",
    "    # print(s2)\n",
    "    # print(s3)\n",
    "\n",
    "    x1 = [s0[0],s1[0],s2[0],s3[0]]\n",
    "    x2 = [s0[1],s1[1],s2[1],s3[1]]\n",
    "    x3 = [s0[2],s1[2],s2[2],s3[2]]\n",
    "    x4 = [s0[3],s1[3],s2[3],s3[3]]\n",
    "    x5 = x1+x2+x3+x4\n",
    "    return x5\n",
    "\n"
   ]
  },
  {
   "cell_type": "code",
   "execution_count": 14,
   "metadata": {},
   "outputs": [
    {
     "name": "stdout",
     "output_type": "stream",
     "text": [
      "[0, 85, 170, 255, 68, 153, 238, 51, 136, 221, 34, 119, 204, 17, 102, 187]\n"
     ]
    }
   ],
   "source": [
    "#Test the shiftRows() using this code\n",
    "\n",
    "block = getBlock('testBlock')\n",
    "\n",
    "shiftedBlock = shiftRows(block)\n",
    "\n",
    "print(shiftedBlock)"
   ]
  },
  {
   "cell_type": "markdown",
   "metadata": {},
   "source": [
    "**Output:**\n",
    "\n",
    "[0, 85, 170, 255, 68, 153, 238, 51, 136, 221, 34, 119, 204, 17, 102, 187]"
   ]
  },
  {
   "cell_type": "code",
   "execution_count": 15,
   "metadata": {},
   "outputs": [
    {
     "name": "stdout",
     "output_type": "stream",
     "text": [
      "[0, 17, 34, 51, 68, 85, 102, 119, 136, 153, 170, 187, 204, 221, 238, 255]\n"
     ]
    }
   ],
   "source": [
    "#Test the shiftRowsInv() using this Code:\n",
    "\n",
    "block = getBlock('testBlock')\n",
    "\n",
    "shiftedBlock = shiftRows(block)\n",
    "\n",
    "unShiftedBlock = shiftRowsInv(shiftedBlock)\n",
    "\n",
    "print(unShiftedBlock)"
   ]
  },
  {
   "cell_type": "markdown",
   "metadata": {},
   "source": [
    "**Output:**\n",
    "\n",
    "[0, 17, 34, 51, 68, 85, 102, 119, 136, 153, 170, 187, 204, 221, 238, 255]"
   ]
  },
  {
   "cell_type": "markdown",
   "metadata": {},
   "source": [
    "# 2. mixColumn()"
   ]
  },
  {
   "cell_type": "markdown",
   "metadata": {},
   "source": [
    "The mix of columns is a shuffle of each individual column in the block. This shuffling happens in a deterministic way depending on the values within the column. For consultation of the exact way of doing this, see the following Wikipedia article: https://en.wikipedia.org/wiki/Rijndael_mix_columns#MixColumns\n",
    "\n",
    "You can either implement Galois multiplication and perform the mix directly. Or you use the pre-calculated lists found in the article. To do AES mixing of columns one only needs to multiply elements with 1, 2 or 3. And for the un-mixing 9, 11, 13 or 14.\n",
    "\n",
    "**Create method mixColumn() as follows:**\n",
    "\n",
    "This method should take one column perform the multiplications in accordance to the multiplication tables. Refer to the Wikipedia article.\n",
    "\n",
    "Input: column\n",
    "\n",
    "Output: column\n",
    "\n",
    "Remember that in this context + means XOR. In Python, the hat-symbol (caret), ˆ, is used for XOR.\n",
    "\n",
    "Also create the inverse method mixColumnInv()."
   ]
  },
  {
   "cell_type": "markdown",
   "metadata": {},
   "source": [
    "MDS Matrix\n",
    "[d0]        2   3   1   1   [b0]\n",
    "[d1]        1   2   3   1   [b1]\n",
    "[d2]        1   1   2   3   [b2]\n",
    "[d3]        3   1   1   2   [b3]\n",
    "\n",
    "Min matrix\n",
    "0   68  136 204\n",
    "17  85  153 221\n",
    "34  102 170 238\n",
    "51  119 187 255\n",
    "\n",
    "[d0] = (2*68) ⊕ (3*85) ⊕ (1*102) ⊕ (1*119)\n",
    "OUTPUT: \n",
    "34, 119, 0, 85, 102, 51, 68, 17, 170, 255, 136, 221,238, 187, 204, 153"
   ]
  },
  {
   "cell_type": "code",
   "execution_count": 16,
   "metadata": {},
   "outputs": [],
   "source": [
    "#https://gist.github.com/bonsaiviking/5571001\n",
    "def GF(a, b):\n",
    "    p = 0\n",
    "    for c in range(8):\n",
    "        if b & 1:\n",
    "            p ^= a\n",
    "        a <<= 1\n",
    "        if a & 0x100:\n",
    "            a ^= 0x11b\n",
    "        b >>= 1\n",
    "    return p"
   ]
  },
  {
   "cell_type": "code",
   "execution_count": 17,
   "metadata": {},
   "outputs": [],
   "source": [
    "def GF(a, b):\n",
    "    r = 0\n",
    "    for times in range(8):\n",
    "        if (b & 1) == 1: r = r ^ a\n",
    "        if r > 0x100: r = r ^ 0x100\n",
    "        # keep r 8 bit\n",
    "        hi_bit_set = (a & 0x80)\n",
    "        a = a << 1\n",
    "        if a > 0x100:\n",
    "            # keep a 8 bit\n",
    "            a = a ^ 0x100\n",
    "        if hi_bit_set == 0x80:\n",
    "            a = a ^ 0x1b\n",
    "        if a > 0x100:\n",
    "            # keep a 8 bit\n",
    "            a = a ^ 0x100\n",
    "        b = b >> 1\n",
    "        if b > 0x100:\n",
    "            # keep b 8 bit\n",
    "            b = b ^ 0x100\n",
    "    return r"
   ]
  },
  {
   "cell_type": "code",
   "execution_count": 18,
   "metadata": {},
   "outputs": [],
   "source": [
    "#https://stackoverflow.com/questions/66115739/aes-mixcolumns-with-python\n",
    "def gfMult(x,y):\n",
    "    if y == 1:\n",
    "        return x\n",
    "    tmp = (x<<1)\n",
    "    if y == 2:\n",
    "        return tmp if y < 128 else tmp ^ 0x1b\n",
    "    if y == 3:\n",
    "        return gfMult(x,2)^x\n"
   ]
  },
  {
   "cell_type": "code",
   "execution_count": 19,
   "metadata": {},
   "outputs": [],
   "source": [
    "#Mikael's method\n",
    "def gfMultInv(x,y):\n",
    "    if y == 9:\n",
    "        return gfMult(gfMult(gfMult(x,2),2),2) ^x\n",
    "    if y == 11:\n",
    "        return gfMult(gfMult(gfMult(x,2),2),2) ^ gfMult(x,2) ^x\n",
    "    if y == 13:\n",
    "        return gfMult(gfMult(gfMult(x,2),2),2) ^ gfMult(gfMult(x,2),2) ^x\n",
    "    if y == 14:\n",
    "        return gfMult(gfMult(gfMult(x,2),2),2) ^gfMult(gfMult(x,2),2) ^gfMult(x,2)"
   ]
  },
  {
   "cell_type": "markdown",
   "metadata": {},
   "source": [
    "34, 119, 0, 85, 102, 51, 68, 17, 170, 255, 136, 221, 238, 187, 204, 153\n",
    "\n",
    "MDS Matrix\n",
    "[d0]        2   3   1   1   [b0]\n",
    "[d1]        1   2   3   1   [b1]\n",
    "[d2]        1   1   2   3   [b2]\n",
    "[d3]        3   1   1   2   [b3]"
   ]
  },
  {
   "cell_type": "code",
   "execution_count": 20,
   "metadata": {},
   "outputs": [],
   "source": [
    "# Add mixColumn() here:\n",
    "def mixColumn(column):\n",
    "    ConstMatrix = [2,3,1,1,1,2,3,1,1,1,2,3,3,1,1,2]\n",
    "    newList = []\n",
    "    count = 0\n",
    "    counter = 0\n",
    "    for i in range(0,4):\n",
    "        # a = gfMult(column[count],ConstMatrix[counter]) ^ gfMult(column[count+1],ConstMatrix[counter+1]) ^ gfMult(column[count+2],ConstMatrix[counter+2])^ gfMult(column[count+3],ConstMatrix[counter+3])\n",
    "        a = gfMult(column[count],ConstMatrix[counter]) ^ gfMult(column[count+1],ConstMatrix[counter+1]) ^ gfMult(column[count+2],ConstMatrix[counter+2])^ gfMult(column[count+3],ConstMatrix[counter+3])\n",
    "        counter += 4\n",
    "        newList.append(a)\n",
    "    return newList"
   ]
  },
  {
   "cell_type": "code",
   "execution_count": 21,
   "metadata": {},
   "outputs": [],
   "source": [
    "# Add mixColumnInv() here:\n",
    "def mixColumnInv(column):\n",
    "    ConstMatrix = [14,11,13,9,9,14,11,13,13,9,14,11,11,13,9,14]\n",
    "    newList = []\n",
    "    count = 0\n",
    "    counter = 0\n",
    "    for i in range(0,4):\n",
    "        # print(column[count],ConstMatrix[counter],column[count+1],ConstMatrix[counter+1],column[count+2],ConstMatrix[counter+2],column[count+3],ConstMatrix[counter+3])\n",
    "        # print(column[count],ConstMatrix[counter])\n",
    "        # print(gfMultInv(column[count],ConstMatrix[counter]))\n",
    "        a = gfMultInv(column[count],ConstMatrix[counter]) ^ gfMultInv(column[count+1],ConstMatrix[counter+1]) ^ gfMultInv(column[count+2],ConstMatrix[counter+2])^ gfMultInv(column[count+3],ConstMatrix[counter+3])\n",
    "        counter += 4\n",
    "        newList.append(a)\n",
    "    return newList"
   ]
  },
  {
   "cell_type": "markdown",
   "metadata": {},
   "source": [
    "Next create method mixColumns() that calls the mixColumn(col) for each column in your block and then returns the mixed block."
   ]
  },
  {
   "cell_type": "code",
   "execution_count": 22,
   "metadata": {},
   "outputs": [],
   "source": [
    "# Add mixColumns() here:\n",
    "def mixColumns(block):\n",
    "    newList = []\n",
    "    start = 0\n",
    "    end = 15\n",
    "    step = 4\n",
    "    for i in range(start,end,step):\n",
    "        x = i\n",
    "        column = (block[x:x+step])\n",
    "        # print(f'Column: {column}')\n",
    "        a = mixColumn(column)\n",
    "        newList.extend(a)\n",
    "    return newList\n"
   ]
  },
  {
   "cell_type": "markdown",
   "metadata": {},
   "source": [
    "The corresponding inverse function should simply call the mixColumnInv() method for each column in your block and then return the mixed block."
   ]
  },
  {
   "cell_type": "code",
   "execution_count": 23,
   "metadata": {},
   "outputs": [],
   "source": [
    "# Add mixColumnsInv() here:\n",
    "def mixColumnsInv(block):\n",
    "    newList = []\n",
    "    start = 0\n",
    "    end = 15\n",
    "    step = 4\n",
    "    for i in range(start,end,step):\n",
    "        x = i\n",
    "        column = (block[x:x+step])\n",
    "        # print(f'Column: {column}')\n",
    "        a = mixColumnInv(column)\n",
    "        newList.extend(a)\n",
    "    return newList\n"
   ]
  },
  {
   "cell_type": "markdown",
   "metadata": {},
   "source": [
    "Use the following code to test your methods"
   ]
  },
  {
   "cell_type": "code",
   "execution_count": 24,
   "metadata": {},
   "outputs": [
    {
     "name": "stdout",
     "output_type": "stream",
     "text": [
      "[0, 17, 34, 51, 68, 85, 102, 119, 136, 153, 170, 187, 204, 221, 238, 255]\n",
      "[34, 119, 0, 85, 102, 51, 68, 17, 170, 255, 136, 221, 238, 187, 204, 153]\n",
      "[0, 17, 34, 51, 68, 85, 102, 119, 136, 153, 170, 187, 204, 221, 238, 255]\n"
     ]
    }
   ],
   "source": [
    "testBlock = getBlock('testBlock')\n",
    "\n",
    "print(testBlock)\n",
    "\n",
    "mixedBlock = mixColumns(testBlock)\n",
    "\n",
    "print(mixedBlock)\n",
    "\n",
    "unMixedBlock = mixColumnsInv(mixedBlock)\n",
    "\n",
    "print(unMixedBlock)"
   ]
  },
  {
   "cell_type": "markdown",
   "metadata": {},
   "source": [
    "**Output:**\n",
    "\n",
    "[0, 17, 34, 51, 68, 85, 102, 119, 136, 153, 170, 187, 204, 221, 238, 255]\n",
    "    \n",
    "[34, 119, 0, 85, 102, 51, 68, 17, 170, 255, 136, 221, 238, 187, 204, 153]\n",
    "    \n",
    "[0, 17, 34, 51, 68, 85, 102, 119, 136, 153, 170, 187, 204, 221, 238, 255]\n"
   ]
  },
  {
   "cell_type": "markdown",
   "metadata": {},
   "source": [
    "# 3. subBytes"
   ]
  },
  {
   "cell_type": "markdown",
   "metadata": {},
   "source": [
    "Create method subBytes() and apply the sBox to each element in the block and return it."
   ]
  },
  {
   "cell_type": "code",
   "execution_count": 25,
   "metadata": {},
   "outputs": [],
   "source": [
    "# Add subBytes() here:\n",
    "def subBytes(block):\n",
    "    newList = []\n",
    "    for i in range(0,15):\n",
    "        x = block[i]\n",
    "        i = sbox[x]\n",
    "        newList.append(i)\n",
    "    # print(newList)\n",
    "    return newList"
   ]
  },
  {
   "cell_type": "markdown",
   "metadata": {},
   "source": [
    "Create method subBytesInv() and apply sBoxInv() to each element in the block. And return it."
   ]
  },
  {
   "cell_type": "code",
   "execution_count": 26,
   "metadata": {},
   "outputs": [],
   "source": [
    "# Add subBytesInv() here:\n",
    "def subBytesInv(block):\n",
    "    newList = []\n",
    "    for i in range(0,15):\n",
    "        x = block[i]\n",
    "        i = sboxInv[x]\n",
    "        newList.append(i)\n",
    "    # print(newList)\n",
    "    return newList\n"
   ]
  },
  {
   "cell_type": "markdown",
   "metadata": {},
   "source": [
    "Use the follwing code to test your methods:"
   ]
  },
  {
   "cell_type": "code",
   "execution_count": 27,
   "metadata": {},
   "outputs": [
    {
     "name": "stdout",
     "output_type": "stream",
     "text": [
      "[0, 17, 34, 51, 68, 85, 102, 119, 136, 153, 170, 187, 204, 221, 238, 255]\n",
      "[99, 130, 147, 195, 27, 252, 51, 245, 196, 238, 172, 234, 75, 193, 40]\n",
      "[0, 17, 34, 51, 68, 85, 102, 119, 136, 153, 170, 187, 204, 221, 238]\n"
     ]
    }
   ],
   "source": [
    "testBlock = getBlock('testBlock')\n",
    "\n",
    "print(testBlock)\n",
    "\n",
    "substitutedBlock = subBytes(testBlock)\n",
    "\n",
    "print(substitutedBlock)\n",
    "\n",
    "unSubstitutedBlock = subBytesInv(substitutedBlock)\n",
    "\n",
    "print(unSubstitutedBlock)"
   ]
  },
  {
   "cell_type": "markdown",
   "metadata": {},
   "source": [
    "**Output:**\n",
    "    \n",
    "[0, 17, 34, 51, 68, 85, 102, 119, 136, 153, 170, 187, 204, 221, 238, 255]\n",
    "\n",
    "[99, 130, 147, 195, 27, 252, 51, 245, 196, 238, 172, 234, 75, 193, 40, 22]\n",
    "\n",
    "[0, 17, 34, 51, 68, 85, 102, 119, 136, 153, 170, 187, 204, 221, 238, 255]"
   ]
  },
  {
   "cell_type": "markdown",
   "metadata": {},
   "source": [
    "# Cryptography Lab 3"
   ]
  },
  {
   "cell_type": "markdown",
   "metadata": {},
   "source": [
    "# 1. keyScheduleCore()"
   ]
  },
  {
   "cell_type": "markdown",
   "metadata": {},
   "source": [
    "Read about this method in https://en.wikipedia.org/wiki/Rijndael_key_schedule#Key_schedule_core <br>\n",
    "or in NIST document paragraph 5.2 (Key Expansion)<br>\n",
    "**Input:** 4 byte word and Iteration Number\n",
    "\n",
    "**Output:** 4 byte word"
   ]
  },
  {
   "cell_type": "markdown",
   "metadata": {},
   "source": [
    "Explain what you do and why here in this cell (in English):\n"
   ]
  },
  {
   "cell_type": "markdown",
   "metadata": {},
   "source": [
    "https://www.youtube.com/watch?v=4pmR49izUL0&t=6s"
   ]
  },
  {
   "cell_type": "code",
   "execution_count": 28,
   "metadata": {},
   "outputs": [],
   "source": [
    "# Add keyScheduleCore() here:\n",
    "def keyScheduleCore(word,Nk):\n",
    "    newList = []\n",
    "    # shift the elements to the left.\n",
    "    s1 = word[1:] + word[:1] \n",
    "    # print(s1)\n",
    "    #subbytes\n",
    "    for i in range(0,4):\n",
    "        x = s1[i]\n",
    "        y = sbox[x]\n",
    "        newList.append(y)\n",
    "    #Rcon\n",
    "    newList[0] ^= rcon[Nk]\n",
    "    return newList\n"
   ]
  },
  {
   "cell_type": "code",
   "execution_count": 29,
   "metadata": {},
   "outputs": [
    {
     "name": "stdout",
     "output_type": "stream",
     "text": [
      "[1, 2, 3, 4, 5, 6, 7, 0]\n",
      "[118, 123, 242, 107]\n"
     ]
    }
   ],
   "source": [
    "#Test your code\n",
    "word = [1,2,3,4,5,6,7,0]\n",
    "\n",
    "newWord = keyScheduleCore(word,1)\n",
    "\n",
    "print(word)\n",
    "\n",
    "print(newWord)"
   ]
  },
  {
   "cell_type": "markdown",
   "metadata": {},
   "source": [
    "**Output:**\n",
    "\n",
    "    [1, 2, 3, 4]\n",
    "\n",
    "    [118, 123, 242, 124]"
   ]
  },
  {
   "cell_type": "markdown",
   "metadata": {},
   "source": [
    "# 2. expandKey()"
   ]
  },
  {
   "cell_type": "markdown",
   "metadata": {},
   "source": [
    "AES-operations are performed on blocks multiple times, in so-called rounds. Each round uses a specific round key. The round keys are created from the original key via an extension. The original key is 256 bit (32 bytes) but needs to be expanded to a 240 byte key. This extension is done using Rijndael key schedule, see https://en.wikipedia.org/wiki/Rijndael_key_schedule#Key_schedule_description. <br>\n",
    "Follow the algorithmic description in the Wikipedia page and create a method called expandKey()."
   ]
  },
  {
   "cell_type": "markdown",
   "metadata": {},
   "source": [
    "**Method name:** expandKey(key)\n",
    "\n",
    "**Input:** 256 bit key\n",
    "\n",
    "**Output:** extended 240 byte key"
   ]
  },
  {
   "cell_type": "markdown",
   "metadata": {},
   "source": [
    "Explain what you do and why here in this cell (in English):\n"
   ]
  },
  {
   "cell_type": "code",
   "execution_count": 30,
   "metadata": {},
   "outputs": [],
   "source": [
    "    # for i in range(0,4):\n",
    "    #     x = keyList[0][i]^keyScheduleCore(keyList[7],8)[i]\n",
    "    #     tempList.append(x)\n",
    "    # keyList.append(tempList)\n",
    "    # tempList = []\n",
    "\n",
    "    # for i in range(0,4):\n",
    "    #     x = keyList[1][i]^keyList[8][i]\n",
    "    #     tempList.append(x)\n",
    "    # keyList.append(tempList)\n",
    "    # tempList = []\n",
    "\n",
    "    # for i in range(0,4):\n",
    "    #     x = keyList[2][i]^keyList[9][i]\n",
    "    #     tempList.append(x)\n",
    "    # keyList.append(tempList)\n",
    "    # tempList = []\n",
    "\n",
    "    # for i in range(0,4):\n",
    "    #     x = keyList[3][i]^keyList[10][i]\n",
    "    #     tempList.append(x)\n",
    "    # keyList.append(tempList)\n",
    "    # tempList = []\n",
    "\n",
    "    # for i in range(0,4):\n",
    "    #     x = keyList[4][i]^keyList[11][i]\n",
    "    #     tempList.append(x)\n",
    "    # keyList.append(tempList)\n",
    "    # tempList = []"
   ]
  },
  {
   "cell_type": "code",
   "execution_count": 31,
   "metadata": {},
   "outputs": [],
   "source": [
    "def flatten(l):\n",
    "    return [item for sublist in l for item in sublist]"
   ]
  },
  {
   "cell_type": "code",
   "execution_count": 58,
   "metadata": {},
   "outputs": [],
   "source": [
    "# Add shiftRows() here:\n",
    "def shiftRows2(block):\n",
    "    newList = []\n",
    "    # shift the elements to the left.\n",
    "    s1 = word[1:] + word[:1] \n",
    "    # print(s1)\n",
    "    #subbytes\n",
    "    for i in range(0,4):\n",
    "        x = s1[i]\n",
    "        y = sbox[x]\n",
    "        newList.append(y)\n",
    "    return newList"
   ]
  },
  {
   "cell_type": "code",
   "execution_count": null,
   "metadata": {},
   "outputs": [],
   "source": [
    "\n",
    "def expandKey(key):\n",
    "    keyList = []\n",
    "    keyList.extend(key)\n",
    "    Nk = 8\n",
    "    Nb = 32\n",
    "    Nr = 14\n",
    "    for i in range(Nk,Nb * (Nr+1)):\n",
    "        temp = keyList[(i-1)*4:i*4]\n",
    "        if i%Nk==0:\n",
    "            temp = keyScheduleCore(temp,Nk)\n",
    "        elif Nk > 6 and i%Nk==4:\n",
    "            temp = shiftRows2(temp)\n",
    "        keyList.extend(keyScheduleCore(temp,Nk))\n",
    "    return keyList\n",
    "\n",
    "ex = getKey('testKey')\n",
    "# print(ex)\n",
    "expandKey(ex)"
   ]
  },
  {
   "cell_type": "code",
   "execution_count": null,
   "metadata": {},
   "outputs": [],
   "source": [
    "def expandKey(key):\n",
    "    keyList = []\n",
    "    keyList.extend(key)\n",
    "    Nk = 8\n",
    "    Nb = 32\n",
    "    Nr = 14\n",
    "    i = 0\n",
    "    while(i<Nk):\n",
    "        keyList[i]=(key[4*i],key[4*i+1], key[4*i+2], key[4*i+3])"
   ]
  },
  {
   "cell_type": "code",
   "execution_count": 33,
   "metadata": {},
   "outputs": [
    {
     "name": "stdout",
     "output_type": "stream",
     "text": [
      "[165, 115, 194, 159]\n",
      "[161, 118, 196, 152]\n",
      "[169, 127, 206, 147]\n",
      "[165, 114, 192, 156]\n",
      "[22, 81, 168, 205]\n",
      "[2, 68, 190, 218]\n",
      "[26, 93, 164, 193]\n",
      "[6, 64, 186, 222]\n",
      "[174, 135, 223, 240]\n",
      "[15, 241, 27, 104]\n",
      "[166, 142, 213, 251]\n",
      "[3, 252, 21, 103]\n",
      "[109, 225, 241, 72]\n",
      "[111, 165, 79, 146]\n",
      "[117, 248, 235, 83]\n",
      "[115, 184, 81, 141]\n",
      "[198, 86, 130, 127]\n",
      "[201, 167, 153, 23]\n",
      "[111, 41, 76, 236]\n",
      "[108, 213, 89, 139]\n",
      "[61, 226, 58, 117]\n",
      "[82, 71, 117, 231]\n",
      "[39, 191, 158, 180]\n",
      "[84, 7, 207, 57]\n",
      "[11, 220, 144, 95]\n",
      "[194, 123, 9, 72]\n",
      "[173, 82, 69, 164]\n",
      "[193, 135, 28, 47]\n",
      "[69, 245, 166, 96]\n",
      "[23, 178, 211, 135]\n",
      "[48, 13, 77, 51]\n",
      "[100, 10, 130, 10]\n",
      "[124, 207, 247, 28]\n",
      "[190, 180, 254, 84]\n",
      "[19, 230, 187, 240]\n",
      "[210, 97, 167, 223]\n",
      "[240, 26, 250, 254]\n",
      "[231, 168, 41, 121]\n",
      "[215, 165, 100, 74]\n",
      "[179, 175, 230, 64]\n",
      "[37, 65, 254, 113]\n",
      "[155, 245, 0, 37]\n",
      "[136, 19, 187, 213]\n",
      "[90, 114, 28, 10]\n",
      "[78, 90, 102, 153]\n",
      "[169, 242, 79, 224]\n",
      "[126, 87, 43, 170]\n",
      "[205, 248, 205, 234]\n",
      "[36, 252, 121, 204]\n",
      "[191, 9, 121, 233]\n",
      "[55, 26, 194, 60]\n",
      "[109, 104, 222, 54]\n",
      "[]\n",
      "[]\n",
      "[]\n",
      "[]\n",
      "[]\n",
      "[]\n",
      "[]\n",
      "[]\n"
     ]
    }
   ],
   "source": [
    "d = [165, 115, 194, 159, 161, 118, 196, 152, 169, 127, 206, 147, 165, 114, 192, 156, 22, 81, 168, 205, 2, 68, 190, 218, 26, 93, 164, 193, 6, 64, 186, 222, 174, 135, 223, 240, 15, 241, 27, 104, 166, 142, 213, 251, 3, 252, 21, 103, 109, 225, 241, 72, 111, 165, 79, 146, 117, 248, 235, 83, 115, 184, 81, 141, 198, 86, 130, 127, 201, 167, 153, 23, 111, 41, 76, 236, 108, 213, 89, 139, 61, 226, 58, 117, 82, 71, 117, 231, 39, 191, 158, 180, 84, 7, 207, 57, 11, 220, 144, 95, 194, 123, 9, 72, 173, 82, 69, 164, 193, 135, 28, 47, 69, 245, 166, 96, 23, 178, 211, 135, 48, 13, 77, 51, 100, 10, 130, 10, 124, 207, 247, 28, 190, 180, 254, 84, 19, 230, 187, 240, 210, 97, 167, 223, 240, 26, 250, 254, 231, 168, 41, 121, 215, 165, 100, 74, 179, 175, 230, 64, 37, 65, 254, 113, 155, 245, 0, 37, 136, 19, 187, 213, 90, 114, 28, 10, 78, 90, 102, 153, 169, 242, 79, 224, 126, 87, 43, 170, 205, 248, 205, 234, 36, 252, 121, 204, 191, 9, 121, 233, 55, 26, 194, 60, 109, 104, 222, 54]\n",
    "start = 0\n",
    "end = 240\n",
    "step = 4\n",
    "for i in range(0,240,4):\n",
    "    x = i\n",
    "    print(d[x:x+step])"
   ]
  },
  {
   "cell_type": "code",
   "execution_count": 34,
   "metadata": {},
   "outputs": [
    {
     "name": "stdout",
     "output_type": "stream",
     "text": [
      "32\n",
      "2\n",
      "64\n",
      "3\n",
      "96\n",
      "4\n",
      "128\n",
      "5\n",
      "160\n",
      "6\n",
      "192\n",
      "7\n",
      "224\n",
      "8\n"
     ]
    }
   ],
   "source": [
    "bytesGen = 32\n",
    "rCount = 1\n",
    "while(bytesGen < 240):\n",
    "    \n",
    "    if(bytesGen % 32 == 0):\n",
    "        rCount +=1\n",
    "        print(bytesGen)\n",
    "        print(rCount)\n",
    "    \n",
    "    bytesGen += 1"
   ]
  },
  {
   "cell_type": "markdown",
   "metadata": {},
   "source": [
    "165, 115, 194, 159, \n",
    "161, 118, 196, 152, 169,"
   ]
  },
  {
   "cell_type": "code",
   "execution_count": 35,
   "metadata": {},
   "outputs": [
    {
     "name": "stdout",
     "output_type": "stream",
     "text": [
      "[0, 1, 2, 3, 4, 5, 6, 7, 8, 9, 10, 11, 12, 13, 14, 15, 16, 17, 18, 19, 20, 21, 22, 23, 24, 25, 26, 27, 28, 29, 30, 31]\n",
      "None\n",
      "None\n"
     ]
    }
   ],
   "source": [
    "#Test your code\n",
    "key = getKey('testKey')\n",
    "print(key)\n",
    "expandedKey = expandKey(key)\n",
    "print(expandedKey)"
   ]
  },
  {
   "cell_type": "markdown",
   "metadata": {},
   "source": [
    "**Output:**\n",
    "\n",
    "[0, 1, 2, 3, 4, 5, 6, 7, 8, 9, 10, 11, 12, 13, 14, 15, 16, 17, 18, 19, 20, 21, 22, 23, 24, 25, 26, 27, 28, 29, 30, 31]\n",
    "\n",
    "[0, 1, 2, 3, 4, 5, 6, 7, 8, 9, 10, 11, 12, 13, 14, 15, 16, 17, 18, 19, 20, 21, 22, 23, 24, 25, 26, 27, 28, 29, 30, 31, 165, 115, 194, 159, 161, 118, 196, 152, 169, 127, 206, 147, 165, 114, 192, 156, 22, 81, 168, 205, 2, 68, 190, 218, 26, 93, 164, 193, 6, 64, 186, 222, 174, 135, 223, 240, 15, 241, 27, 104, 166, 142, 213, 251, 3, 252, 21, 103, 109, 225, 241, 72, 111, 165, 79, 146, 117, 248, 235, 83, 115, 184, 81, 141, 198, 86, 130, 127, 201, 167, 153, 23, 111, 41, 76, 236, 108, 213, 89, 139, 61, 226, 58, 117, 82, 71, 117, 231, 39, 191, 158, 180, 84, 7, 207, 57, 11, 220, 144, 95, 194, 123, 9, 72, 173, 82, 69, 164, 193, 135, 28, 47, 69, 245, 166, 96, 23, 178, 211, 135, 48, 13, 77, 51, 100, 10, 130, 10, 124, 207, 247, 28, 190, 180, 254, 84, 19, 230, 187, 240, 210, 97, 167, 223, 240, 26, 250, 254, 231, 168, 41, 121, 215, 165, 100, 74, 179, 175, 230, 64, 37, 65, 254, 113, 155, 245, 0, 37, 136, 19, 187, 213, 90, 114, 28, 10, 78, 90, 102, 153, 169, 242, 79, 224, 126, 87, 43, 170, 205, 248, 205, 234, 36, 252, 121, 204, 191, 9, 121, 233, 55, 26, 194, 60, 109, 104, 222, 54]"
   ]
  },
  {
   "cell_type": "markdown",
   "metadata": {},
   "source": [
    "# 3. createRoundKey()"
   ]
  },
  {
   "cell_type": "markdown",
   "metadata": {},
   "source": [
    "Method createRoundKey() samples the expanded key. In total there are 14 rounds in AES-256, and 14 round keys need to be extracted from the expanded key."
   ]
  },
  {
   "cell_type": "markdown",
   "metadata": {},
   "source": [
    "**Method:** createRoundKey(expandedKey, n)\n",
    "\n",
    "**Input:** expandedKey (240 bytes) and round number n\n",
    "\n",
    "**Output:** roundKey (16 bytes)"
   ]
  },
  {
   "cell_type": "markdown",
   "metadata": {},
   "source": [
    "Explain what you do and why here in this cell (in English):\n"
   ]
  },
  {
   "cell_type": "code",
   "execution_count": 36,
   "metadata": {},
   "outputs": [],
   "source": [
    "# createRoundKey(expandedKey, n) method here:\n"
   ]
  },
  {
   "cell_type": "code",
   "execution_count": 37,
   "metadata": {},
   "outputs": [
    {
     "ename": "SyntaxError",
     "evalue": "invalid character '”' (U+201D) (2598279799.py, line 3)",
     "output_type": "error",
     "traceback": [
      "\u001b[1;36m  Cell \u001b[1;32mIn [37], line 3\u001b[1;36m\u001b[0m\n\u001b[1;33m    key = getKey(”testKey”)\u001b[0m\n\u001b[1;37m                 ^\u001b[0m\n\u001b[1;31mSyntaxError\u001b[0m\u001b[1;31m:\u001b[0m invalid character '”' (U+201D)\n"
     ]
    }
   ],
   "source": [
    "#Test your Code:\n",
    "\n",
    "key = getKey(”testKey”)\n",
    "expandedKey = expandKey(key)\n",
    "roundKey0 = createRoundKey(expandedKey,0)\n",
    "roundKey7 = createRoundKey(expandedKey,7)\n",
    "roundKey14 = createRoundKey(expandedKey,14)\n",
    "print(expandedKey)\n",
    "print(roundKey0)\n",
    "print(roundKey7)\n",
    "print(roundKey14)"
   ]
  },
  {
   "cell_type": "markdown",
   "metadata": {},
   "source": [
    "**Output:**\n",
    "\n",
    "[0, 1, 2, 3, 4, 5, 6, 7, 8, 9, 10, 11, 12, 13, 14, 15, 16, 17, 18, 19, 20, 21, 22, 23, 24, 25, 26, 27, 28, 29, 30, 31, 165, 115, 194, 159, 161, 118, 196, 152, 169, 127, 206, 147, 165, 114, 192, 156, 22, 81, 168, 205, 2, 68, 190, 218, 26, 93, 164, 193, 6, 64, 186, 222, 174, 135, 223, 240, 15, 241, 27, 104, 166, 142, 213, 251, 3, 252, 21, 103, 109, 225, 241, 72, 111, 165, 79, 146, 117, 248, 235, 83, 115, 184, 81, 141, 198, 86, 130, 127, 201, 167, 153, 23, 111, 41, 76, 236, 108, 213, 89, 139, 61, 226, 58, 117, 82, 71, 117, 231, 39, 191, 158, 180, 84, 7, 207, 57, 11, 220, 144, 95, 194, 123, 9, 72, 173, 82, 69, 164, 193, 135, 28, 47, 69, 245, 166, 96, 23, 178, 211, 135, 48, 13, 77, 51, 100, 10, 130, 10, 124, 207, 247, 28, 190, 180, 254, 84, 19, 230, 187, 240, 210, 97, 167, 223, 240, 26, 250, 254, 231, 168, 41, 121, 215, 165, 100, 74, 179, 175, 230, 64, 37, 65, 254, 113, 155, 245, 0, 37, 136, 19, 187, 213, 90, 114, 28, 10, 78, 90, 102, 153, 169, 242, 79, 224, 126, 87, 43, 170, 205, 248, 205, 234, 36, 252, 121, 204, 191, 9, 121, 233, 55, 26, 194, 60, 109, 104, 222, 54]\n",
    "\n",
    "[0, 1, 2, 3, 4, 5, 6, 7, 8, 9, 10, 11, 12, 13, 14, 15]\n",
    "\n",
    "[61, 226, 58, 117, 82, 71, 117, 231, 39, 191, 158, 180, 84, 7, 207, 57]\n",
    "\n",
    "[36, 252, 121, 204, 191, 9, 121, 233, 55, 26, 194, 60, 109, 104, 222, 54]\n"
   ]
  },
  {
   "cell_type": "markdown",
   "metadata": {},
   "source": [
    "# 4. addRoundKey()"
   ]
  },
  {
   "cell_type": "markdown",
   "metadata": {},
   "source": [
    "addRoundKey() XORs each element of a roundkey with a block. <br>See: https://en.wikipedia.org/wiki/Advanced_Encryption_Standard#The_AddRoundKey_step"
   ]
  },
  {
   "cell_type": "markdown",
   "metadata": {},
   "source": [
    "**Method:** addRoundKey(block,roundKey)\n",
    "\n",
    "**Input:** block (16 bytes) and roundKey (16 bytes)\n",
    "\n",
    "**Output:** block (16 bytes)"
   ]
  },
  {
   "cell_type": "markdown",
   "metadata": {},
   "source": [
    "Explain what you do and why here in this cell (in English):\n"
   ]
  },
  {
   "cell_type": "code",
   "execution_count": null,
   "metadata": {},
   "outputs": [],
   "source": [
    "# addRoundKey(block,roundKey) method here:\n"
   ]
  },
  {
   "cell_type": "code",
   "execution_count": null,
   "metadata": {},
   "outputs": [],
   "source": [
    "#Test your Code:\n",
    "\n",
    "key = getKey(”testKey”)\n",
    "testBlock = getBlock(”testBlock”)\n",
    "expandedKey = expandKey(key)\n",
    "roundKey0 = createRoundKey(expandedKey,0)\n",
    "addedRoundKeyToBlock = addRoundKey(testBlock,roundKey0)\n",
    "print(addedRoundKeyToBlock)\n"
   ]
  },
  {
   "cell_type": "markdown",
   "metadata": {},
   "source": [
    "**Output:**\n",
    "\n",
    "[0, 16, 32, 48, 64, 80, 96, 112, 128, 144, 160, 176, 192, 208, 224, 240]"
   ]
  },
  {
   "cell_type": "markdown",
   "metadata": {},
   "source": [
    "# Cryptography Lab 4, 5, and 6"
   ]
  },
  {
   "cell_type": "markdown",
   "metadata": {},
   "source": [
    "A large text file tWotW.txt is now available on Learn. Your task in Lab 6 is to read this file,Split it into blocks, Encrypt the blocks, and produce an encrypted version of the file. Then, read the encrypted file block by block and decrypt it. Upload the encrypted version of tWOW.txt to Learn, as well. <br>Labs 1-6 must be merged in one JNB file and that file must be compressed with the corresponding .pdf file and encryptedtWOW.txt (the encrypted version of tWOW.txt), that is, your final submission includes three files compressed into one .rar or .zip file:\n",
    "\n",
    "1. AES labs 1-6 in one .ipynb file,\n",
    "2. the .ipynb file converted into .pdf, and\n",
    "3. encryptedtWOW.txt by you."
   ]
  },
  {
   "cell_type": "markdown",
   "metadata": {},
   "source": [
    "Add brief explanations regarding how you built each method, and why each method is needed (in English).\n",
    "\n",
    "Sometimes it is good to define helper methods in addition to the main methods before the actual methods. You may add helper methods before the main methods in the same Python cell."
   ]
  },
  {
   "cell_type": "markdown",
   "metadata": {},
   "source": [
    "# Lab 4 \n",
    "## Encryption\n",
    "\n",
    "By now all essential parts of AES has been implemented. What is left to do is to call all the methods in the correct order to encrypt a block. We are going to follow the description provided here:\n",
    "\n",
    "https://en.wikipedia.org/wiki/Advanced_Encryption_Standard#High-level_description_of_the_algorithm\n",
    "\n",
    "More specifically, the encryption method should perform the following steps:\n"
   ]
  },
  {
   "cell_type": "code",
   "execution_count": null,
   "metadata": {},
   "outputs": [],
   "source": [
    "#**Initialize:**\n",
    "\n",
    "expandKey(key)\n",
    "\n",
    "#**0-th round:**\n",
    "\n",
    "createRoundKey(expandedKey,0)\n",
    "addRoundKey(block, roundKey)\n",
    "\n",
    "#**1-st to 13:th round:**\n",
    "\n",
    "createRoundKey(expandedKey,i)\n",
    "subBytes(block)\n",
    "shiftRows(block)\n",
    "mixColumns(block)\n",
    "addRoundKey(block, roundKey)\n",
    "\n",
    "#**14:th round:**\n",
    "\n",
    "createRoundKey(expandedKey,14)\n",
    "subBytes(block)\n",
    "shiftRows(block)\n",
    "addRoundKey(block, roundKey)\n",
    "\n",
    "#**Return:** block\n"
   ]
  },
  {
   "cell_type": "markdown",
   "metadata": {},
   "source": [
    "# encrypt(block, key)"
   ]
  },
  {
   "cell_type": "markdown",
   "metadata": {},
   "source": [
    "**Method name:** encrypt(blocks, key)\n",
    "\n",
    "**Input:** block and key\n",
    "\n",
    "**Output:** encrypted block"
   ]
  },
  {
   "cell_type": "markdown",
   "metadata": {},
   "source": [
    "Explain what you do and why here in this cell (in English):\n"
   ]
  },
  {
   "cell_type": "code",
   "execution_count": null,
   "metadata": {},
   "outputs": [],
   "source": [
    "# encrypt(block, key) method here:\n"
   ]
  },
  {
   "cell_type": "code",
   "execution_count": null,
   "metadata": {},
   "outputs": [],
   "source": [
    "#test your Code:\n",
    "\n",
    "key = getKey(”testKey”)\n",
    "block = getBlock(”testBlock”)\n",
    "print(block)\n",
    "encryptedBlock = encrypt(block,key)\n",
    "print(encryptedBlock)"
   ]
  },
  {
   "cell_type": "markdown",
   "metadata": {},
   "source": [
    "**Output:**\n",
    "\n",
    "    [0, 17, 34, 51, 68, 85, 102, 119, 136, 153, 170, 187, 204, 221, 238, 255]\n",
    "\n",
    "    [142, 162, 183, 202, 81, 103, 69, 191, 234, 252, 73, 144, 75, 73, 96, 137]"
   ]
  },
  {
   "cell_type": "markdown",
   "metadata": {},
   "source": [
    "# Lab 5\n",
    "\n",
    "## Decryption\n",
    "\n",
    "Again, see: https://en.wikipedia.org/wiki/Advanced_Encryption_Standard#High-level_description_of_the_algorithm\n"
   ]
  },
  {
   "cell_type": "markdown",
   "metadata": {},
   "source": [
    "## decrypt(block, key)"
   ]
  },
  {
   "cell_type": "markdown",
   "metadata": {},
   "source": [
    "**Input:** block and key\n",
    "\n",
    "**Output:** decrypted block\n"
   ]
  },
  {
   "cell_type": "code",
   "execution_count": null,
   "metadata": {},
   "outputs": [],
   "source": [
    "# decrypt(block, key) method here:\n"
   ]
  },
  {
   "cell_type": "markdown",
   "metadata": {},
   "source": [
    "Explain what you do and why here in this cell (in English):\n"
   ]
  },
  {
   "cell_type": "code",
   "execution_count": null,
   "metadata": {},
   "outputs": [],
   "source": [
    "#Test your Code:\n",
    "\n",
    "key = getKey(”testKey”)\n",
    "block = getBlock(”testBlock”)\n",
    "print(block)\n",
    "encryptedBlock = encrypt(block,key)\n",
    "print(encryptedBlock)\n",
    "decryptedBlock = decrypt(encryptedBlock,key)\n",
    "print(decryptedBlock)"
   ]
  },
  {
   "cell_type": "markdown",
   "metadata": {},
   "source": [
    "**Output:**\n",
    "\n",
    "    [0, 17, 34, 51, 68, 85, 102, 119, 136, 153, 170, 187, 204, 221, 238, 255]\n",
    "\n",
    "    [142, 162, 183, 202, 81, 103, 69, 191, 234, 252, 73, 144, 75, 73, 96, 137]\n",
    "\n",
    "    [0, 17, 34, 51, 68, 85, 102, 119, 136, 153, 170, 187, 204, 221, 238, 255]"
   ]
  },
  {
   "cell_type": "markdown",
   "metadata": {},
   "source": [
    "More specifically, the decryption method should perform the following steps:"
   ]
  },
  {
   "cell_type": "code",
   "execution_count": null,
   "metadata": {},
   "outputs": [],
   "source": [
    "#**Initialize:**\n",
    "\n",
    "expandedKey(key)\n",
    "\n",
    "#**14-th round:**\n",
    "\n",
    "createRoundKey(expandedKey,14)\n",
    "addRoundKey(block, roundKey)\n",
    "shiftRowsInv(block)\n",
    "subBytesInv(block)\n",
    "\n",
    "#**13-th to 1:st round:**\n",
    "\n",
    "createRoundKey(expandedKey,i)\n",
    "addRoundKey(block, roundKey)\n",
    "mixColumnsInv(block)\n",
    "shiftRowsInv(block)\n",
    "subBytesInv(block)\n",
    "\n",
    "#**0:th round:**\n",
    "\n",
    "createRoundKey(expandedKey,0)\n",
    "addRoundKey(block, x)\n",
    "\n",
    "#**Return:** block"
   ]
  },
  {
   "cell_type": "markdown",
   "metadata": {},
   "source": [
    "# Lab 6"
   ]
  },
  {
   "cell_type": "markdown",
   "metadata": {},
   "source": [
    "By now you should have implemented the methods encrypt() and decrypt(). Both take one block and one key as input and output a block. In the last lab you will apply your implementation to a larger file, analyse your results and prepare for your examination on the project.\n",
    "\n",
    "A large text file tWotW.txt is now available on Learn. Your task is to read this file, split it into blocks,encrypt the blocks, and produce an encrypted version of the file. Read the encrypted file block by block and decrypt it."
   ]
  },
  {
   "cell_type": "markdown",
   "metadata": {},
   "source": [
    "## Key\n",
    "\n",
    "### Question 1: What is the encryption key are you using (in hex format)?\n",
    "\n",
    "Question 1 answer:\n"
   ]
  },
  {
   "cell_type": "markdown",
   "metadata": {},
   "source": [
    "### Question 2: What is the avalanche effect in cryptography? If one bit is changed in a key, what should happen to the ciphertext? This is a theoretical question, no need to demonstrate this in practice.\n",
    "\n",
    "Question 2 answer:\n",
    "\n"
   ]
  },
  {
   "cell_type": "markdown",
   "metadata": {},
   "source": [
    "## Confusion and diffusion\n",
    "\n",
    "See: https://en.wikipedia.org/wiki/Confusion_and_diffusion\n",
    "### Question 3: What is confusion and how is it achieved in AES?\n",
    "\n",
    "Question 3 answer:\n"
   ]
  },
  {
   "cell_type": "markdown",
   "metadata": {},
   "source": [
    "### Question 4: What is diffusion and how is it achieved in AES?\n",
    "\n",
    "Question 4 answer:\n",
    "\n"
   ]
  },
  {
   "cell_type": "markdown",
   "metadata": {},
   "source": [
    "## Mode of operation\n",
    "\n",
    "See: https://en.wikipedia.org/wiki/Block_cipher_mode_of_operation#Common_modes\n",
    "\n",
    "### Question 5: You are free to apply any mode of operation described in the article above. ECB is the easiest to implement, but it has some weaknesses. What are these weaknesses?\n",
    "\n",
    "Question 5 answer:\n"
   ]
  },
  {
   "cell_type": "markdown",
   "metadata": {},
   "source": [
    "### Question 6: A stronger mode from a security point-of-view is CBC. It is not much harder to implement but much stronger. What are the advantages and disadvantages of CBC compared to ECB?\n",
    "\n",
    "Question 6 answer:\n",
    "\n"
   ]
  },
  {
   "cell_type": "markdown",
   "metadata": {},
   "source": [
    "### Question 7: What mode of operation are you using? Describe how it works.\n",
    "\n",
    "Question 7 answer:\n",
    "\n"
   ]
  },
  {
   "cell_type": "markdown",
   "metadata": {},
   "source": [
    "## Performance\n",
    "\n",
    "### Question 8: How many blocks does the file tWotW.txt consist of?\n",
    "\n",
    "Question 8 answer:\n"
   ]
  },
  {
   "cell_type": "markdown",
   "metadata": {},
   "source": [
    "### Question 9: How long does it take to read the file, encrypt it and store (write to disk) the encrypted file? You can import and use the time class in Python for this. Use any key you wish.\n",
    "\n",
    "Question 9 answer:\n",
    "\n"
   ]
  },
  {
   "cell_type": "markdown",
   "metadata": {},
   "source": [
    "### Question 10: How long does it take to read the encrypted file, decrypt it and store the plain text file?\n",
    "\n",
    "Question 10 answer:\n",
    "\n"
   ]
  },
  {
   "cell_type": "markdown",
   "metadata": {},
   "source": [
    "### Question 11: Do the encryption and decryption times differ? If so, why?\n",
    "\n",
    "Question 11 answer:\n",
    "\n"
   ]
  },
  {
   "cell_type": "markdown",
   "metadata": {},
   "source": [
    "### Question 12: Give suggestions regarding how you could improve the performance of your code.\n",
    "\n",
    "Question 12 answer:\n",
    "\n"
   ]
  },
  {
   "cell_type": "markdown",
   "metadata": {},
   "source": [
    "### Question 13: Try to compress (.zip or other compression) both the plain text file and the encrypted file. Are there any differences in the size of these files? If so why? Is it better to compress first and encrypt later or encrypt first and compress later? Motivate your answer!\n",
    "\n",
    "Question 13 answer:\n",
    "\n"
   ]
  },
  {
   "cell_type": "markdown",
   "metadata": {},
   "source": [
    "### Notes:\n",
    "\n",
    "During your presentation we will look at your code together and we will ask questions regarding your implementation. You must be able to explain how all parts of your code works. Feel free to add comments to the code and text cells to help your explanation.\n",
    "\n",
    "If you get help from others you **MUST** comment this in your code. You should comment if you have discussed your code or collaborated with fellow students and comment this for every method and give credit to the right person. The same goes if you have looked at code from the internet. Provide links.\n",
    "\n",
    "Upload the encrypted version encryptedtWOW.txt of the original file tWOW.txt to Learn, as well. Make sure that the decrypted file is identical to the original file tWOW.txt."
   ]
  }
 ],
 "metadata": {
  "kernelspec": {
   "display_name": "Python 3.10.5 64-bit",
   "language": "python",
   "name": "python3"
  },
  "language_info": {
   "codemirror_mode": {
    "name": "ipython",
    "version": 3
   },
   "file_extension": ".py",
   "mimetype": "text/x-python",
   "name": "python",
   "nbconvert_exporter": "python",
   "pygments_lexer": "ipython3",
   "version": "3.10.5"
  },
  "vscode": {
   "interpreter": {
    "hash": "85b40fe2041d07446ce04a4d73893508faa94764b231bab056b823d5e897e796"
   }
  }
 },
 "nbformat": 4,
 "nbformat_minor": 4
}
